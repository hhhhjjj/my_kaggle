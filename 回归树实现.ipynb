{
 "cells": [
  {
   "cell_type": "code",
   "execution_count": null,
   "metadata": {
    "collapsed": true
   },
   "outputs": [],
   "source": [
    "# 如果预测某个连续变量的大小，最简单的模型之一就是用平均值。比如同事的平均年龄是 28 岁，那么新来了一批同事，在不知道这些同事的任何信息的情况下，\n",
    "# 直觉上用平均值 28 来预测是比较准确的，至少比 0 岁或者 100 岁要靠谱一些"
   ]
  },
  {
   "cell_type": "code",
   "execution_count": null,
   "metadata": {},
   "outputs": [],
   "source": [
    "# 仍然是预测同事年龄，这次我们预先知道了同事的职级，假设职级的范围是整数1-10，\n",
    "# 一个思路是根据职级把同事分为两组，这两组分别应用我们之前提到的“平均值”模型"
   ]
  },
  {
   "cell_type": "code",
   "execution_count": null,
   "metadata": {},
   "outputs": [],
   "source": [
    "# 还有一个问题待解决，如何取一个最佳的分割点对不同职级的同事进行分组呢？\n",
    "# 尝试所有 m 个可能的分割点 P_i，沿用之前的损失函数，对 A、B 两组分别计算 Loss 并相加得到 L_i。\n",
    "# 最小的 L_i 所对应的 P_i 就是我们要找的“最佳分割点”。"
   ]
  },
  {
   "cell_type": "code",
   "execution_count": null,
   "metadata": {},
   "outputs": [],
   "source": [
    "# 后面就是继续运用其他变量来一个个分解进行预测了"
   ]
  },
  {
   "cell_type": "code",
   "execution_count": null,
   "metadata": {},
   "outputs": [],
   "source": [
    "class Node(object):\n",
    "    def __init__(self, score=None):\n",
    "        # 构造函数\n",
    "        self.score = score\n",
    "        self.left = None\n",
    "        self.right = None\n",
    "        self.feature = None\n",
    "        self.split = None"
   ]
  },
  {
   "cell_type": "code",
   "execution_count": null,
   "metadata": {},
   "outputs": [],
   "source": [
    "class RegressionTree(object):\n",
    "    def __init__(self):\n",
    "        self.root = Node()\n",
    "        self.height = 0"
   ]
  },
  {
   "cell_type": "code",
   "execution_count": null,
   "metadata": {},
   "outputs": [],
   "source": [
    "def _get_split_mse(self, X, y, idx, feature, split):\n",
    "\t'''\n",
    "\tX:训练样本输入\n",
    "\ty:训练样本输出\n",
    "\tidx:该分支对应的样本编号\n",
    "\tfeaure: 特征\n",
    "\tsplit: 划分点\n",
    "\t'''\n",
    "\tsplit_x1=X[X[idex,feature]<split]\n",
    "\tsplit_y1=y[X[idex,feature]<split]\n",
    "\tsplit_x2=X[X[idex,feature]>=split]\n",
    "\tsplit_y2=y[X[idex,feature]>=split]\n",
    "    split_avg = [np.mean(split_y1), np.mean(split_y2)]\n",
    "    split_mape = [np.sum((split_y1-split_avg[0])**2),np.sum((split_y2-split_avg[1])**2)]\n",
    "    return split_mse, split, split_avg"
   ]
  },
  {
   "cell_type": "code",
   "execution_count": null,
   "metadata": {},
   "outputs": [],
   "source": [
    "def _choose_split_point(self, X, y, idx, feature):\n",
    "    feature_x = X[idx,feature]\n",
    "    uniques = np.unique(feature_x)\n",
    "    if len(uniques)==1:\n",
    "    \treturn Noe\n",
    "\n",
    "    mape, split, split_avg = min(\n",
    "   (self._get_split_mse(X, y, idx, feature, split)\n",
    "       for split in unique[1:]), key=lambda x: x[0])\n",
    "    return mape, feature, split, split_avg\n"
   ]
  },
  {
   "cell_type": "code",
   "execution_count": null,
   "metadata": {},
   "outputs": [],
   "source": [
    "def _choose_feature(self, X, y, idx):\n",
    "    m = len(X[0])\n",
    "    split_rets = [x for x in map(lambda x: self._choose_split_point(\n",
    "        X, y, idx, x), range(m)) if x is not None]\n",
    " \n",
    "    if split_rets == []:\n",
    "        return None\n",
    "    _, feature, split, split_avg = min(\n",
    "        split_rets, key=lambda x: x[0])\n",
    " \n",
    "    idx_split = [[], []]\n",
    "    while idx:\n",
    "        i = idx.pop()\n",
    "        xi = X[i][feature]\n",
    "        if xi < split:\n",
    "            idx_split[0].append(i)\n",
    "        else:\n",
    "            idx_split[1].append(i)\n",
    "    return feature, split, split_avg, idx_split"
   ]
  },
  {
   "cell_type": "code",
   "execution_count": null,
   "metadata": {},
   "outputs": [],
   "source": [
    "def _expr2literal(self, expr):\n",
    "        feature, op, split = expr\n",
    "        op = \">=\" if op == 1 else \"<\"\n",
    "        return \"Feature%d %s %.4f\" % (feature, op, split)  "
   ]
  },
  {
   "cell_type": "code",
   "execution_count": null,
   "metadata": {},
   "outputs": [],
   "source": [
    "def _get_rules(self):\n",
    "    que = [[self.root, []]]\n",
    "    self.rules = []\n",
    "     \n",
    "    while que:\n",
    "        nd, exprs = que.pop(0)\n",
    "        if not(nd.left or nd.right):\n",
    "            literals = list(map(self._expr2literal, exprs))\n",
    "            self.rules.append([literals, nd.score])\n",
    "     \n",
    "        if nd.left:\n",
    "            rule_left = []\n",
    "            rule_left.append([nd.feature, -1, nd.split])\n",
    "            que.append([nd.left, rule_left])\n",
    "     \n",
    "        if nd.right:\n",
    "            rule_right =[]\n",
    "            rule_right.append([nd.feature, 1, nd.split])\n",
    "            que.append([nd.right, rule_right])"
   ]
  }
 ],
 "metadata": {
  "kernelspec": {
   "display_name": "Python 2",
   "language": "python",
   "name": "python2"
  },
  "language_info": {
   "codemirror_mode": {
    "name": "ipython",
    "version": 2
   },
   "file_extension": ".py",
   "mimetype": "text/x-python",
   "name": "python",
   "nbconvert_exporter": "python",
   "pygments_lexer": "ipython2",
   "version": "2.7.6"
  }
 },
 "nbformat": 4,
 "nbformat_minor": 0
}
