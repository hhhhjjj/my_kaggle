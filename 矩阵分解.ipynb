{
 "cells": [
  {
   "cell_type": "code",
   "execution_count": null,
   "metadata": {
    "collapsed": true
   },
   "outputs": [],
   "source": [
    "# 矩阵分解把大矩阵分解成小矩阵，实际计算的时候就算这两个小矩阵就是了\n",
    "# SVD如何为每个用户和物品生成生成k维向量，这个k怎么找，就用机器学习找损失函数就行了\n",
    "# 当然还有biasSVD其实就是整体增加偏置而已，这个之前研究过"
   ]
  },
  {
   "cell_type": "code",
   "execution_count": null,
   "metadata": {},
   "outputs": [],
   "source": [
    "# 因为大部分矩阵其实非常稀疏，所以要想拌饭利用这些隐式数据\n",
    "# SVD++主要就是在SVD模型中融入用户对物品的隐式行为\n",
    "# 某个用户对某个电影进行了评分，那么说明他看过这部电影，那么这样的行为事实上蕴含了一定的信息\n",
    "# 评分的行为从侧面反映了用户的喜好，可以将这样的反映通过隐式参数的形式体现在模型中\n",
    "# 评分等于显式兴趣+隐式兴趣\n",
    "# 隐式兴趣就是这个用户评价过的所有电影的集合乘以个人喜好的偏置\n",
    "# 然后再梯度下降求解就是了"
   ]
  },
  {
   "cell_type": "code",
   "execution_count": null,
   "metadata": {},
   "outputs": [],
   "source": []
  },
  {
   "cell_type": "code",
   "execution_count": null,
   "metadata": {},
   "outputs": [],
   "source": []
  },
  {
   "cell_type": "code",
   "execution_count": null,
   "metadata": {},
   "outputs": [],
   "source": []
  },
  {
   "cell_type": "code",
   "execution_count": null,
   "metadata": {},
   "outputs": [],
   "source": []
  }
 ],
 "metadata": {
  "kernelspec": {
   "display_name": "Python 2",
   "language": "python",
   "name": "python2"
  },
  "language_info": {
   "codemirror_mode": {
    "name": "ipython",
    "version": 2
   },
   "file_extension": ".py",
   "mimetype": "text/x-python",
   "name": "python",
   "nbconvert_exporter": "python",
   "pygments_lexer": "ipython2",
   "version": "2.7.6"
  }
 },
 "nbformat": 4,
 "nbformat_minor": 0
}
