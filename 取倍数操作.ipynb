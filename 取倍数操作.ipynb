{
 "cells": [
  {
   "cell_type": "code",
   "execution_count": 13,
   "metadata": {
    "collapsed": true
   },
   "outputs": [
    {
     "name": "stdout",
     "output_type": "stream",
     "text": [
      "5.0\n"
     ]
    }
   ],
   "source": [
    "res = 0.1123//0.02\n",
    "# 这个就是取整，\n",
    "# 目前来说取整还是没什么问题的 \n",
    "print(res)"
   ]
  },
  {
   "cell_type": "code",
   "execution_count": 9,
   "metadata": {},
   "outputs": [
    {
     "name": "stdout",
     "output_type": "stream",
     "text": [
      "0.019999999999999993\n"
     ]
    }
   ],
   "source": [
    "res = 0.12%0.02\n",
    "# python 浮点数取余居然有问题，也是会气死人\n",
    "# \n",
    "print(res)"
   ]
  },
  {
   "cell_type": "code",
   "execution_count": 22,
   "metadata": {},
   "outputs": [
    {
     "name": "stdout",
     "output_type": "stream",
     "text": [
      "0.01\n"
     ]
    }
   ],
   "source": [
    "from decimal import Decimal\n",
    "# 用这个倒是准确了，但是需要转成字符串形式，\n",
    "# 还好目前我现在这个数据量不大\n",
    "a = Decimal('0.11')\n",
    "b = Decimal('0.02')\n",
    "print(a%b)"
   ]
  },
  {
   "cell_type": "code",
   "execution_count": 23,
   "metadata": {},
   "outputs": [],
   "source": [
    "import pandas as pd\n",
    "sub = pd.read_csv('result.csv')\n",
    "prob_cols = [i for i in sub.columns if i not in ['Group']]"
   ]
  },
  {
   "cell_type": "code",
   "execution_count": 25,
   "metadata": {},
   "outputs": [
    {
     "name": "stdout",
     "output_type": "stream",
     "text": [
      "0      0.243322\n1      0.188408\n2      0.213948\n3      0.246260\n4      0.184565\n         ...   \n115    0.167506\n116    0.083676\n117    0.191166\n118    0.077736\n119    0.184448\nName: Excellent ratio, Length: 120, dtype: float64\nExcellent ratio\n0      0.24\n1      0.18\n2      0.20\n3      0.24\n4      0.18\n       ... \n115    0.16\n116    0.08\n117    0.20\n118    0.08\n119    0.18\nName: Excellent ratio, Length: 120, dtype: float64\n0      0.321463\n1      0.262491\n2      0.311171\n3      0.300914\n4      0.374471\n         ...   \n115    0.244535\n116    0.105739\n117    0.281062\n118    0.097240\n119    0.278210\nName: Good ratio, Length: 120, dtype: float64\nGood ratio\n0      0.32\n1      0.26\n2      0.32\n3      0.30\n4      0.36\n       ... \n115    0.24\n116    0.10\n117    0.28\n118    0.10\n119    0.28\nName: Good ratio, Length: 120, dtype: float64\n0      0.268274\n1      0.368340\n2      0.300772\n3      0.345125\n4      0.249623\n         ...   \n115    0.430988\n116    0.750907\n117    0.346508\n118    0.780968\n119    0.383037\nName: Pass ratio, Length: 120, dtype: float64\nPass ratio\n0      0.26\n1      0.36\n2      0.30\n3      0.34\n4      0.24\n       ... \n115    0.42\n116    0.74\n117    0.34\n118    0.78\n119    0.38\nName: Pass ratio, Length: 120, dtype: float64\n0      0.166941\n1      0.180761\n2      0.174110\n3      0.107701\n4      0.191341\n         ...   \n115    0.156972\n116    0.059678\n117    0.181264\n118    0.044056\n119    0.154305\nName: Fail ratio, Length: 120, dtype: float64\nFail ratio\n0      0.16\n1      0.18\n2      0.16\n3      0.10\n4      0.20\n       ... \n115    0.16\n116    0.04\n117    0.18\n118    0.04\n119    0.16\nName: Fail ratio, Length: 120, dtype: float64\n"
     ]
    }
   ],
   "source": [
    "for i in prob_cols:\n",
    "\t    print(sub[i])\n",
    "\t    print(i)\n",
    "\t    sub[i] = sub[i].apply(lambda x:(x//0.02+1)*0.02 if Decimal(str(x))%Decimal(str(0.02)) > 0.01 else x)\n",
    "\t    sub[i] = sub[i].apply(lambda x:(x//0.02)*0.02 if Decimal(str(x))%Decimal(str(0.02)) < 0.01 else x)\n",
    "        # 这里必须要加else才行，不然会报错的\n",
    "\t    print(sub[i])"
   ]
  },
  {
   "cell_type": "code",
   "execution_count": null,
   "metadata": {},
   "outputs": [],
   "source": []
  }
 ],
 "metadata": {
  "kernelspec": {
   "display_name": "Python 2",
   "language": "python",
   "name": "python2"
  },
  "language_info": {
   "codemirror_mode": {
    "name": "ipython",
    "version": 2
   },
   "file_extension": ".py",
   "mimetype": "text/x-python",
   "name": "python",
   "nbconvert_exporter": "python",
   "pygments_lexer": "ipython2",
   "version": "2.7.6"
  }
 },
 "nbformat": 4,
 "nbformat_minor": 0
}
