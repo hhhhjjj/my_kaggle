{
 "cells": [
  {
   "cell_type": "code",
   "execution_count": 1,
   "metadata": {
    "collapsed": true
   },
   "outputs": [],
   "source": [
    "# 使用最大似然估计有两个条件\n",
    "# 一是知道是什么分布，二是有已知样本"
   ]
  },
  {
   "cell_type": "code",
   "execution_count": 2,
   "metadata": {},
   "outputs": [],
   "source": [
    "# 伯努利分布，就是0-1分布，"
   ]
  },
  {
   "cell_type": "code",
   "execution_count": 3,
   "metadata": {},
   "outputs": [],
   "source": [
    "# 现在有一个黑箱子里面有标有1或2的球共100个，\n",
    "# 现在从中有放回的抽取10个球，结果为{1,2,2,2,1,2,1,1,2,2}，\n",
    "# 估计标有1的球在黑箱子里面有多少个。"
   ]
  },
  {
   "cell_type": "code",
   "execution_count": 4,
   "metadata": {},
   "outputs": [],
   "source": [
    "# 现在假设1有x个，抽到1的概率为p，\n",
    "# 产生试验结果的概率是p的四次方乘以1-p的六次方，假设为P\n",
    "# 现在我们需要求出来整体样本中1的概率p"
   ]
  },
  {
   "cell_type": "code",
   "execution_count": null,
   "metadata": {},
   "outputs": [],
   "source": [
    "# 然后现在对这个产生实验结果的概率公式左右取对数，然后对要求的p求导，让公式为0，就可以算出来p的值了"
   ]
  }
 ],
 "metadata": {
  "kernelspec": {
   "display_name": "Python 2",
   "language": "python",
   "name": "python2"
  },
  "language_info": {
   "codemirror_mode": {
    "name": "ipython",
    "version": 2
   },
   "file_extension": ".py",
   "mimetype": "text/x-python",
   "name": "python",
   "nbconvert_exporter": "python",
   "pygments_lexer": "ipython2",
   "version": "2.7.6"
  }
 },
 "nbformat": 4,
 "nbformat_minor": 0
}
