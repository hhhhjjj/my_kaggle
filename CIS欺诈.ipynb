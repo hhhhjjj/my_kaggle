{
 "cells": [
  {
   "cell_type": "code",
   "execution_count": null,
   "metadata": {
    "collapsed": true
   },
   "outputs": [],
   "source": [
    "# 套路都差不多，主要是这个有时间特征，\n",
    "# 那么到时候可以挖这里\n",
    "# 时间戳一般都不会给真正的时间戳，需要自己处理一下\n",
    "# 尝试着除以什么60，24，365这些\n",
    "# 有时候除下来不一定是整数，\n",
    "# 因为人也不一定会给你完整的一年或者一个月数据\n",
    "# 没有初始时间的话确实不好提取，\n",
    "# 只能看时间或者星期这种相对的"
   ]
  },
  {
   "cell_type": "code",
   "execution_count": null,
   "metadata": {},
   "outputs": [],
   "source": [
    "# 看时间分布就画图\n",
    "# 这种时间的别乱划分训练集和验证集，要前面时间段的来训练"
   ]
  },
  {
   "cell_type": "code",
   "execution_count": null,
   "metadata": {},
   "outputs": [],
   "source": [
    "# 有时候要看训练集和测试集特征数据的分布，\n",
    "# 差异大的就要改改，改不了的就是比赛组织者的问题了"
   ]
  },
  {
   "cell_type": "code",
   "execution_count": null,
   "metadata": {},
   "outputs": [],
   "source": [
    "# 这些都是为了后期模型提升时候用"
   ]
  },
  {
   "cell_type": "code",
   "execution_count": null,
   "metadata": {},
   "outputs": [],
   "source": [
    "# 框架：分类变量：size，uinque，label encoding，mean\n",
    "# 连续变量：\n",
    "# time，hist分箱，correlated相关性"
   ]
  },
  {
   "cell_type": "code",
   "execution_count": null,
   "metadata": {},
   "outputs": [],
   "source": []
  },
  {
   "cell_type": "code",
   "execution_count": null,
   "metadata": {},
   "outputs": [],
   "source": []
  },
  {
   "cell_type": "code",
   "execution_count": null,
   "metadata": {},
   "outputs": [],
   "source": []
  }
 ],
 "metadata": {
  "kernelspec": {
   "display_name": "Python 2",
   "language": "python",
   "name": "python2"
  },
  "language_info": {
   "codemirror_mode": {
    "name": "ipython",
    "version": 2
   },
   "file_extension": ".py",
   "mimetype": "text/x-python",
   "name": "python",
   "nbconvert_exporter": "python",
   "pygments_lexer": "ipython2",
   "version": "2.7.6"
  }
 },
 "nbformat": 4,
 "nbformat_minor": 0
}
