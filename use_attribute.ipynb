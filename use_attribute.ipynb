{
 "cells": [
  {
   "cell_type": "code",
   "execution_count": 1,
   "metadata": {
    "collapsed": false
   },
   "outputs": [
    {
     "name": "stdout",
     "output_type": "stream",
     "text": [
      "first_round_testin  first_round_traini\tsubmit_example.csv\r\n"
     ]
    }
   ],
   "source": [
    "# 查看当前挂载的数据集目录, 该目录下的变更重启环境后会自动还原\n",
    "# View dataset directory. This directory will be recovered automatically after resetting environment. \n",
    "!ls /home/aistudio/data/data12632/\n"
   ]
  },
  {
   "cell_type": "code",
   "execution_count": 2,
   "metadata": {
    "collapsed": false
   },
   "outputs": [
    {
     "name": "stdout",
     "output_type": "stream",
     "text": [
      "result.csv\r\n"
     ]
    }
   ],
   "source": [
    "# 查看工作区文件, 该目录下的变更将会持久保存. 请及时清理不必要的文件, 避免加载过慢.\n",
    "# View personal work directory. All changes under this directory will be kept even after reset. Please clean unnecessary files in time to speed up environment loading.\n",
    "!ls /home/aistudio/work"
   ]
  },
  {
   "cell_type": "code",
   "execution_count": 3,
   "metadata": {
    "collapsed": false
   },
   "outputs": [
    {
     "name": "stdout",
     "output_type": "stream",
     "text": [
      "Looking in indexes: https://pypi.mirrors.ustc.edu.cn/simple/\n",
      "Collecting catboost\n",
      "\u001b[?25l  Downloading https://mirrors.tuna.tsinghua.edu.cn/pypi/web/packages/d0/06/1498178ad11b85653f6cc71a52a8a603e804c12ec50ca5e78d07848f56c3/catboost-0.17.2-cp35-none-manylinux1_x86_64.whl (62.4MB)\n",
      "\u001b[K    100% |████████████████████████████████| 62.4MB 478kB/s ta 0:00:012\n",
      "\u001b[?25hCollecting plotly (from catboost)\n",
      "\u001b[?25l  Downloading https://mirrors.tuna.tsinghua.edu.cn/pypi/web/packages/70/19/8437e22c84083a6d5d8a3c80f4edc73c9dcbb89261d07e6bd13b48752bbd/plotly-4.1.1-py2.py3-none-any.whl (7.1MB)\n",
      "\u001b[K    100% |████████████████████████████████| 7.1MB 3.1MB/s ta 0:00:011\n",
      "\u001b[?25hRequirement already satisfied: matplotlib in /opt/conda/envs/python35-paddle120-env/lib/python3.5/site-packages (from catboost) (2.2.3)\n",
      "Requirement already satisfied: graphviz in /opt/conda/envs/python35-paddle120-env/lib/python3.5/site-packages (from catboost) (0.11)\n",
      "Requirement already satisfied: scipy in /opt/conda/envs/python35-paddle120-env/lib/python3.5/site-packages (from catboost) (1.3.0)\n",
      "Requirement already satisfied: six in /opt/conda/envs/python35-paddle120-env/lib/python3.5/site-packages (from catboost) (1.11.0)\n",
      "Requirement already satisfied: numpy>=1.16.0 in /opt/conda/envs/python35-paddle120-env/lib/python3.5/site-packages (from catboost) (1.16.4)\n",
      "Requirement already satisfied: pandas>=0.24.0 in /opt/conda/envs/python35-paddle120-env/lib/python3.5/site-packages (from catboost) (0.24.2)\n",
      "Collecting retrying>=1.3.3 (from plotly->catboost)\n",
      "  Downloading https://mirrors.tuna.tsinghua.edu.cn/pypi/web/packages/44/ef/beae4b4ef80902f22e3af073397f079c96969c69b2c7d52a57ea9ae61c9d/retrying-1.3.3.tar.gz\n",
      "Requirement already satisfied: pytz in /opt/conda/envs/python35-paddle120-env/lib/python3.5/site-packages (from matplotlib->catboost) (2019.1)\n",
      "Requirement already satisfied: kiwisolver>=1.0.1 in /opt/conda/envs/python35-paddle120-env/lib/python3.5/site-packages (from matplotlib->catboost) (1.1.0)\n",
      "Requirement already satisfied: pyparsing!=2.0.4,!=2.1.2,!=2.1.6,>=2.0.1 in /opt/conda/envs/python35-paddle120-env/lib/python3.5/site-packages (from matplotlib->catboost) (2.4.0)\n",
      "Requirement already satisfied: cycler>=0.10 in /opt/conda/envs/python35-paddle120-env/lib/python3.5/site-packages (from matplotlib->catboost) (0.10.0)\n",
      "Requirement already satisfied: python-dateutil>=2.1 in /opt/conda/envs/python35-paddle120-env/lib/python3.5/site-packages (from matplotlib->catboost) (2.8.0)\n",
      "Requirement already satisfied: setuptools in /opt/conda/envs/python35-paddle120-env/lib/python3.5/site-packages (from kiwisolver>=1.0.1->matplotlib->catboost) (41.2.0)\n",
      "Building wheels for collected packages: retrying\n",
      "  Running setup.py bdist_wheel for retrying ... \u001b[?25ldone\n",
      "\u001b[?25h  Stored in directory: /home/aistudio/.cache/pip/wheels/4a/b7/7f/66e52d08955b288e3590645984c8e6fb1fc665754d722de6c6\n",
      "Successfully built retrying\n",
      "Installing collected packages: retrying, plotly, catboost\n",
      "Successfully installed catboost-0.17.2 plotly-4.1.1 retrying-1.3.3\n"
     ]
    }
   ],
   "source": [
    "! pip install catboost"
   ]
  },
  {
   "cell_type": "code",
   "execution_count": 4,
   "metadata": {
    "collapsed": false
   },
   "outputs": [
    {
     "name": "stdout",
     "output_type": "stream",
     "text": [
      "Looking in indexes: https://pypi.mirrors.ustc.edu.cn/simple/\n",
      "Collecting mlxtend\n",
      "\u001b[?25l  Downloading https://mirrors.tuna.tsinghua.edu.cn/pypi/web/packages/52/04/c362f34f666f0ddc7cf593805e64d64fa670ed96fd9302e68549dd48287d/mlxtend-0.17.0-py2.py3-none-any.whl (1.3MB)\n",
      "\u001b[K    100% |████████████████████████████████| 1.3MB 3.1MB/s ta 0:00:01\n",
      "\u001b[?25hRequirement already satisfied: numpy>=1.16.2 in /opt/conda/envs/python35-paddle120-env/lib/python3.5/site-packages (from mlxtend) (1.16.4)\n",
      "Requirement already satisfied: joblib>=0.13.2 in /opt/conda/envs/python35-paddle120-env/lib/python3.5/site-packages (from mlxtend) (0.13.2)\n",
      "Requirement already satisfied: scipy>=1.2.1 in /opt/conda/envs/python35-paddle120-env/lib/python3.5/site-packages (from mlxtend) (1.3.0)\n",
      "Requirement already satisfied: setuptools in /opt/conda/envs/python35-paddle120-env/lib/python3.5/site-packages (from mlxtend) (41.2.0)\n",
      "Requirement already satisfied: scikit-learn>=0.20.3 in /opt/conda/envs/python35-paddle120-env/lib/python3.5/site-packages (from mlxtend) (0.21.2)\n",
      "Collecting matplotlib>=3.0.0 (from mlxtend)\n",
      "\u001b[33m  Retrying (Retry(total=4, connect=None, read=None, redirect=None, status=None)) after connection broken by 'ProtocolError('Connection aborted.', RemoteDisconnected('Remote end closed connection without response',))': /simple/matplotlib/\u001b[0m\n",
      "\u001b[?25l  Downloading https://mirrors.tuna.tsinghua.edu.cn/pypi/web/packages/89/61/465fb3bfba684b0f53b5c4829c3c89e86e6fe9fdcdfda93e38f1788090f0/matplotlib-3.0.3-cp35-cp35m-manylinux1_x86_64.whl (13.0MB)\n",
      "\u001b[K    100% |████████████████████████████████| 13.0MB 1.4MB/s ta 0:00:01\n",
      "\u001b[?25hRequirement already satisfied: pandas>=0.24.2 in /opt/conda/envs/python35-paddle120-env/lib/python3.5/site-packages (from mlxtend) (0.24.2)\n",
      "Requirement already satisfied: cycler>=0.10 in /opt/conda/envs/python35-paddle120-env/lib/python3.5/site-packages (from matplotlib>=3.0.0->mlxtend) (0.10.0)\n",
      "Requirement already satisfied: kiwisolver>=1.0.1 in /opt/conda/envs/python35-paddle120-env/lib/python3.5/site-packages (from matplotlib>=3.0.0->mlxtend) (1.1.0)\n",
      "Requirement already satisfied: python-dateutil>=2.1 in /opt/conda/envs/python35-paddle120-env/lib/python3.5/site-packages (from matplotlib>=3.0.0->mlxtend) (2.8.0)\n",
      "Requirement already satisfied: pyparsing!=2.0.4,!=2.1.2,!=2.1.6,>=2.0.1 in /opt/conda/envs/python35-paddle120-env/lib/python3.5/site-packages (from matplotlib>=3.0.0->mlxtend) (2.4.0)\n",
      "Requirement already satisfied: pytz>=2011k in /opt/conda/envs/python35-paddle120-env/lib/python3.5/site-packages (from pandas>=0.24.2->mlxtend) (2019.1)\n",
      "Requirement already satisfied: six in /opt/conda/envs/python35-paddle120-env/lib/python3.5/site-packages (from cycler>=0.10->matplotlib>=3.0.0->mlxtend) (1.11.0)\n",
      "\u001b[31mpaddlepaddle-gpu 1.5.1.post97 has requirement matplotlib<=2.2.4; python_version < \"3.6\", but you'll have matplotlib 3.0.3 which is incompatible.\u001b[0m\n",
      "Installing collected packages: matplotlib, mlxtend\n",
      "  Found existing installation: matplotlib 2.2.3\n",
      "    Uninstalling matplotlib-2.2.3:\n",
      "      Successfully uninstalled matplotlib-2.2.3\n",
      "Successfully installed matplotlib-3.0.3 mlxtend-0.17.0\n"
     ]
    }
   ],
   "source": [
    "! pip install mlxtend"
   ]
  },
  {
   "cell_type": "code",
   "execution_count": 5,
   "metadata": {
    "collapsed": false
   },
   "outputs": [
    {
     "name": "stdout",
     "output_type": "stream",
     "text": [
      "Looking in indexes: https://pypi.mirrors.ustc.edu.cn/simple/\n",
      "Collecting xgboost\n",
      "\u001b[?25l  Downloading https://mirrors.tuna.tsinghua.edu.cn/pypi/web/packages/c1/24/5fe7237b2eca13ee0cfb100bec8c23f4e69ce9df852a64b0493d49dae4e0/xgboost-0.90-py2.py3-none-manylinux1_x86_64.whl (142.8MB)\n",
      "\u001b[K    100% |████████████████████████████████| 142.8MB 224kB/s ta 0:00:013  48% |███████████████▍                | 68.7MB 1.8MB/s eta 0:00:41\n",
      "\u001b[?25hRequirement already satisfied: scipy in /opt/conda/envs/python35-paddle120-env/lib/python3.5/site-packages (from xgboost) (1.3.0)\n",
      "Requirement already satisfied: numpy in /opt/conda/envs/python35-paddle120-env/lib/python3.5/site-packages (from xgboost) (1.16.4)\n",
      "Installing collected packages: xgboost\n",
      "Successfully installed xgboost-0.90\n"
     ]
    }
   ],
   "source": [
    "! pip install xgboost"
   ]
  },
  {
   "cell_type": "code",
   "execution_count": 6,
   "metadata": {
    "collapsed": false
   },
   "outputs": [
    {
     "name": "stdout",
     "output_type": "stream",
     "text": [
      "Looking in indexes: https://pypi.mirrors.ustc.edu.cn/simple/\n",
      "Collecting lightgbm\n",
      "\u001b[33m  Retrying (Retry(total=4, connect=None, read=None, redirect=None, status=None)) after connection broken by 'ReadTimeoutError(\"HTTPSConnectionPool(host='mirrors.ustc.edu.cn', port=443): Read timed out. (read timeout=15)\",)': /pypi/web/simple/lightgbm/\u001b[0m\n",
      "\u001b[?25l  Downloading https://mirrors.tuna.tsinghua.edu.cn/pypi/web/packages/77/0f/5157e6b153b3d4a70dc5fbe2ab6f209604197590f387f03177b7a249ac60/lightgbm-2.2.3-py2.py3-none-manylinux1_x86_64.whl (1.2MB)\n",
      "\u001b[K    100% |████████████████████████████████| 1.2MB 10.0MB/s ta 0:00:01\n",
      "\u001b[?25hRequirement already satisfied: scikit-learn in /opt/conda/envs/python35-paddle120-env/lib/python3.5/site-packages (from lightgbm) (0.21.2)\n",
      "Requirement already satisfied: numpy in /opt/conda/envs/python35-paddle120-env/lib/python3.5/site-packages (from lightgbm) (1.16.4)\n",
      "Requirement already satisfied: scipy in /opt/conda/envs/python35-paddle120-env/lib/python3.5/site-packages (from lightgbm) (1.3.0)\n",
      "Requirement already satisfied: joblib>=0.11 in /opt/conda/envs/python35-paddle120-env/lib/python3.5/site-packages (from scikit-learn->lightgbm) (0.13.2)\n",
      "Installing collected packages: lightgbm\n",
      "Successfully installed lightgbm-2.2.3\n"
     ]
    }
   ],
   "source": [
    "! pip install lightgbm"
   ]
  },
  {
   "cell_type": "code",
   "execution_count": 7,
   "metadata": {
    "collapsed": false
   },
   "outputs": [],
   "source": [
    "# ! pip install tqdm"
   ]
  },
  {
   "cell_type": "code",
   "execution_count": 8,
   "metadata": {
    "collapsed": false
   },
   "outputs": [],
   "source": [
    "# ! pip install auto-sklearn"
   ]
  },
  {
   "cell_type": "code",
   "execution_count": 9,
   "metadata": {
    "collapsed": false
   },
   "outputs": [],
   "source": [
    "# !pip list\n"
   ]
  },
  {
   "cell_type": "code",
   "execution_count": 10,
   "metadata": {
    "collapsed": false
   },
   "outputs": [],
   "source": [
    "from catboost import CatBoostClassifier\r\n",
    "import catboost as cbt\r\n",
    "import numpy as np\r\n",
    "import pandas as pd\r\n",
    "from mlxtend.classifier import StackingClassifier\r\n",
    "from xgboost import XGBClassifier\r\n",
    "import lightgbm as lgb\r\n",
    "from lightgbm import LGBMClassifier\r\n",
    "from sklearn.model_selection import KFold\r\n",
    "from sklearn.preprocessing import StandardScaler, MinMaxScaler\r\n",
    "from sklearn.metrics import accuracy_score, roc_auc_score,log_loss\r\n",
    "from sklearn.model_selection import GridSearchCV\r\n",
    "from sklearn.metrics import fbeta_score, make_scorer\r\n",
    "from sklearn.ensemble import AdaBoostClassifier\r\n",
    "# from tqdm import tqdm\r\n",
    "import matplotlib as mpl\r\n",
    "mpl.use('Agg')\r\n",
    "import matplotlib.pyplot as plt\r\n",
    "import time\r\n",
    "import copy\r\n",
    "import gc\r\n",
    "import os\r\n",
    "from sklearn.ensemble import RandomForestClassifier\r\n",
    "from sklearn.naive_bayes import GaussianNB\r\n",
    "from sklearn.linear_model import LogisticRegression\r\n",
    "lr = LogisticRegression()\r\n",
    "from sklearn.tree import DecisionTreeClassifier"
   ]
  },
  {
   "cell_type": "code",
   "execution_count": 11,
   "metadata": {
    "collapsed": false
   },
   "outputs": [],
   "source": [
    "train = pd.read_csv('/home/aistudio/data/data12632/first_round_traini')\r\n",
    "test = pd.read_csv('/home/aistudio/data/data12632/first_round_testin')\r\n",
    "submit = pd.read_csv('/home/aistudio/data/data12632/submit_example.csv')"
   ]
  },
  {
   "cell_type": "code",
   "execution_count": 12,
   "metadata": {
    "collapsed": false
   },
   "outputs": [],
   "source": [
    "# 线下验证group 连续构造\n",
    "for group in range(50):\n",
    "    train['group_%s'%group] = (train.index+group)//50%120\n",
    "\n",
    "# 线下验证group 随机构造\n",
    "for group in range(50,100):\n",
    "    name = 'group_%s'%group\n",
    "    train[name] = 0\n",
    "    kfold=KFold(n_splits=120, shuffle=True,random_state=group)\n",
    "    split=kfold.split(train)\n",
    "    i = 0\n",
    "    for train_index,valid_index in split:\n",
    "        train.iloc[valid_index,-1] = i\n",
    "        i+=1"
   ]
  },
  {
   "cell_type": "code",
   "execution_count": 13,
   "metadata": {
    "collapsed": false
   },
   "outputs": [],
   "source": [
    "def quality_encoder(x):\n",
    "    return {'Excellent':0,'Good':1,'Pass':2,'Fail':3}[x]\n",
    "train['label'] = train.Quality_label.apply(quality_encoder)\n",
    "train['label_Excellent'] = 1*(train['label'] == 0)\n",
    "train['label_Good'] = 1*(train['label'] == 1)\n",
    "train['label_Pass'] = 1*(train['label'] == 2)\n",
    "train['label_Fail'] = 1*(train['label'] == 3)\n",
    "\n",
    "\n",
    "train['prob_Excellent'] = 0.0\n",
    "train['prob_Good'] = 0.0\n",
    "train['prob_Pass'] = 0.0\n",
    "train['prob_Fail'] = 0.0"
   ]
  },
  {
   "cell_type": "code",
   "execution_count": 14,
   "metadata": {
    "collapsed": false
   },
   "outputs": [
    {
     "name": "stdout",
     "output_type": "stream",
     "text": [
      "0:\tlearn: 1.2195293\ttotal: 79.5ms\tremaining: 47.6s\n",
      "100:\tlearn: 0.0822796\ttotal: 4.8s\tremaining: 23.7s\n",
      "200:\tlearn: 0.0333371\ttotal: 9.39s\tremaining: 18.6s\n",
      "300:\tlearn: 0.0192109\ttotal: 14.1s\tremaining: 14s\n",
      "400:\tlearn: 0.0136334\ttotal: 19s\tremaining: 9.41s\n",
      "500:\tlearn: 0.0103280\ttotal: 24.1s\tremaining: 4.76s\n",
      "599:\tlearn: 0.0083755\ttotal: 28.6s\tremaining: 0us\n",
      "0:\tlearn: 1.2143454\ttotal: 30.7ms\tremaining: 18.4s\n",
      "100:\tlearn: 0.0774816\ttotal: 4.63s\tremaining: 22.9s\n",
      "200:\tlearn: 0.0297588\ttotal: 9.08s\tremaining: 18s\n",
      "300:\tlearn: 0.0178502\ttotal: 13.9s\tremaining: 13.8s\n",
      "400:\tlearn: 0.0121954\ttotal: 18.5s\tremaining: 9.17s\n",
      "500:\tlearn: 0.0090464\ttotal: 23.2s\tremaining: 4.59s\n",
      "599:\tlearn: 0.0072301\ttotal: 27.8s\tremaining: 0us\n",
      "0:\tlearn: 1.2198488\ttotal: 26.2ms\tremaining: 15.7s\n",
      "100:\tlearn: 0.0801717\ttotal: 4.58s\tremaining: 22.7s\n",
      "300:\tlearn: 0.0174714\ttotal: 13.9s\tremaining: 13.8s\n",
      "400:\tlearn: 0.0119525\ttotal: 18.6s\tremaining: 9.22s\n",
      "500:\tlearn: 0.0090042\ttotal: 23.3s\tremaining: 4.6s\n",
      "599:\tlearn: 0.0071729\ttotal: 27.3s\tremaining: 0us\n",
      "0:\tlearn: 1.2213441\ttotal: 30.8ms\tremaining: 18.4s\n",
      "100:\tlearn: 0.0832167\ttotal: 4.34s\tremaining: 21.4s\n",
      "200:\tlearn: 0.0328101\ttotal: 9.12s\tremaining: 18.1s\n",
      "300:\tlearn: 0.0192046\ttotal: 14.1s\tremaining: 14s\n",
      "400:\tlearn: 0.0134042\ttotal: 18.6s\tremaining: 9.22s\n",
      "500:\tlearn: 0.0103587\ttotal: 23.1s\tremaining: 4.56s\n",
      "599:\tlearn: 0.0083737\ttotal: 27.4s\tremaining: 0us\n",
      "0:\tlearn: 1.2183440\ttotal: 39.2ms\tremaining: 23.5s\n",
      "100:\tlearn: 0.0788712\ttotal: 3.77s\tremaining: 18.6s\n",
      "200:\tlearn: 0.0325401\ttotal: 8.12s\tremaining: 16.1s\n",
      "300:\tlearn: 0.0201185\ttotal: 12.6s\tremaining: 12.5s\n",
      "400:\tlearn: 0.0141817\ttotal: 17.1s\tremaining: 8.48s\n",
      "500:\tlearn: 0.0109741\ttotal: 21.7s\tremaining: 4.28s\n",
      "599:\tlearn: 0.0089953\ttotal: 26s\tremaining: 0us\n"
     ]
    }
   ],
   "source": [
    "# 预处理： 利用Attribute进行样本清洗\n",
    "features = ['Attribute1', 'Attribute2', 'Attribute3', 'Attribute4', 'Attribute5','Attribute6', 'Attribute7', 'Attribute8', 'Attribute9', 'Attribute10']\n",
    "params = {'objective':'multiclass', 'num_class':4,\n",
    "          'boosting':'gbdt','num_iterations':400,'learning_rate':0.1,'num_leaves':20}\n",
    "\n",
    "kfold=KFold(n_splits=5, shuffle=True,random_state=829)\n",
    "split=kfold.split(train,train.label)\n",
    "model_stage1=[]\n",
    "result_stage1=[]\n",
    "for train_index,valid_index in split:\n",
    "    \n",
    "    X_train=train.iloc[train_index,:].copy()\n",
    "    X_valid=train.iloc[valid_index,:].copy()\n",
    "    \n",
    "    model = CatBoostClassifier(iterations=600,depth=6,learning_rate=0.1,\n",
    "                               verbose=100,\n",
    "                               loss_function='MultiClass')\n",
    "    model.fit(X_train.loc[:,features].values,X_train.label.values)\n",
    "    X_valid.loc[:,['prob_Excellent','prob_Good','prob_Pass','prob_Fail']] = model.predict_proba(X_valid.loc[:,features])\n",
    "    result_stage1.append(X_valid)\n",
    "result_stage1=pd.concat(result_stage1)"
   ]
  },
  {
   "cell_type": "code",
   "execution_count": 15,
   "metadata": {
    "collapsed": false
   },
   "outputs": [
    {
     "name": "stdout",
     "output_type": "stream",
     "text": [
      "Attibute线下五折交叉验证准确率: 0.9913333333333333\n"
     ]
    }
   ],
   "source": [
    "result_stage1['label_pred']=np.argmax(result_stage1.loc[:,['prob_Excellent','prob_Good','prob_Pass','prob_Fail']].values,axis=1)\n",
    "print(\"Attibute线下五折交叉验证准确率:\",(result_stage1['label_pred']==result_stage1['label']).mean())"
   ]
  },
  {
   "cell_type": "code",
   "execution_count": 16,
   "metadata": {
    "collapsed": false
   },
   "outputs": [],
   "source": [
    "# 取parameter5-10，取log\n",
    "# features = ['Parameter5', 'Parameter7', 'Parameter8', 'Parameter9', 'Parameter10']\n",
    "# train_data = train\n",
    "# test_data = test\n",
    "# train_data[features] = np.log(train_data[features] + 1e-5)\n",
    "# test_data[features] = np.log(test_data[features] + 1e-5)\n",
    "# # 取对数也容易报错\n",
    "\n",
    "# ''''''\n",
    "# # 特征融合\n",
    "# train_data['7_8'] = train_data['Parameter7'] + train_data['Parameter8']\n",
    "# test_data['7_8'] = test_data['Parameter7'] + test_data['Parameter8']\n",
    "# train_data['7_9'] = train_data['Parameter7'] + train_data['Parameter9']\n",
    "# test_data['7_9'] = test_data['Parameter7'] + test_data['Parameter9']\n",
    "# train_data['7_10'] = train_data['Parameter7'] + train_data['Parameter10']\n",
    "# test_data['7_10'] = test_data['Parameter7'] + test_data['Parameter10']\n",
    "# train_data['8_9'] = train_data['Parameter8'] + train_data['Parameter9']\n",
    "# test_data['8_9'] = test_data['Parameter8'] + test_data['Parameter9']\n",
    "# train_data['9_10'] = train_data['Parameter9'] + train_data['Parameter10']\n",
    "# test_data['9_10'] = test_data['Parameter9'] + test_data['Parameter10']\n",
    "# train_data['7-10'] = (train_data['Parameter7'] - train_data['Parameter10'])\n",
    "# test_data['7-10'] = (test_data['Parameter7'] - test_data['Parameter10'])\n",
    "# train_data['9%8'] = train_data['Parameter9'] % train_data['Parameter8']\n",
    "# test_data['9%8'] = test_data['Parameter9'] % test_data['Parameter8']\n",
    "# train_data['7/8'] = train_data['Parameter7'] / train_data['Parameter8']\n",
    "# test_data['7/8'] = test_data['Parameter7'] / test_data['Parameter8']\n",
    "# train_data['7%8'] = train_data['Parameter7'] % train_data['Parameter8']\n",
    "# test_data['7%8'] = test_data['Parameter7'] % test_data['Parameter8']\n",
    "# train_data['8/9'] = train_data['Parameter8'] / train_data['Parameter9']\n",
    "# test_data['8/9'] = test_data['Parameter8'] / test_data['Parameter9']\n",
    "\n",
    "# scale_features = [\n",
    "#     # '7_9', '8_9', '7_8', '9_10', '7_10', '9%8', '7/8', '7%8', '8/9',\n",
    "# \t\t\t\t\t#'5_10',# '5*10',\n",
    "# \t\t\t\t\t#'10*10', '10/8'\n",
    "# \t\t\t\t  #'8%9', '9%8*9', '5_6',\n",
    "# \t\t\t\t  #'5*5', '7*7', '9*9', '8*8',\n",
    "# \t\t\t\t\t#'8-9', '7-8', '8*8'\n",
    "# \t\t\t\t  ]\n",
    "# # 这些加上之后容易报错\n",
    "\n",
    "# # 组合所有特征\n",
    "# features = features + scale_features#+ group_feat\n",
    "# # drop_feat = []\n",
    "\n",
    "# # drop_feat = drop_feat + ['Parameter6', #'Parameter7', #'Parameter8', 'Parameter9',\n",
    "# # \t#'8*8', , '7*7',\n",
    "# # \t\t\t\t\t\t #'7_9', '8_9', '9_10',\n",
    "# # \t\t\t\t\t\t #'5_6',\n",
    "# # \t\t\t\t\t\t #'mean_Parameter8_Parameter9', 'mean_Parameter9_Parameter8', 'mean_Parameter7_Parameter9', 'mean_Parameter7_Parameter8',\n",
    "# # #'9*9', 'mean_Parameter8_Parameter9', '7%8', '9%8','8/9', '9%8*9', '7_8',\n",
    "# # \t\t\t\t\t\t ]\n",
    "# # for f in drop_feat:\n",
    "# # \tif f in features:\n",
    "# # \t\tfeatures.remove(f)\n",
    "\n",
    "# print('all train features:', features)"
   ]
  },
  {
   "cell_type": "code",
   "execution_count": 17,
   "metadata": {
    "collapsed": false
   },
   "outputs": [],
   "source": [
    "def lightgbm_model():\n",
    "\tmodel = LGBMClassifier(max_depth=5, learning_rate=0.01, n_estimators=1500, num_leaves=16,\n",
    "\t\t\t\t\t\t   objective='multiclass',\n",
    "\t\t\t\t\t\t   silent=True,\n",
    "\t\t\t\t\t\t   #reg_lambda=4., #reg_alpha=1.,\n",
    "\t\t\t\t\t\t   #bagging_fraction=0.9, feature_fraction=0.9,\n",
    "\t\t\t\t\t\t   )\n",
    "\treturn model\n",
    "\n",
    "def xgboost_model():\n",
    "\tmodel = XGBClassifier(max_depth=5, n_estimators=800, learning_rate=0.01, silent=True,\n",
    "\t\t\t\t\t\t  objective='multi:softmax',\n",
    "\t\t\t\t\t\t  )\n",
    "\treturn model\n",
    "\n",
    "def catboost_model():\n",
    "\tcbt_model = cbt.CatBoostClassifier(iterations=100,depth=10,learning_rate=0.1,\n",
    "                               verbose=100,\n",
    "                               loss_function='MultiClass'\n",
    "\t)\n",
    "\treturn cbt_model\n",
    "\n",
    "def adaboost_model():\n",
    "\tada_model = AdaBoostClassifier(base_estimator=DecisionTreeClassifier(max_depth=3), n_estimators=50, random_state=829)\n",
    "\treturn ada_model"
   ]
  },
  {
   "cell_type": "code",
   "execution_count": 22,
   "metadata": {
    "collapsed": false
   },
   "outputs": [
    {
     "name": "stdout",
     "output_type": "stream",
     "text": [
      "0:\tlearn: 1.3350491\ttotal: 26.4ms\tremaining: 2.61s\n",
      "99:\tlearn: 0.9830611\ttotal: 2.58s\tremaining: 0us\n"
     ]
    },
    {
     "name": "stderr",
     "output_type": "stream",
     "text": [
      "/opt/conda/envs/python35-paddle120-env/lib/python3.5/site-packages/sklearn/linear_model/logistic.py:432: FutureWarning: Default solver will be changed to 'lbfgs' in 0.22. Specify a solver to silence this warning.\n",
      "  FutureWarning)\n",
      "/opt/conda/envs/python35-paddle120-env/lib/python3.5/site-packages/sklearn/linear_model/logistic.py:469: FutureWarning: Default multi_class will be changed to 'auto' in 0.22. Specify the multi_class option to silence this warning.\n",
      "  \"this warning.\", FutureWarning)\n"
     ]
    },
    {
     "name": "stdout",
     "output_type": "stream",
     "text": [
      "0:\tlearn: 1.3351301\ttotal: 24.2ms\tremaining: 2.4s\n",
      "99:\tlearn: 0.9833488\ttotal: 2.05s\tremaining: 0us\n"
     ]
    },
    {
     "name": "stderr",
     "output_type": "stream",
     "text": [
      "/opt/conda/envs/python35-paddle120-env/lib/python3.5/site-packages/sklearn/linear_model/logistic.py:432: FutureWarning: Default solver will be changed to 'lbfgs' in 0.22. Specify a solver to silence this warning.\n",
      "  FutureWarning)\n",
      "/opt/conda/envs/python35-paddle120-env/lib/python3.5/site-packages/sklearn/linear_model/logistic.py:469: FutureWarning: Default multi_class will be changed to 'auto' in 0.22. Specify the multi_class option to silence this warning.\n",
      "  \"this warning.\", FutureWarning)\n"
     ]
    },
    {
     "name": "stdout",
     "output_type": "stream",
     "text": [
      "0:\tlearn: 1.3393210\ttotal: 24.1ms\tremaining: 2.39s\n",
      "99:\tlearn: 0.9975893\ttotal: 2.27s\tremaining: 0us\n"
     ]
    },
    {
     "name": "stderr",
     "output_type": "stream",
     "text": [
      "/opt/conda/envs/python35-paddle120-env/lib/python3.5/site-packages/sklearn/linear_model/logistic.py:432: FutureWarning: Default solver will be changed to 'lbfgs' in 0.22. Specify a solver to silence this warning.\n",
      "  FutureWarning)\n",
      "/opt/conda/envs/python35-paddle120-env/lib/python3.5/site-packages/sklearn/linear_model/logistic.py:469: FutureWarning: Default multi_class will be changed to 'auto' in 0.22. Specify the multi_class option to silence this warning.\n",
      "  \"this warning.\", FutureWarning)\n"
     ]
    },
    {
     "name": "stdout",
     "output_type": "stream",
     "text": [
      "0:\tlearn: 1.3355473\ttotal: 27.2ms\tremaining: 2.69s\n",
      "99:\tlearn: 0.9877787\ttotal: 2.48s\tremaining: 0us\n"
     ]
    },
    {
     "name": "stderr",
     "output_type": "stream",
     "text": [
      "/opt/conda/envs/python35-paddle120-env/lib/python3.5/site-packages/sklearn/linear_model/logistic.py:432: FutureWarning: Default solver will be changed to 'lbfgs' in 0.22. Specify a solver to silence this warning.\n",
      "  FutureWarning)\n",
      "/opt/conda/envs/python35-paddle120-env/lib/python3.5/site-packages/sklearn/linear_model/logistic.py:469: FutureWarning: Default multi_class will be changed to 'auto' in 0.22. Specify the multi_class option to silence this warning.\n",
      "  \"this warning.\", FutureWarning)\n"
     ]
    },
    {
     "name": "stdout",
     "output_type": "stream",
     "text": [
      "0:\tlearn: 1.3367842\ttotal: 16.9ms\tremaining: 1.67s\n",
      "99:\tlearn: 0.9888876\ttotal: 3.05s\tremaining: 0us\n"
     ]
    },
    {
     "name": "stderr",
     "output_type": "stream",
     "text": [
      "/opt/conda/envs/python35-paddle120-env/lib/python3.5/site-packages/sklearn/linear_model/logistic.py:432: FutureWarning: Default solver will be changed to 'lbfgs' in 0.22. Specify a solver to silence this warning.\n",
      "  FutureWarning)\n",
      "/opt/conda/envs/python35-paddle120-env/lib/python3.5/site-packages/sklearn/linear_model/logistic.py:469: FutureWarning: Default multi_class will be changed to 'auto' in 0.22. Specify the multi_class option to silence this warning.\n",
      "  \"this warning.\", FutureWarning)\n"
     ]
    }
   ],
   "source": [
    "# 模型预测\n",
    "features = ['Parameter5','Parameter7','Parameter8','Parameter9','Parameter10']\n",
    "# train = train_data\n",
    "# test = test_data\n",
    "kfold=KFold(n_splits=5, shuffle=False)\n",
    "split=kfold.split(train,train.label)\n",
    "model_5fold=[]\n",
    "result=[]\n",
    "for train_index,valid_index in split:\n",
    "    \n",
    "    X_train=result_stage1.iloc[train_index,:].copy()\n",
    "    X_train = X_train[X_train.label==X_train.label_pred].copy() # 过滤掉1%的样本\n",
    "    X_valid=result_stage1.iloc[valid_index,:].copy()\n",
    "    # model = CatBoostClassifier(iterations=100,depth=10,learning_rate=0.1,\n",
    "    #                           verbose=100,\n",
    "    #                           loss_function='MultiClass')\n",
    "    model = StackingClassifier(\n",
    "\t\t\t\t\tclassifiers=[xgboost_model(), catboost_model(), lightgbm_model(),\n",
    "\t\t\t\t\t\t\t\t#  adaboost_model()\n",
    "\t\t\t\t\t\t\t\t ],\n",
    "\t\t\t\t\tuse_probas=True, average_probas=False, meta_classifier=lr)\n",
    "    model.fit(X_train.loc[:,features].values,X_train.label.values,)\n",
    "    model_5fold.append(model)\n",
    "    X_valid.loc[:,['prob_Excellent','prob_Good','prob_Pass','prob_Fail']] = model.predict_proba(X_valid.loc[:,features].values)\n",
    "    # 如果前面加了.value后面也要记得加上\n",
    "    result.append(X_valid)\n",
    "result=pd.concat(result)"
   ]
  },
  {
   "cell_type": "code",
   "execution_count": 19,
   "metadata": {
    "collapsed": false
   },
   "outputs": [],
   "source": [
    "mean = []\n",
    "for group in range(100):\n",
    "    temp = result.groupby(['group_%s'%group],as_index=False)['prob_Excellent','prob_Good','prob_Pass','prob_Fail','label_Excellent','label_Good','label_Pass','label_Fail'].mean()\n",
    "    a = np.abs(temp.loc[:,['prob_Excellent','prob_Good','prob_Pass','prob_Fail']].values\n",
    "               - temp.loc[:,['label_Excellent','label_Good','label_Pass','label_Fail']].values).mean()\n",
    "    mean.append(1/(1+10*a))\n",
    "print(\"线下mae评估：\",np.mean(mean),np.std(mean))\n",
    "# 线下mae评估： 0.7071568484305453 0.01181459289243274\n",
    "# 为什么线下总是这个"
   ]
  },
  {
   "cell_type": "code",
   "execution_count": 20,
   "metadata": {
    "collapsed": false
   },
   "outputs": [],
   "source": [
    "test['prob_Excellent'] = 0.0\n",
    "test['prob_Good'] = 0.0\n",
    "test['prob_Pass'] = 0.0\n",
    "test['prob_Fail'] = 0.0\n",
    "\n",
    "# 线上预测\n",
    "for i in range(5):\n",
    "    test.loc[:,['prob_Excellent','prob_Good','prob_Pass','prob_Fail']] += 0.2*model_5fold[i].predict_proba(test.loc[:,features].values)\n",
    "\n",
    "\n",
    "prediction = test.groupby(['Group'],as_index=False)['prob_Excellent','prob_Good','prob_Pass','prob_Fail'].mean()\n",
    "    \n",
    "# 后处理\n",
    "# for label in ['Excellent','Good','Pass','Fail']:\n",
    "#     prediction['prob_%s'%label] = np.round(prediction['prob_%s'%label]/0.02)*0.02\n",
    "\n",
    "prediction = prediction.loc[:,['Group','prob_Excellent','prob_Good','prob_Pass','prob_Fail']]\n",
    "prediction.columns = ['Group','Excellent ratio','Good ratio','Pass ratio','Fail ratio']\n",
    "prediction.to_csv('/home/aistudio/work/result.csv',index=False)"
   ]
  },
  {
   "cell_type": "code",
   "execution_count": 62,
   "metadata": {
    "collapsed": false
   },
   "outputs": [],
   "source": []
  },
  {
   "cell_type": "code",
   "execution_count": null,
   "metadata": {
    "collapsed": false
   },
   "outputs": [],
   "source": []
  },
  {
   "cell_type": "code",
   "execution_count": 41,
   "metadata": {
    "collapsed": false
   },
   "outputs": [],
   "source": []
  },
  {
   "cell_type": "code",
   "execution_count": 42,
   "metadata": {
    "collapsed": false
   },
   "outputs": [],
   "source": []
  },
  {
   "cell_type": "code",
   "execution_count": 43,
   "metadata": {
    "collapsed": false
   },
   "outputs": [],
   "source": []
  },
  {
   "cell_type": "code",
   "execution_count": 21,
   "metadata": {
    "collapsed": false
   },
   "outputs": [],
   "source": [
    "# grid_search('abc')"
   ]
  },
  {
   "cell_type": "code",
   "execution_count": null,
   "metadata": {
    "collapsed": false
   },
   "outputs": [],
   "source": []
  },
  {
   "cell_type": "code",
   "execution_count": null,
   "metadata": {
    "collapsed": false
   },
   "outputs": [],
   "source": []
  },
  {
   "cell_type": "code",
   "execution_count": null,
   "metadata": {
    "collapsed": false
   },
   "outputs": [],
   "source": []
  },
  {
   "cell_type": "code",
   "execution_count": null,
   "metadata": {
    "collapsed": false
   },
   "outputs": [],
   "source": []
  },
  {
   "cell_type": "markdown",
   "metadata": {
    "collapsed": false
   },
   "source": [
    "请点击[此处](https://ai.baidu.com/docs#/AIStudio_Project_Notebook/a38e5576)查看本环境基本用法.  <br>\n",
    "Please click [here ](https://ai.baidu.com/docs#/AIStudio_Project_Notebook/a38e5576) for more detailed instructions. "
   ]
  },
  {
   "cell_type": "code",
   "execution_count": null,
   "metadata": {
    "collapsed": false
   },
   "outputs": [],
   "source": []
  },
  {
   "cell_type": "code",
   "execution_count": null,
   "metadata": {
    "collapsed": false
   },
   "outputs": [],
   "source": []
  },
  {
   "cell_type": "code",
   "execution_count": null,
   "metadata": {
    "collapsed": false
   },
   "outputs": [],
   "source": []
  },
  {
   "cell_type": "code",
   "execution_count": null,
   "metadata": {
    "collapsed": false
   },
   "outputs": [],
   "source": []
  },
  {
   "cell_type": "code",
   "execution_count": null,
   "metadata": {
    "collapsed": false
   },
   "outputs": [],
   "source": []
  },
  {
   "cell_type": "code",
   "execution_count": null,
   "metadata": {
    "collapsed": false
   },
   "outputs": [],
   "source": []
  },
  {
   "cell_type": "code",
   "execution_count": null,
   "metadata": {
    "collapsed": false
   },
   "outputs": [],
   "source": []
  },
  {
   "cell_type": "code",
   "execution_count": null,
   "metadata": {
    "collapsed": false
   },
   "outputs": [],
   "source": []
  },
  {
   "cell_type": "code",
   "execution_count": null,
   "metadata": {
    "collapsed": false
   },
   "outputs": [],
   "source": []
  },
  {
   "cell_type": "code",
   "execution_count": null,
   "metadata": {
    "collapsed": false
   },
   "outputs": [],
   "source": []
  },
  {
   "cell_type": "code",
   "execution_count": null,
   "metadata": {
    "collapsed": false
   },
   "outputs": [],
   "source": []
  },
  {
   "cell_type": "code",
   "execution_count": null,
   "metadata": {
    "collapsed": false
   },
   "outputs": [],
   "source": []
  },
  {
   "cell_type": "code",
   "execution_count": null,
   "metadata": {
    "collapsed": false
   },
   "outputs": [],
   "source": []
  },
  {
   "cell_type": "code",
   "execution_count": null,
   "metadata": {
    "collapsed": false
   },
   "outputs": [],
   "source": []
  },
  {
   "cell_type": "code",
   "execution_count": null,
   "metadata": {
    "collapsed": false
   },
   "outputs": [],
   "source": []
  },
  {
   "cell_type": "code",
   "execution_count": null,
   "metadata": {
    "collapsed": false
   },
   "outputs": [],
   "source": []
  },
  {
   "cell_type": "code",
   "execution_count": null,
   "metadata": {
    "collapsed": false
   },
   "outputs": [],
   "source": []
  },
  {
   "cell_type": "code",
   "execution_count": null,
   "metadata": {
    "collapsed": false
   },
   "outputs": [],
   "source": []
  },
  {
   "cell_type": "code",
   "execution_count": null,
   "metadata": {
    "collapsed": false
   },
   "outputs": [],
   "source": []
  },
  {
   "cell_type": "code",
   "execution_count": null,
   "metadata": {
    "collapsed": false
   },
   "outputs": [],
   "source": []
  },
  {
   "cell_type": "code",
   "execution_count": null,
   "metadata": {
    "collapsed": false
   },
   "outputs": [],
   "source": []
  },
  {
   "cell_type": "code",
   "execution_count": null,
   "metadata": {
    "collapsed": false
   },
   "outputs": [],
   "source": []
  },
  {
   "cell_type": "code",
   "execution_count": null,
   "metadata": {
    "collapsed": false
   },
   "outputs": [],
   "source": []
  },
  {
   "cell_type": "code",
   "execution_count": null,
   "metadata": {
    "collapsed": false
   },
   "outputs": [],
   "source": []
  },
  {
   "cell_type": "code",
   "execution_count": null,
   "metadata": {
    "collapsed": false
   },
   "outputs": [],
   "source": []
  },
  {
   "cell_type": "code",
   "execution_count": null,
   "metadata": {
    "collapsed": false
   },
   "outputs": [],
   "source": []
  },
  {
   "cell_type": "code",
   "execution_count": null,
   "metadata": {
    "collapsed": false
   },
   "outputs": [],
   "source": []
  },
  {
   "cell_type": "code",
   "execution_count": null,
   "metadata": {
    "collapsed": false
   },
   "outputs": [],
   "source": []
  },
  {
   "cell_type": "code",
   "execution_count": null,
   "metadata": {
    "collapsed": false
   },
   "outputs": [],
   "source": []
  },
  {
   "cell_type": "code",
   "execution_count": null,
   "metadata": {
    "collapsed": false
   },
   "outputs": [],
   "source": []
  },
  {
   "cell_type": "code",
   "execution_count": null,
   "metadata": {
    "collapsed": false
   },
   "outputs": [],
   "source": []
  },
  {
   "cell_type": "code",
   "execution_count": null,
   "metadata": {
    "collapsed": false
   },
   "outputs": [],
   "source": []
  },
  {
   "cell_type": "code",
   "execution_count": null,
   "metadata": {
    "collapsed": false
   },
   "outputs": [],
   "source": []
  },
  {
   "cell_type": "code",
   "execution_count": null,
   "metadata": {
    "collapsed": false
   },
   "outputs": [],
   "source": []
  },
  {
   "cell_type": "code",
   "execution_count": null,
   "metadata": {
    "collapsed": false
   },
   "outputs": [],
   "source": []
  },
  {
   "cell_type": "code",
   "execution_count": null,
   "metadata": {
    "collapsed": false
   },
   "outputs": [],
   "source": []
  },
  {
   "cell_type": "code",
   "execution_count": null,
   "metadata": {
    "collapsed": false
   },
   "outputs": [],
   "source": []
  },
  {
   "cell_type": "code",
   "execution_count": null,
   "metadata": {
    "collapsed": false
   },
   "outputs": [],
   "source": []
  },
  {
   "cell_type": "code",
   "execution_count": null,
   "metadata": {
    "collapsed": false
   },
   "outputs": [],
   "source": []
  },
  {
   "cell_type": "code",
   "execution_count": null,
   "metadata": {
    "collapsed": false
   },
   "outputs": [],
   "source": []
  },
  {
   "cell_type": "code",
   "execution_count": null,
   "metadata": {
    "collapsed": false
   },
   "outputs": [],
   "source": []
  },
  {
   "cell_type": "code",
   "execution_count": null,
   "metadata": {
    "collapsed": false
   },
   "outputs": [],
   "source": []
  },
  {
   "cell_type": "code",
   "execution_count": null,
   "metadata": {
    "collapsed": false
   },
   "outputs": [],
   "source": []
  },
  {
   "cell_type": "code",
   "execution_count": null,
   "metadata": {
    "collapsed": false
   },
   "outputs": [],
   "source": []
  },
  {
   "cell_type": "code",
   "execution_count": null,
   "metadata": {
    "collapsed": false
   },
   "outputs": [],
   "source": []
  },
  {
   "cell_type": "code",
   "execution_count": null,
   "metadata": {
    "collapsed": false
   },
   "outputs": [],
   "source": []
  },
  {
   "cell_type": "code",
   "execution_count": null,
   "metadata": {
    "collapsed": false
   },
   "outputs": [],
   "source": []
  },
  {
   "cell_type": "code",
   "execution_count": null,
   "metadata": {
    "collapsed": false
   },
   "outputs": [],
   "source": []
  },
  {
   "cell_type": "code",
   "execution_count": null,
   "metadata": {
    "collapsed": false
   },
   "outputs": [],
   "source": []
  },
  {
   "cell_type": "code",
   "execution_count": null,
   "metadata": {
    "collapsed": false
   },
   "outputs": [],
   "source": []
  },
  {
   "cell_type": "code",
   "execution_count": null,
   "metadata": {
    "collapsed": false
   },
   "outputs": [],
   "source": []
  },
  {
   "cell_type": "code",
   "execution_count": null,
   "metadata": {
    "collapsed": false
   },
   "outputs": [],
   "source": []
  },
  {
   "cell_type": "code",
   "execution_count": null,
   "metadata": {
    "collapsed": false
   },
   "outputs": [],
   "source": []
  },
  {
   "cell_type": "code",
   "execution_count": null,
   "metadata": {
    "collapsed": false
   },
   "outputs": [],
   "source": []
  },
  {
   "cell_type": "code",
   "execution_count": null,
   "metadata": {
    "collapsed": false
   },
   "outputs": [],
   "source": []
  },
  {
   "cell_type": "code",
   "execution_count": null,
   "metadata": {
    "collapsed": false
   },
   "outputs": [],
   "source": []
  },
  {
   "cell_type": "code",
   "execution_count": null,
   "metadata": {
    "collapsed": false
   },
   "outputs": [],
   "source": []
  },
  {
   "cell_type": "code",
   "execution_count": null,
   "metadata": {
    "collapsed": false
   },
   "outputs": [],
   "source": []
  },
  {
   "cell_type": "code",
   "execution_count": null,
   "metadata": {
    "collapsed": false
   },
   "outputs": [],
   "source": []
  },
  {
   "cell_type": "code",
   "execution_count": null,
   "metadata": {
    "collapsed": false
   },
   "outputs": [],
   "source": []
  }
 ],
 "metadata": {
  "kernelspec": {
   "display_name": "PaddlePaddle 1.5.1 (Python 3.5)",
   "language": "python",
   "name": "py35-paddle1.2.0"
  },
  "language_info": {
   "codemirror_mode": {
    "name": "ipython",
    "version": 3
   },
   "file_extension": ".py",
   "mimetype": "text/x-python",
   "name": "python",
   "nbconvert_exporter": "python",
   "pygments_lexer": "ipython3",
   "version": "3.5.5"
  }
 },
 "nbformat": 4,
 "nbformat_minor": 1
}
