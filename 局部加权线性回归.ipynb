{
 "cells": [
  {
   "cell_type": "code",
   "execution_count": null,
   "metadata": {
    "collapsed": true
   },
   "outputs": [],
   "source": [
    "# 在线性回归当中，y等于kx+b，有的时候数据能看出来不是直线的\n",
    "# 有的方法是加个x平方\n",
    "# 线性回归是让差平方最小化，而局部加权线性回归是每一个差平方前面再加上个系数\n",
    "# 每一个i对应的系数不同，都是非负的权重\n",
    "# 如果对于某个特定的 i ，它的\\omega (i)很大，那么在选择\\theta的时候，我们将会尽可能地使 (y^{(i)}-\\theta ^{T}x^{(i)})^{2} 更小。\n",
    "# 如果\\omega (i)很小，那么在拟合的过程中(y^{(i)}-\\theta ^{T}x^{(i)})^{2}误差项就能够大大地忽略\n",
    "# 这个权值的选取有一个标准的公式\n",
    "# 其实就是为了在不同的地方设置不同的权重，最后拟合出来的函数也会弯曲，调多了同样会过拟合"
   ]
  },
  {
   "cell_type": "code",
   "execution_count": null,
   "metadata": {},
   "outputs": [],
   "source": [
    "import numpy as np\n",
    "def lwlr(testPoint,xArr,yArr,k=1.0):\n",
    "    # k是衰减因子，越小衰减越快\n",
    "    xMat = np.mat(xArr); yMat = np.mat(yArr).T\n",
    "    # 这个就是创建矩阵\n",
    "    m = np.shape(xMat)[0]\n",
    "    # i的个数\n",
    "    weights = np.mat(np.eye((m)))\n",
    "    # 这个是生成对角矩阵\n",
    "    for j in range(m):              \n",
    "        diffMat = testPoint - xMat[j,:]   \n",
    "        # 这就实际值减去预测值\n",
    "        weights[j,j] = np.exp(diffMat*diffMat.T/(-2.0*k**2))   #weighted matrix\n",
    "    xTx = xMat.T * (weights * xMat)      \n",
    "    if np.linalg.det(xTx) == 0.0:\n",
    "        # 矩阵求行列式，就是绝对值符号里面一个矩阵，就是右斜减左斜\n",
    "        print (\"矩阵不可逆\")\n",
    "        return\n",
    "    ws = xTx.I * (xMat.T * (weights * yMat))   #normal equation\n",
    "    return testPoint * ws"
   ]
  },
  {
   "cell_type": "code",
   "execution_count": null,
   "metadata": {},
   "outputs": [],
   "source": []
  },
  {
   "cell_type": "code",
   "execution_count": null,
   "metadata": {},
   "outputs": [],
   "source": []
  },
  {
   "cell_type": "code",
   "execution_count": null,
   "metadata": {},
   "outputs": [],
   "source": []
  },
  {
   "cell_type": "code",
   "execution_count": null,
   "metadata": {},
   "outputs": [],
   "source": []
  },
  {
   "cell_type": "code",
   "execution_count": null,
   "metadata": {},
   "outputs": [],
   "source": []
  },
  {
   "cell_type": "code",
   "execution_count": null,
   "metadata": {},
   "outputs": [],
   "source": []
  },
  {
   "cell_type": "code",
   "execution_count": null,
   "metadata": {},
   "outputs": [],
   "source": []
  }
 ],
 "metadata": {
  "kernelspec": {
   "display_name": "Python 2",
   "language": "python",
   "name": "python2"
  },
  "language_info": {
   "codemirror_mode": {
    "name": "ipython",
    "version": 2
   },
   "file_extension": ".py",
   "mimetype": "text/x-python",
   "name": "python",
   "nbconvert_exporter": "python",
   "pygments_lexer": "ipython2",
   "version": "2.7.6"
  }
 },
 "nbformat": 4,
 "nbformat_minor": 0
}
