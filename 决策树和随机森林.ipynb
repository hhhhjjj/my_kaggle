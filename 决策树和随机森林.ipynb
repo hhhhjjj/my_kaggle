{
 "cells": [
  {
   "cell_type": "code",
   "execution_count": null,
   "metadata": {
    "collapsed": true
   },
   "outputs": [],
   "source": [
    "# 单个决策树一般预测能力差，一般都要集成学习\n",
    "# 决策树能学到特征之间的组合关系，可以是更高阶的组合关系\n",
    "# 弱学习器每一棵树都要有预测能力，而且树与树之间要有差异"
   ]
  },
  {
   "cell_type": "code",
   "execution_count": null,
   "metadata": {},
   "outputs": [],
   "source": [
    "# 随机森林就是通过随机样本和随机特征构造出不同的树，然后再来集成\n",
    "# 样本用的是有放回抽样，直到抽样次数和原始样本量相等，bootstrap\n",
    "# 特征的话就随机选取一部分特征，无放回，一般是根号n\n",
    "# 如果每次只选一个特征的话，那就学不到特征高阶组合关系\n",
    "# 如果想在标签上做文章的话，可以改变真实标签，增加标签随机性\n",
    "# catboost就是在标签值上加随机数"
   ]
  },
  {
   "cell_type": "code",
   "execution_count": null,
   "metadata": {},
   "outputs": [],
   "source": [
    "# 回归问题就把树的预测值取平均来集成\n",
    "# 分类问题的话就投票，最终预测为投票次数最多的类别"
   ]
  },
  {
   "cell_type": "code",
   "execution_count": null,
   "metadata": {},
   "outputs": [],
   "source": [
    "# 随机森林中每个决策树使用了大概63.2%的样本\n",
    "# 下面是推算"
   ]
  },
  {
   "cell_type": "code",
   "execution_count": null,
   "metadata": {},
   "outputs": [],
   "source": [
    "# 一共n个样本，使用bootsrap抽样，重新构建一个样本为n的随机样本，求一个样本从未被抽到的概率\n",
    "# 这个就是（1-1/n）^n,然后变成了求极限问题，回想一下高数学的e的定义。。。所以结果是1/e\n",
    "# 然后被抽中的概率是1-1/e就是63.2%"
   ]
  },
  {
   "cell_type": "code",
   "execution_count": null,
   "metadata": {},
   "outputs": [],
   "source": [
    "# 一般就是调树的深度，棵树，随机特征数量"
   ]
  },
  {
   "cell_type": "code",
   "execution_count": null,
   "metadata": {},
   "outputs": [],
   "source": [
    "# 决策树就是判断加递归"
   ]
  },
  {
   "cell_type": "code",
   "execution_count": null,
   "metadata": {},
   "outputs": [],
   "source": [
    "# 找分裂点\n",
    "# 可能的分裂点的定义，特征值去重之后，从小到大排列，取每个相邻数值的均值\n",
    "# 然后从这些可能分裂点中找到最佳分裂点\n",
    "# 分裂点选择就还是最小二乘法或者最小化交叉熵，反正就损失函数最小化\n",
    "# 为什么要取均值？\n",
    "# 因为我们手头的是训练集，不取均值的话容易过拟合"
   ]
  },
  {
   "cell_type": "code",
   "execution_count": null,
   "metadata": {},
   "outputs": [],
   "source": []
  }
 ],
 "metadata": {
  "kernelspec": {
   "display_name": "Python 2",
   "language": "python",
   "name": "python2"
  },
  "language_info": {
   "codemirror_mode": {
    "name": "ipython",
    "version": 2
   },
   "file_extension": ".py",
   "mimetype": "text/x-python",
   "name": "python",
   "nbconvert_exporter": "python",
   "pygments_lexer": "ipython2",
   "version": "2.7.6"
  }
 },
 "nbformat": 4,
 "nbformat_minor": 0
}
