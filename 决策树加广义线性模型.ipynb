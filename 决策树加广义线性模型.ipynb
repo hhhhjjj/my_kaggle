{
 "cells": [
  {
   "cell_type": "code",
   "execution_count": null,
   "metadata": {
    "collapsed": true
   },
   "outputs": [],
   "source": [
    "# 机器学习分线性模型和决策树\n",
    "# 线性模型往后深度学习\n",
    "# 决策树后面就发展到了集成模型，比如gbdt，xgboost这些\n",
    "# 决策树的表达是一系列的if/else，其实就是二叉树\n",
    "# 一个特征可以前后反复使用多次"
   ]
  },
  {
   "cell_type": "code",
   "execution_count": null,
   "metadata": {},
   "outputs": [],
   "source": [
    "# 二叉树要求所有特征都是数值型而不是类别型，类别型的特征就只能one hot编码变成数值"
   ]
  },
  {
   "cell_type": "code",
   "execution_count": null,
   "metadata": {},
   "outputs": [],
   "source": [
    "# 我们可以定义一个函数，输入一个决策树的根节点，然后返回树的深度，这个用递归自己一层层下去就是了"
   ]
  },
  {
   "cell_type": "code",
   "execution_count": null,
   "metadata": {},
   "outputs": [],
   "source": [
    "# 广义线性模型是一类模型，\n",
    "# 假设标签服从某种分布，该分布中的参数线性依赖于样本特征\n",
    "# 假设y服从正态分布的时候，广义线性模型就是线性回归\n",
    "# 因为y就是由各个x线性得到的"
   ]
  },
  {
   "cell_type": "code",
   "execution_count": null,
   "metadata": {},
   "outputs": [],
   "source": [
    "# 当然这一系列y也有可能服从伯努利分布这些，就是0到1取值的概率值\n",
    "# 因为线性回归可以正无穷到负无穷的输出，这时候就要逻辑回归来变换"
   ]
  },
  {
   "cell_type": "code",
   "execution_count": null,
   "metadata": {},
   "outputs": [],
   "source": [
    "# 极大似然估计使用可能性最大的来作为对未知的估计"
   ]
  },
  {
   "cell_type": "code",
   "execution_count": null,
   "metadata": {},
   "outputs": [],
   "source": [
    "# 逻辑回归的极大似然估计自己去查查"
   ]
  },
  {
   "cell_type": "code",
   "execution_count": null,
   "metadata": {},
   "outputs": [],
   "source": []
  },
  {
   "cell_type": "code",
   "execution_count": null,
   "metadata": {},
   "outputs": [],
   "source": []
  }
 ],
 "metadata": {
  "kernelspec": {
   "display_name": "Python 2",
   "language": "python",
   "name": "python2"
  },
  "language_info": {
   "codemirror_mode": {
    "name": "ipython",
    "version": 2
   },
   "file_extension": ".py",
   "mimetype": "text/x-python",
   "name": "python",
   "nbconvert_exporter": "python",
   "pygments_lexer": "ipython2",
   "version": "2.7.6"
  }
 },
 "nbformat": 4,
 "nbformat_minor": 0
}
