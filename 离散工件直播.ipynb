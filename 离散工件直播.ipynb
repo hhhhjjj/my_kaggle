{
 "cells": [
  {
   "cell_type": "code",
   "execution_count": null,
   "metadata": {
    "collapsed": true
   },
   "outputs": [],
   "source": [
    "# 没想到这个6000个数据居然还不少了\n",
    "# 给定工艺参数C，加工完成后的属性并不是明确的，而是符合某个分布的\n",
    "# 质量测试规则就相当于是一个判别函数，这个判别完了得到质检结果\n",
    "# 当然我们直接不用前面几个正态分布的属性了，这也就变成了用后面的几个属性成了多分类问题，\n",
    "# 可以选择多分类或者softmax分类"
   ]
  },
  {
   "cell_type": "code",
   "execution_count": null,
   "metadata": {},
   "outputs": [],
   "source": [
    "# 但是这样子直接把工件加工和质量检测当做黑盒处理，不利于维护，容易过拟合"
   ]
  },
  {
   "cell_type": "code",
   "execution_count": null,
   "metadata": {},
   "outputs": [],
   "source": [
    "# 第二个思路就是把工艺参数全都用上，但是不是简单的回归问题\n",
    "# 这个必须要生成模型，实现比较复杂"
   ]
  },
  {
   "cell_type": "code",
   "execution_count": null,
   "metadata": {},
   "outputs": [],
   "source": [
    "# 之后我们就可以通过得到的工件属性给定一个判别条件得到之间结果"
   ]
  },
  {
   "cell_type": "code",
   "execution_count": null,
   "metadata": {},
   "outputs": [],
   "source": []
  }
 ],
 "metadata": {
  "kernelspec": {
   "display_name": "Python 2",
   "language": "python",
   "name": "python2"
  },
  "language_info": {
   "codemirror_mode": {
    "name": "ipython",
    "version": 2
   },
   "file_extension": ".py",
   "mimetype": "text/x-python",
   "name": "python",
   "nbconvert_exporter": "python",
   "pygments_lexer": "ipython2",
   "version": "2.7.6"
  }
 },
 "nbformat": 4,
 "nbformat_minor": 0
}
