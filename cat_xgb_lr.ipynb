{
 "cells": [
  {
   "cell_type": "code",
   "execution_count": 1,
   "metadata": {
    "collapsed": false
   },
   "outputs": [
    {
     "name": "stdout",
     "output_type": "stream",
     "text": [
      "first_round_testin  first_round_traini\tsubmit_example.csv\r\n"
     ]
    }
   ],
   "source": [
    "# 查看当前挂载的数据集目录, 该目录下的变更重启环境后会自动还原\n",
    "# View dataset directory. This directory will be recovered automatically after resetting environment. \n",
    "!ls /home/aistudio/data/data12632/\n"
   ]
  },
  {
   "cell_type": "code",
   "execution_count": 2,
   "metadata": {
    "collapsed": false
   },
   "outputs": [
    {
     "name": "stdout",
     "output_type": "stream",
     "text": [
      "result.csv\r\n"
     ]
    }
   ],
   "source": [
    "# 查看工作区文件, 该目录下的变更将会持久保存. 请及时清理不必要的文件, 避免加载过慢.\n",
    "# View personal work directory. All changes under this directory will be kept even after reset. Please clean unnecessary files in time to speed up environment loading.\n",
    "!ls /home/aistudio/work"
   ]
  },
  {
   "cell_type": "code",
   "execution_count": 3,
   "metadata": {
    "collapsed": false
   },
   "outputs": [
    {
     "name": "stdout",
     "output_type": "stream",
     "text": [
      "Looking in indexes: https://pypi.mirrors.ustc.edu.cn/simple/\n",
      "Collecting catboost\n",
      "\u001b[?25l  Downloading https://mirrors.tuna.tsinghua.edu.cn/pypi/web/packages/67/58/fd5cf8cc902c3f5336a7d8914b6c1127532126d3c047d05e967510484204/catboost-0.17.1-cp35-none-manylinux1_x86_64.whl (62.4MB)\n",
      "\u001b[K    100% |████████████████████████████████| 62.4MB 449kB/s ta 0:00:01\n",
      "\u001b[?25hRequirement already satisfied: matplotlib in /opt/conda/envs/python35-paddle120-env/lib/python3.5/site-packages (from catboost) (2.2.3)\n",
      "Requirement already satisfied: graphviz in /opt/conda/envs/python35-paddle120-env/lib/python3.5/site-packages (from catboost) (0.11)\n",
      "Requirement already satisfied: six in /opt/conda/envs/python35-paddle120-env/lib/python3.5/site-packages (from catboost) (1.11.0)\n",
      "Requirement already satisfied: pandas>=0.24.0 in /opt/conda/envs/python35-paddle120-env/lib/python3.5/site-packages (from catboost) (0.24.2)\n",
      "Requirement already satisfied: numpy>=1.16.0 in /opt/conda/envs/python35-paddle120-env/lib/python3.5/site-packages (from catboost) (1.16.4)\n",
      "Requirement already satisfied: scipy in /opt/conda/envs/python35-paddle120-env/lib/python3.5/site-packages (from catboost) (1.3.0)\n",
      "Collecting plotly (from catboost)\n",
      "\u001b[?25l  Downloading https://mirrors.tuna.tsinghua.edu.cn/pypi/web/packages/70/19/8437e22c84083a6d5d8a3c80f4edc73c9dcbb89261d07e6bd13b48752bbd/plotly-4.1.1-py2.py3-none-any.whl (7.1MB)\n",
      "\u001b[K    100% |████████████████████████████████| 7.1MB 2.2MB/s ta 0:00:011\n",
      "\u001b[?25hRequirement already satisfied: pyparsing!=2.0.4,!=2.1.2,!=2.1.6,>=2.0.1 in /opt/conda/envs/python35-paddle120-env/lib/python3.5/site-packages (from matplotlib->catboost) (2.4.0)\n",
      "Requirement already satisfied: python-dateutil>=2.1 in /opt/conda/envs/python35-paddle120-env/lib/python3.5/site-packages (from matplotlib->catboost) (2.8.0)\n",
      "Requirement already satisfied: cycler>=0.10 in /opt/conda/envs/python35-paddle120-env/lib/python3.5/site-packages (from matplotlib->catboost) (0.10.0)\n",
      "Requirement already satisfied: pytz in /opt/conda/envs/python35-paddle120-env/lib/python3.5/site-packages (from matplotlib->catboost) (2019.1)\n",
      "Requirement already satisfied: kiwisolver>=1.0.1 in /opt/conda/envs/python35-paddle120-env/lib/python3.5/site-packages (from matplotlib->catboost) (1.1.0)\n",
      "Collecting retrying>=1.3.3 (from plotly->catboost)\n",
      "  Downloading https://mirrors.tuna.tsinghua.edu.cn/pypi/web/packages/44/ef/beae4b4ef80902f22e3af073397f079c96969c69b2c7d52a57ea9ae61c9d/retrying-1.3.3.tar.gz\n",
      "Requirement already satisfied: setuptools in /opt/conda/envs/python35-paddle120-env/lib/python3.5/site-packages (from kiwisolver>=1.0.1->matplotlib->catboost) (41.2.0)\n",
      "Building wheels for collected packages: retrying\n",
      "  Running setup.py bdist_wheel for retrying ... \u001b[?25ldone\n",
      "\u001b[?25h  Stored in directory: /home/aistudio/.cache/pip/wheels/4a/b7/7f/66e52d08955b288e3590645984c8e6fb1fc665754d722de6c6\n",
      "Successfully built retrying\n",
      "Installing collected packages: retrying, plotly, catboost\n",
      "Successfully installed catboost-0.17.1 plotly-4.1.1 retrying-1.3.3\n"
     ]
    }
   ],
   "source": [
    "! pip install catboost"
   ]
  },
  {
   "cell_type": "code",
   "execution_count": 4,
   "metadata": {
    "collapsed": false
   },
   "outputs": [
    {
     "name": "stdout",
     "output_type": "stream",
     "text": [
      "Looking in indexes: https://pypi.mirrors.ustc.edu.cn/simple/\n",
      "Collecting mlxtend\n",
      "\u001b[?25l  Downloading https://mirrors.tuna.tsinghua.edu.cn/pypi/web/packages/52/04/c362f34f666f0ddc7cf593805e64d64fa670ed96fd9302e68549dd48287d/mlxtend-0.17.0-py2.py3-none-any.whl (1.3MB)\n",
      "\u001b[K    100% |████████████████████████████████| 1.3MB 12.0MB/s ta 0:00:01\n",
      "\u001b[?25hRequirement already satisfied: scikit-learn>=0.20.3 in /opt/conda/envs/python35-paddle120-env/lib/python3.5/site-packages (from mlxtend) (0.21.2)\n",
      "Requirement already satisfied: joblib>=0.13.2 in /opt/conda/envs/python35-paddle120-env/lib/python3.5/site-packages (from mlxtend) (0.13.2)\n",
      "Collecting matplotlib>=3.0.0 (from mlxtend)\n",
      "\u001b[?25l  Downloading https://mirrors.tuna.tsinghua.edu.cn/pypi/web/packages/89/61/465fb3bfba684b0f53b5c4829c3c89e86e6fe9fdcdfda93e38f1788090f0/matplotlib-3.0.3-cp35-cp35m-manylinux1_x86_64.whl (13.0MB)\n",
      "\u001b[K    100% |████████████████████████████████| 13.0MB 1.5MB/s ta 0:00:01\n",
      "\u001b[?25hRequirement already satisfied: scipy>=1.2.1 in /opt/conda/envs/python35-paddle120-env/lib/python3.5/site-packages (from mlxtend) (1.3.0)\n",
      "Requirement already satisfied: numpy>=1.16.2 in /opt/conda/envs/python35-paddle120-env/lib/python3.5/site-packages (from mlxtend) (1.16.4)\n",
      "Requirement already satisfied: pandas>=0.24.2 in /opt/conda/envs/python35-paddle120-env/lib/python3.5/site-packages (from mlxtend) (0.24.2)\n",
      "Requirement already satisfied: setuptools in /opt/conda/envs/python35-paddle120-env/lib/python3.5/site-packages (from mlxtend) (41.2.0)\n",
      "Requirement already satisfied: cycler>=0.10 in /opt/conda/envs/python35-paddle120-env/lib/python3.5/site-packages (from matplotlib>=3.0.0->mlxtend) (0.10.0)\n",
      "Requirement already satisfied: kiwisolver>=1.0.1 in /opt/conda/envs/python35-paddle120-env/lib/python3.5/site-packages (from matplotlib>=3.0.0->mlxtend) (1.1.0)\n",
      "Requirement already satisfied: pyparsing!=2.0.4,!=2.1.2,!=2.1.6,>=2.0.1 in /opt/conda/envs/python35-paddle120-env/lib/python3.5/site-packages (from matplotlib>=3.0.0->mlxtend) (2.4.0)\n",
      "Requirement already satisfied: python-dateutil>=2.1 in /opt/conda/envs/python35-paddle120-env/lib/python3.5/site-packages (from matplotlib>=3.0.0->mlxtend) (2.8.0)\n",
      "Requirement already satisfied: pytz>=2011k in /opt/conda/envs/python35-paddle120-env/lib/python3.5/site-packages (from pandas>=0.24.2->mlxtend) (2019.1)\n",
      "Requirement already satisfied: six in /opt/conda/envs/python35-paddle120-env/lib/python3.5/site-packages (from cycler>=0.10->matplotlib>=3.0.0->mlxtend) (1.11.0)\n",
      "\u001b[31mpaddlepaddle-gpu 1.5.1.post97 has requirement matplotlib<=2.2.4; python_version < \"3.6\", but you'll have matplotlib 3.0.3 which is incompatible.\u001b[0m\n",
      "Installing collected packages: matplotlib, mlxtend\n",
      "  Found existing installation: matplotlib 2.2.3\n",
      "    Uninstalling matplotlib-2.2.3:\n",
      "      Successfully uninstalled matplotlib-2.2.3\n",
      "Successfully installed matplotlib-3.0.3 mlxtend-0.17.0\n"
     ]
    }
   ],
   "source": [
    "! pip install mlxtend"
   ]
  },
  {
   "cell_type": "code",
   "execution_count": 5,
   "metadata": {
    "collapsed": false
   },
   "outputs": [
    {
     "name": "stdout",
     "output_type": "stream",
     "text": [
      "Looking in indexes: https://pypi.mirrors.ustc.edu.cn/simple/\n",
      "Collecting xgboost\n",
      "\u001b[?25l  Downloading https://mirrors.tuna.tsinghua.edu.cn/pypi/web/packages/c1/24/5fe7237b2eca13ee0cfb100bec8c23f4e69ce9df852a64b0493d49dae4e0/xgboost-0.90-py2.py3-none-manylinux1_x86_64.whl (142.8MB)\n",
      "\u001b[K    100% |████████████████████████████████| 142.8MB 196kB/s ta 0:00:013\n",
      "\u001b[?25hRequirement already satisfied: numpy in /opt/conda/envs/python35-paddle120-env/lib/python3.5/site-packages (from xgboost) (1.16.4)\n",
      "Requirement already satisfied: scipy in /opt/conda/envs/python35-paddle120-env/lib/python3.5/site-packages (from xgboost) (1.3.0)\n",
      "Installing collected packages: xgboost\n",
      "Successfully installed xgboost-0.90\n"
     ]
    }
   ],
   "source": [
    "! pip install xgboost"
   ]
  },
  {
   "cell_type": "code",
   "execution_count": 6,
   "metadata": {
    "collapsed": false
   },
   "outputs": [
    {
     "name": "stdout",
     "output_type": "stream",
     "text": [
      "Looking in indexes: https://pypi.mirrors.ustc.edu.cn/simple/\n",
      "Collecting lightgbm\n",
      "\u001b[?25l  Downloading https://mirrors.tuna.tsinghua.edu.cn/pypi/web/packages/77/0f/5157e6b153b3d4a70dc5fbe2ab6f209604197590f387f03177b7a249ac60/lightgbm-2.2.3-py2.py3-none-manylinux1_x86_64.whl (1.2MB)\n",
      "\u001b[K    100% |████████████████████████████████| 1.2MB 9.4MB/s eta 0:00:01\n",
      "\u001b[?25hRequirement already satisfied: numpy in /opt/conda/envs/python35-paddle120-env/lib/python3.5/site-packages (from lightgbm) (1.16.4)\n",
      "Requirement already satisfied: scipy in /opt/conda/envs/python35-paddle120-env/lib/python3.5/site-packages (from lightgbm) (1.3.0)\n",
      "Requirement already satisfied: scikit-learn in /opt/conda/envs/python35-paddle120-env/lib/python3.5/site-packages (from lightgbm) (0.21.2)\n",
      "Requirement already satisfied: joblib>=0.11 in /opt/conda/envs/python35-paddle120-env/lib/python3.5/site-packages (from scikit-learn->lightgbm) (0.13.2)\n",
      "Installing collected packages: lightgbm\n",
      "Successfully installed lightgbm-2.2.3\n"
     ]
    }
   ],
   "source": [
    "! pip install lightgbm"
   ]
  },
  {
   "cell_type": "code",
   "execution_count": 7,
   "metadata": {
    "collapsed": false
   },
   "outputs": [],
   "source": [
    "# ! pip install tqdm"
   ]
  },
  {
   "cell_type": "code",
   "execution_count": 8,
   "metadata": {
    "collapsed": false
   },
   "outputs": [],
   "source": [
    "# ! pip install auto-sklearn"
   ]
  },
  {
   "cell_type": "code",
   "execution_count": 9,
   "metadata": {
    "collapsed": false
   },
   "outputs": [],
   "source": [
    "# !pip list\n"
   ]
  },
  {
   "cell_type": "code",
   "execution_count": 10,
   "metadata": {
    "collapsed": false
   },
   "outputs": [],
   "source": [
    "import catboost as cbt\r\n",
    "import numpy as np\r\n",
    "import pandas as pd\r\n",
    "from mlxtend.classifier import StackingClassifier\r\n",
    "from xgboost import XGBClassifier\r\n",
    "import lightgbm as lgb\r\n",
    "from lightgbm import LGBMClassifier\r\n",
    "from sklearn.model_selection import KFold\r\n",
    "from sklearn.preprocessing import StandardScaler, MinMaxScaler\r\n",
    "from sklearn.metrics import accuracy_score, roc_auc_score,log_loss\r\n",
    "from sklearn.model_selection import GridSearchCV\r\n",
    "from sklearn.metrics import fbeta_score, make_scorer\r\n",
    "# from tqdm import tqdm\r\n",
    "import matplotlib as mpl\r\n",
    "mpl.use('Agg')\r\n",
    "import matplotlib.pyplot as plt\r\n",
    "import time\r\n",
    "import copy\r\n",
    "import gc\r\n",
    "import os\r\n",
    "from sklearn.linear_model import LogisticRegression\r\n",
    "lr = LogisticRegression()"
   ]
  },
  {
   "cell_type": "code",
   "execution_count": 11,
   "metadata": {
    "collapsed": false
   },
   "outputs": [],
   "source": [
    "train_data = pd.read_csv('/home/aistudio/data/data12632/first_round_traini')\r\n",
    "test_data = pd.read_csv('/home/aistudio/data/data12632/first_round_testin', encoding='utf-8')\r\n",
    "dit = {'Excellent':0,'Good':1,'Pass':2,'Fail':3}\r\n",
    "train_data['Quality_label'] = train_data['Quality_label'].map(dit)\r\n",
    "labels = pd.get_dummies(train_data['Quality_label']).values\r\n",
    "submit = pd.read_csv('/home/aistudio/data/data12632/submit_example.csv')"
   ]
  },
  {
   "cell_type": "code",
   "execution_count": 12,
   "metadata": {
    "collapsed": false
   },
   "outputs": [
    {
     "name": "stdout",
     "output_type": "stream",
     "text": [
      "all train features: ['Parameter5', 'Parameter7', 'Parameter8', 'Parameter9', 'Parameter10', '7_9', '8_9', '7_8', '8_10', '9_10', '7_10', '9%8', '7/8', '7%8', '8/9']\n",
      "Parameter5: 132\n",
      "Parameter7: 14\n",
      "Parameter8: 23\n",
      "Parameter9: 16\n",
      "Parameter10: 41\n",
      "7_9: 49\n",
      "8_9: 52\n",
      "7_8: 43\n",
      "8_10: 279\n",
      "9_10: 260\n",
      "7_10: 291\n",
      "9%8: 49\n",
      "7/8: 43\n",
      "7%8: 41\n",
      "8/9: 52\n"
     ]
    }
   ],
   "source": [
    "# 取parameter5-10，取log\r\n",
    "features = ['Parameter5', 'Parameter7', 'Parameter8', 'Parameter9', 'Parameter10']\r\n",
    "train_data[features] = np.log(train_data[features] + 1e-5)\r\n",
    "test_data[features] = np.log(test_data[features] + 1e-5)\r\n",
    "# 特征融合\r\n",
    "# train_data['5_6'] = train_data['Parameter5'] + train_data['Parameter6']\r\n",
    "# test_data['5_6'] = test_data['Parameter5'] + test_data['Parameter6']\r\n",
    "train_data['5_7'] = train_data['Parameter5'] + train_data['Parameter7']\r\n",
    "test_data['5_7'] = test_data['Parameter5'] + test_data['Parameter7']\r\n",
    "train_data['7_8'] = train_data['Parameter7'] + train_data['Parameter8']\r\n",
    "test_data['7_8'] = test_data['Parameter7'] + test_data['Parameter8']\r\n",
    "train_data['7_9'] = train_data['Parameter7'] + train_data['Parameter9']\r\n",
    "test_data['7_9'] = test_data['Parameter7'] + test_data['Parameter9']\r\n",
    "train_data['7_10'] = train_data['Parameter7'] + train_data['Parameter10']\r\n",
    "test_data['7_10'] = test_data['Parameter7'] + test_data['Parameter10']\r\n",
    "train_data['8_9'] = train_data['Parameter8'] + train_data['Parameter9']\r\n",
    "test_data['8_9'] = test_data['Parameter8'] + test_data['Parameter9']\r\n",
    "train_data['8_10'] = train_data['Parameter8'] + train_data['Parameter10']\r\n",
    "test_data['8_10'] = test_data['Parameter8'] + test_data['Parameter10']\r\n",
    "train_data['9_10'] = train_data['Parameter9'] + train_data['Parameter10']\r\n",
    "test_data['9_10'] = test_data['Parameter9'] + test_data['Parameter10']\r\n",
    "\r\n",
    "train_data['5_10'] = train_data['Parameter5'] + train_data['Parameter10']\r\n",
    "test_data['5_10'] = test_data['Parameter5'] + test_data['Parameter10']\r\n",
    "# train_data['6_10'] = train_data['Parameter6'] + train_data['Parameter10']\r\n",
    "# test_data['6_10'] = test_data['Parameter6'] + test_data['Parameter10']\r\n",
    "train_data['7_8_9'] = train_data['Parameter7'] + train_data['Parameter8'] + train_data['Parameter9']\r\n",
    "test_data['7_8_9'] = test_data['Parameter7'] + test_data['Parameter8'] + test_data['Parameter9']\r\n",
    "train_data['7_9_10'] = train_data['Parameter7'] + train_data['Parameter9'] + train_data['Parameter10']\r\n",
    "test_data['7_9_10'] = test_data['Parameter7'] + test_data['Parameter9'] + test_data['Parameter10']\r\n",
    "train_data['7_8_10'] = train_data['Parameter7'] + train_data['Parameter8'] + train_data['Parameter10']\r\n",
    "test_data['7_8_10'] = test_data['Parameter7'] + test_data['Parameter8'] + test_data['Parameter10']\r\n",
    "train_data['8_9_10'] = train_data['Parameter8'] + train_data['Parameter9'] + train_data['Parameter10']\r\n",
    "test_data['8_9_10'] = test_data['Parameter8'] + test_data['Parameter9'] + test_data['Parameter10']\r\n",
    "train_data['7_8_9_10'] = train_data['Parameter7'] + train_data['Parameter8'] + train_data['Parameter9'] + train_data['Parameter10']\r\n",
    "test_data['7_8_9_10'] = test_data['Parameter7'] + test_data['Parameter8'] + test_data['Parameter9'] + test_data['Parameter10']\r\n",
    "\r\n",
    "# train_data['5-6'] = (train_data['Parameter5'] - train_data['Parameter6'])\r\n",
    "# test_data['5-6'] = (test_data['Parameter5'] - test_data['Parameter6'])\r\n",
    "train_data['7-8'] = (train_data['Parameter7'] - train_data['Parameter8'])\r\n",
    "test_data['7-8'] = (test_data['Parameter7'] - test_data['Parameter8'])\r\n",
    "train_data['7-9'] = (train_data['Parameter7'] - train_data['Parameter9'])\r\n",
    "test_data['7-9'] = (test_data['Parameter7'] - test_data['Parameter9'])\r\n",
    "train_data['7-10'] = (train_data['Parameter7'] - train_data['Parameter10'])\r\n",
    "test_data['7-10'] = (test_data['Parameter7'] - test_data['Parameter10'])\r\n",
    "train_data['8-9'] = (train_data['Parameter8'] - train_data['Parameter9'])\r\n",
    "test_data['8-9'] = (test_data['Parameter8'] - test_data['Parameter9'])\r\n",
    "train_data['8-10'] = (train_data['Parameter8'] - train_data['Parameter10'])\r\n",
    "test_data['8-10'] = (test_data['Parameter8'] - test_data['Parameter10'])\r\n",
    "train_data['9-10'] = (train_data['Parameter9'] - train_data['Parameter10'])\r\n",
    "test_data['9-10'] = (test_data['Parameter9'] - test_data['Parameter10'])\r\n",
    "\r\n",
    "# train_data['5_6_mul'] = train_data['Parameter5'].mul(train_data['Parameter6'])\r\n",
    "# test_data['5_6_mul'] = test_data['Parameter5'].mul(test_data['Parameter6'])\r\n",
    "train_data['7_8_mul'] = train_data['Parameter7'].mul(train_data['Parameter8'])\r\n",
    "test_data['7_8_mul'] = test_data['Parameter7'].mul(test_data['Parameter8'])\r\n",
    "train_data['7_9_mul'] = train_data['Parameter7'].mul(train_data['Parameter9'])\r\n",
    "test_data['7_9_mul'] = test_data['Parameter7'].mul(test_data['Parameter9'])\r\n",
    "train_data['7_10_mul'] = train_data['Parameter7'].mul(train_data['Parameter10'])\r\n",
    "test_data['7_10_mul'] = test_data['Parameter7'].mul(test_data['Parameter10'])\r\n",
    "train_data['8_9_mul'] = train_data['Parameter8'].mul(train_data['Parameter9'])\r\n",
    "test_data['8_9_mul'] = test_data['Parameter8'].mul(test_data['Parameter9'])\r\n",
    "train_data['8_10_mul'] = train_data['Parameter8'].mul(train_data['Parameter10'])\r\n",
    "test_data['8_10_mul'] = test_data['Parameter8'].mul(test_data['Parameter10'])\r\n",
    "train_data['9_10_mul'] = train_data['Parameter9'].mul(train_data['Parameter10'])\r\n",
    "test_data['9_10_mul'] = test_data['Parameter9'].mul(test_data['Parameter10'])\r\n",
    "\r\n",
    "train_data['78_mul_79'] = (train_data['7_8'].mul(train_data['7_9']))\r\n",
    "test_data['78_mul_79'] = (test_data['7_8'].mul(test_data['7_9']))\r\n",
    "train_data['78_mul_710'] = (train_data['7_8'].mul(train_data['7_10']))\r\n",
    "test_data['78_mul_710'] = (test_data['7_8'].mul(test_data['7_10']))\r\n",
    "train_data['78_mul_89'] = (train_data['7_8'].mul(train_data['8_9']))\r\n",
    "test_data['78_mul_89'] = (test_data['7_8'].mul(test_data['8_9']))\r\n",
    "train_data['78_mul_810'] = (train_data['7_8'].mul(train_data['8_10']))\r\n",
    "test_data['78_mul_810'] = (test_data['7_8'].mul(test_data['8_10']))\r\n",
    "train_data['78_mul_910'] = (train_data['7_8'].mul(train_data['9_10']))\r\n",
    "test_data['78_mul_910'] = (test_data['7_8'].mul(test_data['9_10']))\r\n",
    "train_data['79_mul_710'] = (train_data['7_9'].mul(train_data['7_10']))\r\n",
    "test_data['79_mul_710'] = (test_data['7_9'].mul(test_data['7_10']))\r\n",
    "train_data['79_mul_89'] = (train_data['7_9'].mul(train_data['8_9']))\r\n",
    "test_data['79_mul_89'] = (test_data['7_9'].mul(test_data['8_9']))\r\n",
    "train_data['79_mul_810'] = (train_data['7_9'].mul(train_data['8_10']))\r\n",
    "test_data['79_mul_810'] = (test_data['7_9'].mul(test_data['8_10']))\r\n",
    "train_data['79_mul_910'] = (train_data['7_9'].mul(train_data['9_10']))\r\n",
    "test_data['79_mul_910'] = (test_data['7_9'].mul(test_data['9_10']))\r\n",
    "train_data['710_mul_89'] = (train_data['7_10'].mul(train_data['8_9']))\r\n",
    "test_data['710_mul_89'] = (test_data['7_10'].mul(test_data['8_9']))\r\n",
    "train_data['710_mul_810'] = (train_data['7_10'].mul(train_data['8_10']))\r\n",
    "test_data['710_mul_810'] = (test_data['7_10'].mul(test_data['8_10']))\r\n",
    "train_data['710_mul_910'] = (train_data['7_10'].mul(train_data['9_10']))\r\n",
    "test_data['710_mul_910'] = (test_data['7_10'].mul(test_data['9_10']))\r\n",
    "train_data['89_mul_810'] = (train_data['8_9'].mul(train_data['8_10']))\r\n",
    "test_data['89_mul_810'] = (test_data['8_9'].mul(test_data['8_10']))\r\n",
    "train_data['89_mul_910'] = (train_data['8_9'].mul(train_data['9_10']))\r\n",
    "test_data['89_mul_910'] = (test_data['8_9'].mul(test_data['9_10']))\r\n",
    "train_data['810_mul_910'] = (train_data['8_10'].mul(train_data['9_10']))\r\n",
    "test_data['810_mul_910'] = (test_data['8_10'].mul(test_data['9_10']))\r\n",
    "\r\n",
    "train_data['5_8'] = train_data['Parameter5'] + train_data['Parameter8']\r\n",
    "test_data['5_8'] = test_data['Parameter5'] + test_data['Parameter8']\r\n",
    "train_data['7+8*8'] = train_data['Parameter7'] + train_data['Parameter8'] * train_data['Parameter8']\r\n",
    "test_data['7+8*8'] = test_data['Parameter7'] + test_data['Parameter8'] * test_data['Parameter8']\r\n",
    "train_data['7*7+8'] = train_data['Parameter7'] * train_data['Parameter7'] + train_data['Parameter8']\r\n",
    "test_data['7*7+8'] = test_data['Parameter7'] * test_data['Parameter7'] + test_data['Parameter8']\r\n",
    "\r\n",
    "train_data['9/7'] = train_data['Parameter9'] / train_data['Parameter7']\r\n",
    "test_data['9/7'] = test_data['Parameter9'] / test_data['Parameter7']\r\n",
    "train_data['9/8'] = train_data['Parameter9'] / train_data['Parameter8']\r\n",
    "test_data['9/8'] = test_data['Parameter9'] / test_data['Parameter8']\r\n",
    "train_data['1/7'] = 1. / train_data['Parameter7']\r\n",
    "test_data['1/7'] = 1. / test_data['Parameter7']\r\n",
    "train_data['9%8'] = train_data['Parameter9'] % train_data['Parameter8']\r\n",
    "test_data['9%8'] = test_data['Parameter9'] % test_data['Parameter8']\r\n",
    "train_data['7%9'] = train_data['Parameter7'] % train_data['Parameter9']\r\n",
    "test_data['7%9'] = test_data['Parameter7'] % test_data['Parameter9']\r\n",
    "train_data['1/9'] = 1. / train_data['Parameter9']\r\n",
    "test_data['1/9'] = 1. / test_data['Parameter9']\r\n",
    "train_data['7/8'] = train_data['Parameter7'] / train_data['Parameter8']\r\n",
    "test_data['7/8'] = test_data['Parameter7'] / test_data['Parameter8']\r\n",
    "train_data['8%9'] = train_data['Parameter8'] % train_data['Parameter9']\r\n",
    "test_data['8%9'] = test_data['Parameter8'] % test_data['Parameter9']\r\n",
    "train_data['7/9'] = train_data['Parameter7'] / train_data['Parameter9']\r\n",
    "test_data['7/9'] = test_data['Parameter7'] / test_data['Parameter9']\r\n",
    "train_data['8/7'] = train_data['Parameter8'] / train_data['Parameter7']\r\n",
    "test_data['8/7'] = test_data['Parameter8'] / test_data['Parameter7']\r\n",
    "train_data['1/8'] = 1. / train_data['Parameter8']\r\n",
    "test_data['1/8'] = 1. / test_data['Parameter8']\r\n",
    "train_data['8%7'] = train_data['Parameter8'] % train_data['Parameter7']\r\n",
    "test_data['8%7'] = test_data['Parameter8'] % test_data['Parameter7']\r\n",
    "train_data['8+9/8%9'] = (train_data['Parameter8'] + train_data['Parameter9']) / train_data['Parameter8'] % train_data['Parameter9']\r\n",
    "test_data['8+9/8%9'] = (test_data['Parameter8'] + test_data['Parameter9']) / test_data['Parameter8'] % test_data['Parameter9']\r\n",
    "train_data['7%8'] = train_data['Parameter7'] % train_data['Parameter8']\r\n",
    "test_data['7%8'] = test_data['Parameter7'] % test_data['Parameter8']\r\n",
    "train_data['8/9'] = train_data['Parameter8'] / train_data['Parameter9']\r\n",
    "test_data['8/9'] = test_data['Parameter8'] / test_data['Parameter9']\r\n",
    "\r\n",
    "train_data['7+8%7+9'] = train_data['Parameter7'] + train_data['Parameter8'] % train_data['Parameter7'] + train_data['Parameter9']\r\n",
    "test_data['7+8%7+9'] = test_data['Parameter7'] + test_data['Parameter8'] % test_data['Parameter7'] + test_data['Parameter9']\r\n",
    "train_data['1/8/9'] = 1./train_data['Parameter8']/train_data['Parameter9']\r\n",
    "test_data['1/8/9'] = 1./test_data['Parameter8']/test_data['Parameter9']\r\n",
    "train_data['9%7/9'] = train_data['Parameter9']%train_data['Parameter7']/train_data['Parameter9']\r\n",
    "test_data['9%7/9'] = test_data['Parameter9']%test_data['Parameter7']/test_data['Parameter9']\r\n",
    "train_data['8+9/8*9'] = train_data['Parameter8']+train_data['Parameter9']/train_data['Parameter8']*train_data['Parameter9']\r\n",
    "test_data['8+9/8*9'] = test_data['Parameter8']+test_data['Parameter9']/test_data['Parameter8']*test_data['Parameter9']\r\n",
    "train_data['9%7/7*8'] = train_data['Parameter9']%train_data['Parameter7']/train_data['Parameter7']*train_data['Parameter8']\r\n",
    "test_data['9%7/7*8'] = test_data['Parameter9']%test_data['Parameter7']/test_data['Parameter7']*test_data['Parameter8']\r\n",
    "train_data['7%8/7'] = train_data['Parameter7']%train_data['Parameter8']/train_data['Parameter7']\r\n",
    "test_data['7%8/7'] = test_data['Parameter7']%test_data['Parameter8']/test_data['Parameter7']\r\n",
    "train_data['9%8*9'] = train_data['Parameter9']%train_data['Parameter8']*train_data['Parameter9']\r\n",
    "test_data['9%8*9'] = test_data['Parameter9']%test_data['Parameter8']*test_data['Parameter9']\r\n",
    "train_data['8*9%7'] = train_data['Parameter8']*train_data['Parameter9']%train_data['Parameter7']\r\n",
    "test_data['8*9%7'] = test_data['Parameter8']*test_data['Parameter9']%test_data['Parameter7']\r\n",
    "\r\n",
    "train_data['8%9*8'] = train_data['Parameter8']%train_data['Parameter9']*train_data['Parameter8']\r\n",
    "test_data['8%9*8'] = test_data['Parameter8']%test_data['Parameter9']*test_data['Parameter8']\r\n",
    "train_data['7*8*9'] = train_data['Parameter8']*train_data['Parameter7']*train_data['Parameter9']\r\n",
    "test_data['7*8*9'] = test_data['Parameter8']*test_data['Parameter7']*test_data['Parameter9']\r\n",
    "train_data['8+9/7*8']=train_data['Parameter8']+train_data['Parameter9']/train_data['Parameter7']*train_data['Parameter9']\r\n",
    "test_data['8+9/7*8']=test_data['Parameter8']+test_data['Parameter9']/test_data['Parameter7']*test_data['Parameter9']\r\n",
    "train_data['8%7/(9%8)'] = train_data['Parameter8']%train_data['Parameter7']/(train_data['Parameter9']%train_data['Parameter8'])\r\n",
    "test_data['8%7/(9%8)'] = test_data['Parameter8']%test_data['Parameter7']/(test_data['Parameter9']%test_data['Parameter8'])\r\n",
    "train_data['7%8/(8%9)'] = train_data['Parameter7']%train_data['Parameter8']/(train_data['Parameter8']%train_data['Parameter9'])\r\n",
    "test_data['7%8/(8%9)'] = test_data['Parameter7']%test_data['Parameter8']/(test_data['Parameter8']%test_data['Parameter9'])\r\n",
    "train_data['8+9/(9%8)']=train_data['Parameter8']+train_data['Parameter9']/(train_data['Parameter9']%train_data['Parameter8'])\r\n",
    "test_data['8+9/(9%8)']=test_data['Parameter8']+test_data['Parameter9']/(test_data['Parameter9']%test_data['Parameter8'])\r\n",
    "train_data['8*(9%7)+8'] = train_data['Parameter8']*(train_data['Parameter9']%train_data['Parameter7']+train_data['Parameter8'])\r\n",
    "test_data['8*(9%7)+8'] = test_data['Parameter8']*(test_data['Parameter9']%test_data['Parameter7']+test_data['Parameter8'])\r\n",
    "train_data['7+8*9'] = train_data['Parameter7']+train_data['Parameter8']*train_data['Parameter9']\r\n",
    "test_data['7+8*9'] = test_data['Parameter7']+test_data['Parameter8']*test_data['Parameter9']\r\n",
    "train_data['7%8/(9%8)'] = train_data['Parameter7']%train_data['Parameter8']/(train_data['Parameter9']%train_data['Parameter8'])\r\n",
    "test_data['7%8/(9%8)'] = test_data['Parameter7']%test_data['Parameter8']/(test_data['Parameter9']%test_data['Parameter8'])\r\n",
    "train_data['9%8/(7%8)'] = train_data['Parameter9']%train_data['Parameter8']/(train_data['Parameter7']%train_data['Parameter8'])\r\n",
    "test_data['9%8/(7%8)'] = test_data['Parameter9']%test_data['Parameter8']/(test_data['Parameter7']%test_data['Parameter8'])\r\n",
    "train_data['5%8'] = train_data['Parameter5']%train_data['Parameter8']\r\n",
    "test_data['5%8'] = test_data['Parameter5']%test_data['Parameter8']\r\n",
    "# train_data['6%8'] = train_data['Parameter6']%train_data['Parameter8']\r\n",
    "# test_data['6%8'] = test_data['Parameter6']%test_data['Parameter8']\r\n",
    "train_data['10%8'] = train_data['Parameter10']%train_data['Parameter8']\r\n",
    "test_data['10%8'] = test_data['Parameter10']%test_data['Parameter8']\r\n",
    "\r\n",
    "train_data['7*8'] = train_data['Parameter7'] * train_data['Parameter8']\r\n",
    "test_data['7*8'] = test_data['Parameter7'] * test_data['Parameter8']\r\n",
    "train_data['5*5'] = train_data['Parameter5'] * train_data['Parameter5']\r\n",
    "test_data['5*5'] = test_data['Parameter5'] * test_data['Parameter5']\r\n",
    "# train_data['6*6'] = train_data['Parameter6'] * train_data['Parameter6']\r\n",
    "# test_data['6*6'] = test_data['Parameter6'] * test_data['Parameter6']\r\n",
    "train_data['7*7'] = train_data['Parameter7'] * train_data['Parameter7']\r\n",
    "test_data['7*7'] = test_data['Parameter7'] * test_data['Parameter7']\r\n",
    "train_data['8*8'] = train_data['Parameter8'] * train_data['Parameter8']\r\n",
    "test_data['8*8'] = test_data['Parameter8'] * test_data['Parameter8']\r\n",
    "train_data['9*9'] = train_data['Parameter9'] * train_data['Parameter9']\r\n",
    "test_data['9*9'] = test_data['Parameter9'] * test_data['Parameter9']\r\n",
    "train_data['10*10'] = train_data['Parameter10'] * train_data['Parameter10']\r\n",
    "test_data['10*10'] = test_data['Parameter10'] * test_data['Parameter10']\r\n",
    "\r\n",
    "scale_features = [\r\n",
    "    # '5_6',\r\n",
    "    '7_9', '8_9', '7_8', '8_10', '9_10', '7_10', '9%8', '7/8', '7%8', '8/9',\r\n",
    "\t\t\t\t  ]\r\n",
    "\r\n",
    "\r\n",
    "# 组合所有特征\r\n",
    "features = features + scale_features\r\n",
    "\r\n",
    "print('all train features:', features)\r\n",
    "\r\n",
    "for fc in features:\r\n",
    "\tn = train_data['{}'.format(fc)].nunique()\r\n",
    "# \t这个的左右就是显示特征中的唯一值\r\n",
    "\tprint(fc + ':', n)"
   ]
  },
  {
   "cell_type": "code",
   "execution_count": 13,
   "metadata": {
    "collapsed": false
   },
   "outputs": [],
   "source": [
    "# train_data.shape"
   ]
  },
  {
   "cell_type": "code",
   "execution_count": 14,
   "metadata": {
    "collapsed": false
   },
   "outputs": [],
   "source": [
    "# train_data.sort_values('Parameter2', ascending=False)[:3]"
   ]
  },
  {
   "cell_type": "code",
   "execution_count": 15,
   "metadata": {
    "collapsed": false
   },
   "outputs": [],
   "source": [
    "# --------------------------------------------------------\r\n",
    "# train\r\n",
    "# --------------------------------------------------------\r\n",
    "x_train = train_data[features].values\r\n",
    "x_test = test_data[features].values\r\n",
    "\r\n",
    "def lightgbm_model():\r\n",
    "\tmodel = LGBMClassifier(max_depth=7, learning_rate=0.01, n_estimators=1000, num_leaves=16,\r\n",
    "\t\t\t\t\t\t   objective='multiclass', silent=True,\r\n",
    "\t\t\t\t\t\t   reg_lambda=4., #reg_alpha=1.,\r\n",
    "\t\t\t\t\t\t   #bagging_fraction=0.9, feature_fraction=0.9,\r\n",
    "\t\t\t\t\t\t   )\r\n",
    "\treturn model\r\n",
    "\r\n",
    "def xgboost_model():\r\n",
    "\tmodel = XGBClassifier(max_depth=5, n_estimators=1000, learning_rate=0.01, silent=True,\r\n",
    "\t\t\t\t\t\t  #objective='multi:softmax',\r\n",
    "\t\t\t\t\t\t  )\r\n",
    "\treturn model\r\n",
    "\r\n",
    "def catboost_model():\r\n",
    "\tcbt_model = cbt.CatBoostClassifier(#iterations=100000, learning_rate=0.01, verbose=0,\r\n",
    "\t\titerations=3000, learning_rate=0.01, verbose=0,\r\n",
    "\t\tmax_depth=7, #reg_lambda=5.,\r\n",
    "\t\ttask_type='CPU',   # cat_features=cat_list,\r\n",
    "\t\tloss_function='MultiClass',\r\n",
    "# \t\tl2_leaf_reg = 7\r\n",
    "\t\t)\r\n",
    "\treturn cbt_model\r\n",
    "\r\n",
    "def catboost_importance():\r\n",
    "\tmodel = catboost_model()\r\n",
    "\tmodel.fit(x_train, np.argmax(labels, 1))\r\n",
    "\timportance = model.get_feature_importance(prettified=True)\r\n",
    "# \t这个其实就是类似PCA一样，找到特征的贡献\r\n",
    "\tprint(importance.columns)\r\n",
    "\tfor i in range(len(features)):\r\n",
    "\t\tprint(features[int(importance['Feature Id'][i])] + ' :', importance['Importances'][i])"
   ]
  },
  {
   "cell_type": "code",
   "execution_count": null,
   "metadata": {
    "collapsed": false
   },
   "outputs": [],
   "source": []
  },
  {
   "cell_type": "code",
   "execution_count": 16,
   "metadata": {
    "collapsed": false
   },
   "outputs": [],
   "source": [
    "def grid_search(mode):\r\n",
    "\tdef my_custom_loss_func(y_true, y_pred):\r\n",
    "\t\tdiff = np.mean(-y_true * np.log(y_pred + 1e-5))\r\n",
    "\t\treturn diff\r\n",
    "\tscore = make_scorer(my_custom_loss_func, greater_is_better=False)\r\n",
    "\t\r\n",
    "\t# grid search for lightgbm\r\n",
    "\tif mode=='lgb':\r\n",
    "\t\tparameters = {'max_depth': [5, 7, 9, 11], 'num_leaves ': [16, 32, 64], 'reg_lambda': [10, 5, 3, 1, 0.1]}\r\n",
    "\t\tmodel = lightgbm_model()\r\n",
    "\t# grid search for catboost\r\n",
    "\tif mode=='cat':\r\n",
    "\t\tparameters = {'iterations': [3000, 4000, 5000],'max_depth': [ 6, 7, 8, 9],'learning_rate':[0.01, 0.008,0.005]}\r\n",
    "\t\tmodel = catboost_model()\r\n",
    "\t# grid search for xgboost\r\n",
    "\tif mode=='xgb':\r\n",
    "\t\tparameters = {'max_depth': [5, 7, 9, 11]}\r\n",
    "\t\tmodel = catboost_model()()\r\n",
    "\t# search\r\n",
    "\tclf = GridSearchCV(model, parameters, cv=5, scoring=score, verbose=2)\r\n",
    "\tclf.fit(x_train, np.argmax(labels, 1))\r\n",
    "\tprint('best parameters:', clf.best_params_)\r\n",
    "\tprint('best score:', clf.best_score_)\r\n",
    "\t"
   ]
  },
  {
   "cell_type": "code",
   "execution_count": 17,
   "metadata": {
    "collapsed": false
   },
   "outputs": [
    {
     "name": "stdout",
     "output_type": "stream",
     "text": [
      "Index(['Feature Id', 'Importances'], dtype='object')\n",
      "Parameter5 : 16.76571919816691\n",
      "Parameter10 : 15.613276361219333\n",
      "8_10 : 13.340617893290906\n",
      "7_10 : 11.874035705936029\n",
      "7/8 : 8.054618257598166\n",
      "9_10 : 6.916573366401179\n",
      "7_9 : 5.00358879471985\n",
      "8/9 : 3.999876389718097\n",
      "9%8 : 3.5554243764002726\n",
      "8_9 : 3.456418694024189\n",
      "7%8 : 3.046013645977524\n",
      "Parameter9 : 2.5625235662262362\n",
      "7_8 : 2.214179055066376\n",
      "Parameter8 : 2.1459044699545093\n",
      "Parameter7 : 1.4512302253004226\n"
     ]
    }
   ],
   "source": [
    "catboost_importance()"
   ]
  },
  {
   "cell_type": "code",
   "execution_count": 18,
   "metadata": {
    "collapsed": false
   },
   "outputs": [],
   "source": [
    "# k-fold train\r\n",
    "def kfold_train(mode):\r\n",
    "\tacc_list, loss_list = [], []\r\n",
    "\tprediction = np.zeros((x_test.shape[0], 4))\r\n",
    "\tfor i in range(10):\r\n",
    "\t\tprint(str(i+1) + ' th kflod' + '*'*50)\r\n",
    "\t\tkf = KFold(n_splits=5, shuffle=True, random_state=i)\r\n",
    "\t\tkfold_list = []\r\n",
    "\t\tfor k, (train_index, test_index) in enumerate(kf.split(x_train)):\r\n",
    "\t\t\tprint(str(k+1) + 'fold--------------')\r\n",
    "\t\t\ttrain_x, train_y = x_train[train_index], labels[train_index]\r\n",
    "\t\t\ttest_x, test_y = x_train[test_index], labels[test_index]\r\n",
    "\t\t\t# train\r\n",
    "\t\t\tif mode == 'cat':\r\n",
    "\t\t\t\tmodel = catboost_model()\r\n",
    "\t\t\t\tmodel.fit(train_x, np.argmax(train_y, 1), eval_set=(test_x, np.argmax(test_y, 1)),\r\n",
    "\t\t\t\t\t  #early_stopping_rounds=1000, verbose=False\r\n",
    "\t\t\t\t\t\t)\r\n",
    "\t\t\t\t\r\n",
    "\t\t\t\t#print(pd.DataFrame({'column': features, 'importance': model.feature_importances_}).sort_values(by='importance'))\r\n",
    "\t\t\tif mode == 'lgb':\r\n",
    "\t\t\t\tmodel = lightgbm_model()\r\n",
    "\t\t\t\tmodel.fit(train_x, np.argmax(train_y, 1), eval_set=(test_x, np.argmax(test_y, 1)),\r\n",
    "\t\t\t\t\t  # early_stopping_rounds=50, verbose=True\r\n",
    "\t\t\t\t\t\t  verbose=False\r\n",
    "\t\t\t\t\t\t  )\r\n",
    "\t\t\tif mode == 'xgb':\r\n",
    "\t\t\t\tmodel = xgboost_model()\r\n",
    "\t\t\t\tmodel.fit(train_x, np.argmax(train_y, 1), verbose=True)\r\n",
    "\t\t\tif mode == 'sclf':\r\n",
    "\t\t\t    model = StackingClassifier(\r\n",
    "\t\t\t        classifiers=[catboost_model(),xgboost_model()],\r\n",
    "\t\t\t        use_probas = True,average_probas = False,meta_classifier = lr)\r\n",
    "\t\t\t    model.fit(train_x, np.argmax(train_y, 1))\r\n",
    "\t\t\t# test\r\n",
    "\t\t\tpred = model.predict_proba(test_x)\r\n",
    "\t\t\tacc = accuracy_score(np.argmax(test_y, 1), np.argmax(pred, 1))\r\n",
    "\t\t\tloss = log_loss(test_y, pred)\r\n",
    "\t\t\tacc_list.append(acc)\r\n",
    "\t\t\tloss_list.append(loss)\r\n",
    "\t\t\tkfold_list.append(loss)\r\n",
    "\t\t\tprint('test acc: %f, test loss: %f' % (acc, loss))\r\n",
    "\t\t\t# predict\r\n",
    "\t\t\tprediction += model.predict_proba(x_test)\r\n",
    "# \t\t\t返回的是概率\r\n",
    "\t\tprint('this fold mean loss:', np.mean(kfold_list))\r\n",
    "\tprint('*'*50)\r\n",
    "\tprint('mean acc: %f, mean loss: %f' % (np.mean(acc_list), np.mean(loss_list)))\r\n",
    "\tprediction = prediction / 50.\r\n",
    "\treturn prediction"
   ]
  },
  {
   "cell_type": "code",
   "execution_count": 21,
   "metadata": {
    "collapsed": false
   },
   "outputs": [
    {
     "name": "stdout",
     "output_type": "stream",
     "text": [
      "1 th kflod**************************************************\n",
      "1fold--------------\n"
     ]
    },
    {
     "name": "stderr",
     "output_type": "stream",
     "text": [
      "/opt/conda/envs/python35-paddle120-env/lib/python3.5/site-packages/sklearn/linear_model/logistic.py:432: FutureWarning: Default solver will be changed to 'lbfgs' in 0.22. Specify a solver to silence this warning.\n",
      "  FutureWarning)\n",
      "/opt/conda/envs/python35-paddle120-env/lib/python3.5/site-packages/sklearn/linear_model/logistic.py:469: FutureWarning: Default multi_class will be changed to 'auto' in 0.22. Specify the multi_class option to silence this warning.\n",
      "  \"this warning.\", FutureWarning)\n"
     ]
    },
    {
     "name": "stdout",
     "output_type": "stream",
     "text": [
      "test acc: 0.528333, test loss: 1.098457\n",
      "2fold--------------\n"
     ]
    },
    {
     "name": "stderr",
     "output_type": "stream",
     "text": [
      "/opt/conda/envs/python35-paddle120-env/lib/python3.5/site-packages/sklearn/linear_model/logistic.py:432: FutureWarning: Default solver will be changed to 'lbfgs' in 0.22. Specify a solver to silence this warning.\n",
      "  FutureWarning)\n",
      "/opt/conda/envs/python35-paddle120-env/lib/python3.5/site-packages/sklearn/linear_model/logistic.py:469: FutureWarning: Default multi_class will be changed to 'auto' in 0.22. Specify the multi_class option to silence this warning.\n",
      "  \"this warning.\", FutureWarning)\n"
     ]
    },
    {
     "name": "stdout",
     "output_type": "stream",
     "text": [
      "test acc: 0.524167, test loss: 1.110841\n",
      "3fold--------------\n"
     ]
    },
    {
     "name": "stderr",
     "output_type": "stream",
     "text": [
      "/opt/conda/envs/python35-paddle120-env/lib/python3.5/site-packages/sklearn/linear_model/logistic.py:432: FutureWarning: Default solver will be changed to 'lbfgs' in 0.22. Specify a solver to silence this warning.\n",
      "  FutureWarning)\n",
      "/opt/conda/envs/python35-paddle120-env/lib/python3.5/site-packages/sklearn/linear_model/logistic.py:469: FutureWarning: Default multi_class will be changed to 'auto' in 0.22. Specify the multi_class option to silence this warning.\n",
      "  \"this warning.\", FutureWarning)\n"
     ]
    },
    {
     "name": "stdout",
     "output_type": "stream",
     "text": [
      "test acc: 0.520000, test loss: 1.132792\n",
      "4fold--------------\n"
     ]
    },
    {
     "name": "stderr",
     "output_type": "stream",
     "text": [
      "/opt/conda/envs/python35-paddle120-env/lib/python3.5/site-packages/sklearn/linear_model/logistic.py:432: FutureWarning: Default solver will be changed to 'lbfgs' in 0.22. Specify a solver to silence this warning.\n",
      "  FutureWarning)\n",
      "/opt/conda/envs/python35-paddle120-env/lib/python3.5/site-packages/sklearn/linear_model/logistic.py:469: FutureWarning: Default multi_class will be changed to 'auto' in 0.22. Specify the multi_class option to silence this warning.\n",
      "  \"this warning.\", FutureWarning)\n"
     ]
    },
    {
     "name": "stdout",
     "output_type": "stream",
     "text": [
      "test acc: 0.575833, test loss: 1.066807\n",
      "5fold--------------\n"
     ]
    },
    {
     "name": "stderr",
     "output_type": "stream",
     "text": [
      "/opt/conda/envs/python35-paddle120-env/lib/python3.5/site-packages/sklearn/linear_model/logistic.py:432: FutureWarning: Default solver will be changed to 'lbfgs' in 0.22. Specify a solver to silence this warning.\n",
      "  FutureWarning)\n",
      "/opt/conda/envs/python35-paddle120-env/lib/python3.5/site-packages/sklearn/linear_model/logistic.py:469: FutureWarning: Default multi_class will be changed to 'auto' in 0.22. Specify the multi_class option to silence this warning.\n",
      "  \"this warning.\", FutureWarning)\n"
     ]
    },
    {
     "name": "stdout",
     "output_type": "stream",
     "text": [
      "test acc: 0.515000, test loss: 1.141736\n",
      "this fold mean loss: 1.1101266492569806\n",
      "2 th kflod**************************************************\n",
      "1fold--------------\n"
     ]
    },
    {
     "name": "stderr",
     "output_type": "stream",
     "text": [
      "/opt/conda/envs/python35-paddle120-env/lib/python3.5/site-packages/sklearn/linear_model/logistic.py:432: FutureWarning: Default solver will be changed to 'lbfgs' in 0.22. Specify a solver to silence this warning.\n",
      "  FutureWarning)\n",
      "/opt/conda/envs/python35-paddle120-env/lib/python3.5/site-packages/sklearn/linear_model/logistic.py:469: FutureWarning: Default multi_class will be changed to 'auto' in 0.22. Specify the multi_class option to silence this warning.\n",
      "  \"this warning.\", FutureWarning)\n"
     ]
    },
    {
     "name": "stdout",
     "output_type": "stream",
     "text": [
      "test acc: 0.514167, test loss: 1.146541\n",
      "2fold--------------\n"
     ]
    },
    {
     "name": "stderr",
     "output_type": "stream",
     "text": [
      "/opt/conda/envs/python35-paddle120-env/lib/python3.5/site-packages/sklearn/linear_model/logistic.py:432: FutureWarning: Default solver will be changed to 'lbfgs' in 0.22. Specify a solver to silence this warning.\n",
      "  FutureWarning)\n",
      "/opt/conda/envs/python35-paddle120-env/lib/python3.5/site-packages/sklearn/linear_model/logistic.py:469: FutureWarning: Default multi_class will be changed to 'auto' in 0.22. Specify the multi_class option to silence this warning.\n",
      "  \"this warning.\", FutureWarning)\n"
     ]
    },
    {
     "name": "stdout",
     "output_type": "stream",
     "text": [
      "test acc: 0.535833, test loss: 1.106939\n",
      "3fold--------------\n"
     ]
    },
    {
     "name": "stderr",
     "output_type": "stream",
     "text": [
      "/opt/conda/envs/python35-paddle120-env/lib/python3.5/site-packages/sklearn/linear_model/logistic.py:432: FutureWarning: Default solver will be changed to 'lbfgs' in 0.22. Specify a solver to silence this warning.\n",
      "  FutureWarning)\n",
      "/opt/conda/envs/python35-paddle120-env/lib/python3.5/site-packages/sklearn/linear_model/logistic.py:469: FutureWarning: Default multi_class will be changed to 'auto' in 0.22. Specify the multi_class option to silence this warning.\n",
      "  \"this warning.\", FutureWarning)\n"
     ]
    },
    {
     "name": "stdout",
     "output_type": "stream",
     "text": [
      "test acc: 0.529167, test loss: 1.104612\n",
      "4fold--------------\n"
     ]
    },
    {
     "name": "stderr",
     "output_type": "stream",
     "text": [
      "/opt/conda/envs/python35-paddle120-env/lib/python3.5/site-packages/sklearn/linear_model/logistic.py:432: FutureWarning: Default solver will be changed to 'lbfgs' in 0.22. Specify a solver to silence this warning.\n",
      "  FutureWarning)\n",
      "/opt/conda/envs/python35-paddle120-env/lib/python3.5/site-packages/sklearn/linear_model/logistic.py:469: FutureWarning: Default multi_class will be changed to 'auto' in 0.22. Specify the multi_class option to silence this warning.\n",
      "  \"this warning.\", FutureWarning)\n"
     ]
    },
    {
     "name": "stdout",
     "output_type": "stream",
     "text": [
      "test acc: 0.523333, test loss: 1.121705\n",
      "5fold--------------\n"
     ]
    },
    {
     "name": "stderr",
     "output_type": "stream",
     "text": [
      "/opt/conda/envs/python35-paddle120-env/lib/python3.5/site-packages/sklearn/linear_model/logistic.py:432: FutureWarning: Default solver will be changed to 'lbfgs' in 0.22. Specify a solver to silence this warning.\n",
      "  FutureWarning)\n",
      "/opt/conda/envs/python35-paddle120-env/lib/python3.5/site-packages/sklearn/linear_model/logistic.py:469: FutureWarning: Default multi_class will be changed to 'auto' in 0.22. Specify the multi_class option to silence this warning.\n",
      "  \"this warning.\", FutureWarning)\n"
     ]
    },
    {
     "name": "stdout",
     "output_type": "stream",
     "text": [
      "test acc: 0.530833, test loss: 1.084773\n",
      "this fold mean loss: 1.1129141401534288\n",
      "3 th kflod**************************************************\n",
      "1fold--------------\n"
     ]
    },
    {
     "name": "stderr",
     "output_type": "stream",
     "text": [
      "/opt/conda/envs/python35-paddle120-env/lib/python3.5/site-packages/sklearn/linear_model/logistic.py:432: FutureWarning: Default solver will be changed to 'lbfgs' in 0.22. Specify a solver to silence this warning.\n",
      "  FutureWarning)\n",
      "/opt/conda/envs/python35-paddle120-env/lib/python3.5/site-packages/sklearn/linear_model/logistic.py:469: FutureWarning: Default multi_class will be changed to 'auto' in 0.22. Specify the multi_class option to silence this warning.\n",
      "  \"this warning.\", FutureWarning)\n"
     ]
    },
    {
     "name": "stdout",
     "output_type": "stream",
     "text": [
      "test acc: 0.532500, test loss: 1.101649\n",
      "2fold--------------\n"
     ]
    },
    {
     "name": "stderr",
     "output_type": "stream",
     "text": [
      "/opt/conda/envs/python35-paddle120-env/lib/python3.5/site-packages/sklearn/linear_model/logistic.py:432: FutureWarning: Default solver will be changed to 'lbfgs' in 0.22. Specify a solver to silence this warning.\n",
      "  FutureWarning)\n",
      "/opt/conda/envs/python35-paddle120-env/lib/python3.5/site-packages/sklearn/linear_model/logistic.py:469: FutureWarning: Default multi_class will be changed to 'auto' in 0.22. Specify the multi_class option to silence this warning.\n",
      "  \"this warning.\", FutureWarning)\n"
     ]
    },
    {
     "name": "stdout",
     "output_type": "stream",
     "text": [
      "test acc: 0.518333, test loss: 1.140667\n",
      "3fold--------------\n"
     ]
    },
    {
     "name": "stderr",
     "output_type": "stream",
     "text": [
      "/opt/conda/envs/python35-paddle120-env/lib/python3.5/site-packages/sklearn/linear_model/logistic.py:432: FutureWarning: Default solver will be changed to 'lbfgs' in 0.22. Specify a solver to silence this warning.\n",
      "  FutureWarning)\n",
      "/opt/conda/envs/python35-paddle120-env/lib/python3.5/site-packages/sklearn/linear_model/logistic.py:469: FutureWarning: Default multi_class will be changed to 'auto' in 0.22. Specify the multi_class option to silence this warning.\n",
      "  \"this warning.\", FutureWarning)\n"
     ]
    },
    {
     "name": "stdout",
     "output_type": "stream",
     "text": [
      "test acc: 0.543333, test loss: 1.100248\n",
      "4fold--------------\n"
     ]
    },
    {
     "name": "stderr",
     "output_type": "stream",
     "text": [
      "/opt/conda/envs/python35-paddle120-env/lib/python3.5/site-packages/sklearn/linear_model/logistic.py:432: FutureWarning: Default solver will be changed to 'lbfgs' in 0.22. Specify a solver to silence this warning.\n",
      "  FutureWarning)\n",
      "/opt/conda/envs/python35-paddle120-env/lib/python3.5/site-packages/sklearn/linear_model/logistic.py:469: FutureWarning: Default multi_class will be changed to 'auto' in 0.22. Specify the multi_class option to silence this warning.\n",
      "  \"this warning.\", FutureWarning)\n"
     ]
    },
    {
     "name": "stdout",
     "output_type": "stream",
     "text": [
      "test acc: 0.527500, test loss: 1.094964\n",
      "5fold--------------\n"
     ]
    },
    {
     "name": "stderr",
     "output_type": "stream",
     "text": [
      "/opt/conda/envs/python35-paddle120-env/lib/python3.5/site-packages/sklearn/linear_model/logistic.py:432: FutureWarning: Default solver will be changed to 'lbfgs' in 0.22. Specify a solver to silence this warning.\n",
      "  FutureWarning)\n",
      "/opt/conda/envs/python35-paddle120-env/lib/python3.5/site-packages/sklearn/linear_model/logistic.py:469: FutureWarning: Default multi_class will be changed to 'auto' in 0.22. Specify the multi_class option to silence this warning.\n",
      "  \"this warning.\", FutureWarning)\n"
     ]
    },
    {
     "name": "stdout",
     "output_type": "stream",
     "text": [
      "test acc: 0.533333, test loss: 1.116719\n",
      "this fold mean loss: 1.1108494442620027\n",
      "4 th kflod**************************************************\n",
      "1fold--------------\n"
     ]
    },
    {
     "name": "stderr",
     "output_type": "stream",
     "text": [
      "/opt/conda/envs/python35-paddle120-env/lib/python3.5/site-packages/sklearn/linear_model/logistic.py:432: FutureWarning: Default solver will be changed to 'lbfgs' in 0.22. Specify a solver to silence this warning.\n",
      "  FutureWarning)\n",
      "/opt/conda/envs/python35-paddle120-env/lib/python3.5/site-packages/sklearn/linear_model/logistic.py:469: FutureWarning: Default multi_class will be changed to 'auto' in 0.22. Specify the multi_class option to silence this warning.\n",
      "  \"this warning.\", FutureWarning)\n"
     ]
    },
    {
     "name": "stdout",
     "output_type": "stream",
     "text": [
      "test acc: 0.540833, test loss: 1.070499\n",
      "2fold--------------\n"
     ]
    },
    {
     "name": "stderr",
     "output_type": "stream",
     "text": [
      "/opt/conda/envs/python35-paddle120-env/lib/python3.5/site-packages/sklearn/linear_model/logistic.py:432: FutureWarning: Default solver will be changed to 'lbfgs' in 0.22. Specify a solver to silence this warning.\n",
      "  FutureWarning)\n",
      "/opt/conda/envs/python35-paddle120-env/lib/python3.5/site-packages/sklearn/linear_model/logistic.py:469: FutureWarning: Default multi_class will be changed to 'auto' in 0.22. Specify the multi_class option to silence this warning.\n",
      "  \"this warning.\", FutureWarning)\n"
     ]
    },
    {
     "name": "stdout",
     "output_type": "stream",
     "text": [
      "test acc: 0.529167, test loss: 1.132832\n",
      "3fold--------------\n"
     ]
    },
    {
     "name": "stderr",
     "output_type": "stream",
     "text": [
      "/opt/conda/envs/python35-paddle120-env/lib/python3.5/site-packages/sklearn/linear_model/logistic.py:432: FutureWarning: Default solver will be changed to 'lbfgs' in 0.22. Specify a solver to silence this warning.\n",
      "  FutureWarning)\n",
      "/opt/conda/envs/python35-paddle120-env/lib/python3.5/site-packages/sklearn/linear_model/logistic.py:469: FutureWarning: Default multi_class will be changed to 'auto' in 0.22. Specify the multi_class option to silence this warning.\n",
      "  \"this warning.\", FutureWarning)\n"
     ]
    },
    {
     "name": "stdout",
     "output_type": "stream",
     "text": [
      "test acc: 0.526667, test loss: 1.123266\n",
      "4fold--------------\n"
     ]
    },
    {
     "name": "stderr",
     "output_type": "stream",
     "text": [
      "/opt/conda/envs/python35-paddle120-env/lib/python3.5/site-packages/sklearn/linear_model/logistic.py:432: FutureWarning: Default solver will be changed to 'lbfgs' in 0.22. Specify a solver to silence this warning.\n",
      "  FutureWarning)\n",
      "/opt/conda/envs/python35-paddle120-env/lib/python3.5/site-packages/sklearn/linear_model/logistic.py:469: FutureWarning: Default multi_class will be changed to 'auto' in 0.22. Specify the multi_class option to silence this warning.\n",
      "  \"this warning.\", FutureWarning)\n"
     ]
    },
    {
     "name": "stdout",
     "output_type": "stream",
     "text": [
      "test acc: 0.528333, test loss: 1.107187\n",
      "5fold--------------\n"
     ]
    },
    {
     "name": "stderr",
     "output_type": "stream",
     "text": [
      "/opt/conda/envs/python35-paddle120-env/lib/python3.5/site-packages/sklearn/linear_model/logistic.py:432: FutureWarning: Default solver will be changed to 'lbfgs' in 0.22. Specify a solver to silence this warning.\n",
      "  FutureWarning)\n",
      "/opt/conda/envs/python35-paddle120-env/lib/python3.5/site-packages/sklearn/linear_model/logistic.py:469: FutureWarning: Default multi_class will be changed to 'auto' in 0.22. Specify the multi_class option to silence this warning.\n",
      "  \"this warning.\", FutureWarning)\n"
     ]
    },
    {
     "name": "stdout",
     "output_type": "stream",
     "text": [
      "test acc: 0.520833, test loss: 1.142663\n",
      "this fold mean loss: 1.1152895474681113\n",
      "5 th kflod**************************************************\n",
      "1fold--------------\n"
     ]
    },
    {
     "name": "stderr",
     "output_type": "stream",
     "text": [
      "/opt/conda/envs/python35-paddle120-env/lib/python3.5/site-packages/sklearn/linear_model/logistic.py:432: FutureWarning: Default solver will be changed to 'lbfgs' in 0.22. Specify a solver to silence this warning.\n",
      "  FutureWarning)\n",
      "/opt/conda/envs/python35-paddle120-env/lib/python3.5/site-packages/sklearn/linear_model/logistic.py:469: FutureWarning: Default multi_class will be changed to 'auto' in 0.22. Specify the multi_class option to silence this warning.\n",
      "  \"this warning.\", FutureWarning)\n"
     ]
    },
    {
     "name": "stdout",
     "output_type": "stream",
     "text": [
      "test acc: 0.521667, test loss: 1.119427\n",
      "2fold--------------\n"
     ]
    },
    {
     "name": "stderr",
     "output_type": "stream",
     "text": [
      "/opt/conda/envs/python35-paddle120-env/lib/python3.5/site-packages/sklearn/linear_model/logistic.py:432: FutureWarning: Default solver will be changed to 'lbfgs' in 0.22. Specify a solver to silence this warning.\n",
      "  FutureWarning)\n",
      "/opt/conda/envs/python35-paddle120-env/lib/python3.5/site-packages/sklearn/linear_model/logistic.py:469: FutureWarning: Default multi_class will be changed to 'auto' in 0.22. Specify the multi_class option to silence this warning.\n",
      "  \"this warning.\", FutureWarning)\n"
     ]
    },
    {
     "name": "stdout",
     "output_type": "stream",
     "text": [
      "test acc: 0.521667, test loss: 1.109307\n",
      "3fold--------------\n"
     ]
    },
    {
     "name": "stderr",
     "output_type": "stream",
     "text": [
      "/opt/conda/envs/python35-paddle120-env/lib/python3.5/site-packages/sklearn/linear_model/logistic.py:432: FutureWarning: Default solver will be changed to 'lbfgs' in 0.22. Specify a solver to silence this warning.\n",
      "  FutureWarning)\n",
      "/opt/conda/envs/python35-paddle120-env/lib/python3.5/site-packages/sklearn/linear_model/logistic.py:469: FutureWarning: Default multi_class will be changed to 'auto' in 0.22. Specify the multi_class option to silence this warning.\n",
      "  \"this warning.\", FutureWarning)\n"
     ]
    },
    {
     "name": "stdout",
     "output_type": "stream",
     "text": [
      "test acc: 0.530833, test loss: 1.090158\n",
      "4fold--------------\n"
     ]
    },
    {
     "name": "stderr",
     "output_type": "stream",
     "text": [
      "/opt/conda/envs/python35-paddle120-env/lib/python3.5/site-packages/sklearn/linear_model/logistic.py:432: FutureWarning: Default solver will be changed to 'lbfgs' in 0.22. Specify a solver to silence this warning.\n",
      "  FutureWarning)\n",
      "/opt/conda/envs/python35-paddle120-env/lib/python3.5/site-packages/sklearn/linear_model/logistic.py:469: FutureWarning: Default multi_class will be changed to 'auto' in 0.22. Specify the multi_class option to silence this warning.\n",
      "  \"this warning.\", FutureWarning)\n"
     ]
    },
    {
     "name": "stdout",
     "output_type": "stream",
     "text": [
      "test acc: 0.526667, test loss: 1.119133\n",
      "5fold--------------\n"
     ]
    },
    {
     "name": "stderr",
     "output_type": "stream",
     "text": [
      "/opt/conda/envs/python35-paddle120-env/lib/python3.5/site-packages/sklearn/linear_model/logistic.py:432: FutureWarning: Default solver will be changed to 'lbfgs' in 0.22. Specify a solver to silence this warning.\n",
      "  FutureWarning)\n",
      "/opt/conda/envs/python35-paddle120-env/lib/python3.5/site-packages/sklearn/linear_model/logistic.py:469: FutureWarning: Default multi_class will be changed to 'auto' in 0.22. Specify the multi_class option to silence this warning.\n",
      "  \"this warning.\", FutureWarning)\n"
     ]
    },
    {
     "name": "stdout",
     "output_type": "stream",
     "text": [
      "test acc: 0.510833, test loss: 1.176165\n",
      "this fold mean loss: 1.1228380873181243\n",
      "6 th kflod**************************************************\n",
      "1fold--------------\n"
     ]
    },
    {
     "name": "stderr",
     "output_type": "stream",
     "text": [
      "/opt/conda/envs/python35-paddle120-env/lib/python3.5/site-packages/sklearn/linear_model/logistic.py:432: FutureWarning: Default solver will be changed to 'lbfgs' in 0.22. Specify a solver to silence this warning.\n",
      "  FutureWarning)\n",
      "/opt/conda/envs/python35-paddle120-env/lib/python3.5/site-packages/sklearn/linear_model/logistic.py:469: FutureWarning: Default multi_class will be changed to 'auto' in 0.22. Specify the multi_class option to silence this warning.\n",
      "  \"this warning.\", FutureWarning)\n"
     ]
    },
    {
     "name": "stdout",
     "output_type": "stream",
     "text": [
      "test acc: 0.535833, test loss: 1.112511\n",
      "2fold--------------\n"
     ]
    },
    {
     "name": "stderr",
     "output_type": "stream",
     "text": [
      "/opt/conda/envs/python35-paddle120-env/lib/python3.5/site-packages/sklearn/linear_model/logistic.py:432: FutureWarning: Default solver will be changed to 'lbfgs' in 0.22. Specify a solver to silence this warning.\n",
      "  FutureWarning)\n",
      "/opt/conda/envs/python35-paddle120-env/lib/python3.5/site-packages/sklearn/linear_model/logistic.py:469: FutureWarning: Default multi_class will be changed to 'auto' in 0.22. Specify the multi_class option to silence this warning.\n",
      "  \"this warning.\", FutureWarning)\n"
     ]
    },
    {
     "name": "stdout",
     "output_type": "stream",
     "text": [
      "test acc: 0.519167, test loss: 1.133968\n",
      "3fold--------------\n"
     ]
    },
    {
     "name": "stderr",
     "output_type": "stream",
     "text": [
      "/opt/conda/envs/python35-paddle120-env/lib/python3.5/site-packages/sklearn/linear_model/logistic.py:432: FutureWarning: Default solver will be changed to 'lbfgs' in 0.22. Specify a solver to silence this warning.\n",
      "  FutureWarning)\n",
      "/opt/conda/envs/python35-paddle120-env/lib/python3.5/site-packages/sklearn/linear_model/logistic.py:469: FutureWarning: Default multi_class will be changed to 'auto' in 0.22. Specify the multi_class option to silence this warning.\n",
      "  \"this warning.\", FutureWarning)\n"
     ]
    },
    {
     "name": "stdout",
     "output_type": "stream",
     "text": [
      "test acc: 0.530833, test loss: 1.093296\n",
      "4fold--------------\n"
     ]
    },
    {
     "name": "stderr",
     "output_type": "stream",
     "text": [
      "/opt/conda/envs/python35-paddle120-env/lib/python3.5/site-packages/sklearn/linear_model/logistic.py:432: FutureWarning: Default solver will be changed to 'lbfgs' in 0.22. Specify a solver to silence this warning.\n",
      "  FutureWarning)\n",
      "/opt/conda/envs/python35-paddle120-env/lib/python3.5/site-packages/sklearn/linear_model/logistic.py:469: FutureWarning: Default multi_class will be changed to 'auto' in 0.22. Specify the multi_class option to silence this warning.\n",
      "  \"this warning.\", FutureWarning)\n"
     ]
    },
    {
     "name": "stdout",
     "output_type": "stream",
     "text": [
      "test acc: 0.534167, test loss: 1.121444\n",
      "5fold--------------\n"
     ]
    },
    {
     "name": "stderr",
     "output_type": "stream",
     "text": [
      "/opt/conda/envs/python35-paddle120-env/lib/python3.5/site-packages/sklearn/linear_model/logistic.py:432: FutureWarning: Default solver will be changed to 'lbfgs' in 0.22. Specify a solver to silence this warning.\n",
      "  FutureWarning)\n",
      "/opt/conda/envs/python35-paddle120-env/lib/python3.5/site-packages/sklearn/linear_model/logistic.py:469: FutureWarning: Default multi_class will be changed to 'auto' in 0.22. Specify the multi_class option to silence this warning.\n",
      "  \"this warning.\", FutureWarning)\n"
     ]
    },
    {
     "name": "stdout",
     "output_type": "stream",
     "text": [
      "test acc: 0.523333, test loss: 1.113249\n",
      "this fold mean loss: 1.1148935251747125\n",
      "7 th kflod**************************************************\n",
      "1fold--------------\n"
     ]
    },
    {
     "name": "stderr",
     "output_type": "stream",
     "text": [
      "/opt/conda/envs/python35-paddle120-env/lib/python3.5/site-packages/sklearn/linear_model/logistic.py:432: FutureWarning: Default solver will be changed to 'lbfgs' in 0.22. Specify a solver to silence this warning.\n",
      "  FutureWarning)\n",
      "/opt/conda/envs/python35-paddle120-env/lib/python3.5/site-packages/sklearn/linear_model/logistic.py:469: FutureWarning: Default multi_class will be changed to 'auto' in 0.22. Specify the multi_class option to silence this warning.\n",
      "  \"this warning.\", FutureWarning)\n"
     ]
    },
    {
     "name": "stdout",
     "output_type": "stream",
     "text": [
      "test acc: 0.560833, test loss: 1.067629\n",
      "2fold--------------\n"
     ]
    },
    {
     "name": "stderr",
     "output_type": "stream",
     "text": [
      "/opt/conda/envs/python35-paddle120-env/lib/python3.5/site-packages/sklearn/linear_model/logistic.py:432: FutureWarning: Default solver will be changed to 'lbfgs' in 0.22. Specify a solver to silence this warning.\n",
      "  FutureWarning)\n",
      "/opt/conda/envs/python35-paddle120-env/lib/python3.5/site-packages/sklearn/linear_model/logistic.py:469: FutureWarning: Default multi_class will be changed to 'auto' in 0.22. Specify the multi_class option to silence this warning.\n",
      "  \"this warning.\", FutureWarning)\n"
     ]
    },
    {
     "name": "stdout",
     "output_type": "stream",
     "text": [
      "test acc: 0.499167, test loss: 1.156873\n",
      "3fold--------------\n"
     ]
    }
   ],
   "source": [
    "def submit_result(prediction):\r\n",
    "\tsub = test_data[['Group']]\r\n",
    "\tprob_cols = [i for i in submit.columns if i not in ['Group']]\r\n",
    "\tfor i, f in enumerate(prob_cols):\r\n",
    "\t\tsub[f] = prediction[:, i]\r\n",
    "\tfor i in prob_cols:\r\n",
    "\t\tsub[i] = sub.groupby('Group')[i].transform('mean')\r\n",
    "\tsub = sub.drop_duplicates()\r\n",
    "\tsub.to_csv(\"/home/aistudio/work/result.csv\", index=False)\r\n",
    "\r\n",
    "time1 = time.clock()\r\n",
    "prediction = kfold_train('sclf')\r\n",
    "time2 = time.clock()\r\n",
    "print('running time: ', str((time2 - time1)/60))\r\n",
    "submit_result(prediction)"
   ]
  },
  {
   "cell_type": "code",
   "execution_count": 19,
   "metadata": {
    "collapsed": false
   },
   "outputs": [],
   "source": [
    "# grid_search('cat')"
   ]
  },
  {
   "cell_type": "code",
   "execution_count": null,
   "metadata": {
    "collapsed": false
   },
   "outputs": [],
   "source": []
  },
  {
   "cell_type": "code",
   "execution_count": null,
   "metadata": {
    "collapsed": false
   },
   "outputs": [],
   "source": []
  },
  {
   "cell_type": "code",
   "execution_count": null,
   "metadata": {
    "collapsed": false
   },
   "outputs": [],
   "source": []
  },
  {
   "cell_type": "code",
   "execution_count": null,
   "metadata": {
    "collapsed": false
   },
   "outputs": [],
   "source": []
  },
  {
   "cell_type": "markdown",
   "metadata": {
    "collapsed": false
   },
   "source": [
    "请点击[此处](https://ai.baidu.com/docs#/AIStudio_Project_Notebook/a38e5576)查看本环境基本用法.  <br>\n",
    "Please click [here ](https://ai.baidu.com/docs#/AIStudio_Project_Notebook/a38e5576) for more detailed instructions. "
   ]
  },
  {
   "cell_type": "code",
   "execution_count": null,
   "metadata": {
    "collapsed": false
   },
   "outputs": [],
   "source": []
  },
  {
   "cell_type": "code",
   "execution_count": null,
   "metadata": {
    "collapsed": false
   },
   "outputs": [],
   "source": []
  },
  {
   "cell_type": "code",
   "execution_count": null,
   "metadata": {
    "collapsed": false
   },
   "outputs": [],
   "source": []
  },
  {
   "cell_type": "code",
   "execution_count": null,
   "metadata": {
    "collapsed": false
   },
   "outputs": [],
   "source": []
  },
  {
   "cell_type": "code",
   "execution_count": null,
   "metadata": {
    "collapsed": false
   },
   "outputs": [],
   "source": []
  },
  {
   "cell_type": "code",
   "execution_count": null,
   "metadata": {
    "collapsed": false
   },
   "outputs": [],
   "source": []
  },
  {
   "cell_type": "code",
   "execution_count": null,
   "metadata": {
    "collapsed": false
   },
   "outputs": [],
   "source": []
  },
  {
   "cell_type": "code",
   "execution_count": null,
   "metadata": {
    "collapsed": false
   },
   "outputs": [],
   "source": []
  },
  {
   "cell_type": "code",
   "execution_count": null,
   "metadata": {
    "collapsed": false
   },
   "outputs": [],
   "source": []
  },
  {
   "cell_type": "code",
   "execution_count": null,
   "metadata": {
    "collapsed": false
   },
   "outputs": [],
   "source": []
  },
  {
   "cell_type": "code",
   "execution_count": null,
   "metadata": {
    "collapsed": false
   },
   "outputs": [],
   "source": []
  },
  {
   "cell_type": "code",
   "execution_count": null,
   "metadata": {
    "collapsed": false
   },
   "outputs": [],
   "source": []
  },
  {
   "cell_type": "code",
   "execution_count": null,
   "metadata": {
    "collapsed": false
   },
   "outputs": [],
   "source": []
  },
  {
   "cell_type": "code",
   "execution_count": null,
   "metadata": {
    "collapsed": false
   },
   "outputs": [],
   "source": []
  }
 ],
 "metadata": {
  "kernelspec": {
   "display_name": "PaddlePaddle 1.5.1 (Python 3.5)",
   "language": "python",
   "name": "py35-paddle1.2.0"
  },
  "language_info": {
   "codemirror_mode": {
    "name": "ipython",
    "version": 3
   },
   "file_extension": ".py",
   "mimetype": "text/x-python",
   "name": "python",
   "nbconvert_exporter": "python",
   "pygments_lexer": "ipython3",
   "version": "3.5.5"
  }
 },
 "nbformat": 4,
 "nbformat_minor": 1
}
