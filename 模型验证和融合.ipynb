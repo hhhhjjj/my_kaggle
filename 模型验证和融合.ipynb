{
 "cells": [
  {
   "cell_type": "code",
   "execution_count": null,
   "metadata": {
    "collapsed": true
   },
   "outputs": [],
   "source": [
    "# 给出N个样本，C个类别的模型预测概率矩阵\n",
    "# 找到每个样本最大的概率类别和对应的概率\n",
    "# 反正就是个矩阵，numpy自己算算就行了\n",
    "# 当然算完第一个还可以算第二大第三大的概率这些\n",
    "# 给定长度为N的类别向量，查找每个样本对应的类别的概率\n",
    "# 这个就是每个样本找到对应的类别，然后看概率多少"
   ]
  },
  {
   "cell_type": "code",
   "execution_count": null,
   "metadata": {},
   "outputs": [],
   "source": [
    "# 如何用线性模型描述非线性关系\n",
    "# 一般在方程中加入x平方，加平方根，加对数这些都可以\n",
    "# 然后对一个变量的回归的话，就对特征分桶，然后每一段来拟合就行了\n",
    "# 对原始特征还有函数变换等操作"
   ]
  },
  {
   "cell_type": "code",
   "execution_count": null,
   "metadata": {},
   "outputs": [],
   "source": [
    "# 线性回归模型种新增特征Xn，训练集的均方误差一定会相等或减小吗？\n",
    "# 从目标函数最优化的角度来说，一定会减小\n",
    "# 因为其实最后的目标函数是一样的，不过是这个Xn的权重为0或者不为0而已\n",
    "# 这个权重为0的模型能够达到的最小值肯定不如权重不为0的"
   ]
  },
  {
   "cell_type": "code",
   "execution_count": null,
   "metadata": {},
   "outputs": [],
   "source": [
    "# 如果是换成测试集的均方误差，那就不一定减小了，可能就过拟合了"
   ]
  },
  {
   "cell_type": "code",
   "execution_count": null,
   "metadata": {},
   "outputs": [],
   "source": [
    "# 交叉验证的话就是来确定过拟合和欠拟合的平衡点，通过验证集的指标进行模型拟合"
   ]
  },
  {
   "cell_type": "code",
   "execution_count": null,
   "metadata": {},
   "outputs": [],
   "source": [
    "# 模型设定错误导致的误差叫做偏差，数据量小，数据随机性导致的误差叫做方差"
   ]
  },
  {
   "cell_type": "code",
   "execution_count": null,
   "metadata": {},
   "outputs": [],
   "source": [
    "# 比如设定模型的时候没有平方项，导致的误差就是偏差"
   ]
  },
  {
   "cell_type": "code",
   "execution_count": null,
   "metadata": {},
   "outputs": [],
   "source": [
    "# 画图把验证集和测试集上的误差都画出来就是个u型曲线，先是偏差下降，然后方差上升"
   ]
  },
  {
   "cell_type": "code",
   "execution_count": null,
   "metadata": {},
   "outputs": [],
   "source": [
    "# k折交叉验证就是把数据集分成k份，每次只使用一份"
   ]
  },
  {
   "cell_type": "code",
   "execution_count": null,
   "metadata": {},
   "outputs": [],
   "source": [
    "# stacking第二层预测用的是第一层的输出"
   ]
  },
  {
   "cell_type": "code",
   "execution_count": null,
   "metadata": {},
   "outputs": [],
   "source": [
    "# MAE是中位数回归，这个工件赛的可以用试试"
   ]
  },
  {
   "cell_type": "code",
   "execution_count": null,
   "metadata": {},
   "outputs": [],
   "source": [
    "# 工件赛我们可以建立group级别的第二层模型，来优化mae损失\n",
    "# 预测每一个工件四个类别的概率分布，按group求平均，得到每个group的平均类别分布比例\n",
    "# 然后这个比例再做特征，预测group种四个类别的真实比例\n",
    "# 类似stacking"
   ]
  },
  {
   "cell_type": "code",
   "execution_count": null,
   "metadata": {},
   "outputs": [],
   "source": [
    "# 用0.02取整这个不用管是否相加为1，反正就找最近的0.02的倍数就行"
   ]
  },
  {
   "cell_type": "code",
   "execution_count": null,
   "metadata": {},
   "outputs": [],
   "source": []
  },
  {
   "cell_type": "code",
   "execution_count": null,
   "metadata": {},
   "outputs": [],
   "source": []
  },
  {
   "cell_type": "code",
   "execution_count": null,
   "metadata": {},
   "outputs": [],
   "source": []
  }
 ],
 "metadata": {
  "kernelspec": {
   "display_name": "Python 2",
   "language": "python",
   "name": "python2"
  },
  "language_info": {
   "codemirror_mode": {
    "name": "ipython",
    "version": 2
   },
   "file_extension": ".py",
   "mimetype": "text/x-python",
   "name": "python",
   "nbconvert_exporter": "python",
   "pygments_lexer": "ipython2",
   "version": "2.7.6"
  }
 },
 "nbformat": 4,
 "nbformat_minor": 0
}
