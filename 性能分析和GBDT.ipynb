{
 "cells": [
  {
   "cell_type": "code",
   "execution_count": null,
   "metadata": {
    "collapsed": true
   },
   "outputs": [],
   "source": [
    "# 其实就是如何用普通电脑来打比赛\n",
    "# 数学运算不一定用np快\n",
    "# 有的时候性能还不如自带的\n",
    "# 因为np里面的函数都是基于数组运算来设计的\n",
    "# 直接输入整数这些还会转成数组再来算"
   ]
  },
  {
   "cell_type": "code",
   "execution_count": null,
   "metadata": {},
   "outputs": [],
   "source": [
    "# 用%timeit来测试耗时\n",
    "# 生成一个0到999的list，然后生成随机数\n",
    "import numpy as np\n",
    "a = list(range(1000))\n",
    "a.index(np.random.randint(1000))\n",
    "# 这个index就是将生成的随机数，变成索引，找到对应的位置\n",
    "# 这个比如随机生成了800，那么会从第一个找到第800个，比较慢\n",
    "a[np.random.randint(1000)]\n",
    "# 这个是随机生成了一个整数，提取这个整数所在位置的元素\n",
    "# 这个就是直接去取800位置上的元素"
   ]
  },
  {
   "cell_type": "code",
   "execution_count": null,
   "metadata": {},
   "outputs": [],
   "source": [
    "# 有的数据集比较大，那么先从中选个十分之一左右训练一下，看看需要耗时多少，再来估算\n",
    "# 判断每一步耗时\n",
    "# 有的时候准备数据花费的时间还挺长的\n",
    "# 这时候就去优化数据准备的时间\n",
    "# 遍历上面一般耗时很长的，这时候就用上面说的取数，将查找变成了常数复杂度\n",
    "# 如果有三个条件，那么可能导致三次遍历，这样也想想优化\n",
    "# 把三个条件判断用同一行来，一行行下去，就只需要遍历一次就行"
   ]
  },
  {
   "cell_type": "code",
   "execution_count": null,
   "metadata": {},
   "outputs": [],
   "source": [
    "# data.id==i.id and data.year==i.year and data.month==i.month\n",
    "# 我们提前把起始位置和终止位置算好\n",
    "# 然后再iloc直接去对应的位置上取数\n",
    "# 用groupby，写法能够更加简洁，不需要去拿最小值和最大值"
   ]
  },
  {
   "cell_type": "code",
   "execution_count": null,
   "metadata": {},
   "outputs": [],
   "source": [
    "# 算法优化其实比较难，都是很成熟的了，一般都是优化在数据处理阶段"
   ]
  },
  {
   "cell_type": "code",
   "execution_count": null,
   "metadata": {},
   "outputs": [],
   "source": [
    "# GBDT：每棵树作为对之前的树的补充，不断提高拟合程度，后面的树需要依赖之前的，串行生成\n",
    "# 随机森林式的那种都是并行的"
   ]
  },
  {
   "cell_type": "code",
   "execution_count": null,
   "metadata": {},
   "outputs": [],
   "source": [
    "# 对于一个回归问题，先一棵决策树拟合，残差部分再第二棵树去拟合，直到完全拟合\n",
    "# 把消灭残差的过程抽象为优化问题，损失函数、梯度下降\n",
    "# 为了增加更多树减少方差，一般在梯度上再乘上一个小于1的学习率"
   ]
  },
  {
   "cell_type": "code",
   "execution_count": null,
   "metadata": {},
   "outputs": [],
   "source": [
    "# 树的数目再GBDT和随机森林中对模型预测效果的影响有什么不同？\n",
    "# 随机森林是降低方差，树越多越好，一般不调树的数目\n",
    "# gbdt是需要调的，不然可能过拟合"
   ]
  },
  {
   "cell_type": "code",
   "execution_count": null,
   "metadata": {},
   "outputs": [],
   "source": []
  },
  {
   "cell_type": "code",
   "execution_count": null,
   "metadata": {},
   "outputs": [],
   "source": []
  },
  {
   "cell_type": "code",
   "execution_count": null,
   "metadata": {},
   "outputs": [],
   "source": []
  },
  {
   "cell_type": "code",
   "execution_count": null,
   "metadata": {},
   "outputs": [],
   "source": []
  },
  {
   "cell_type": "code",
   "execution_count": null,
   "metadata": {},
   "outputs": [],
   "source": []
  },
  {
   "cell_type": "code",
   "execution_count": null,
   "metadata": {},
   "outputs": [],
   "source": []
  },
  {
   "cell_type": "code",
   "execution_count": null,
   "metadata": {},
   "outputs": [],
   "source": []
  },
  {
   "cell_type": "code",
   "execution_count": null,
   "metadata": {},
   "outputs": [],
   "source": []
  },
  {
   "cell_type": "code",
   "execution_count": null,
   "metadata": {},
   "outputs": [],
   "source": []
  },
  {
   "cell_type": "code",
   "execution_count": null,
   "metadata": {},
   "outputs": [],
   "source": []
  },
  {
   "cell_type": "code",
   "execution_count": null,
   "metadata": {},
   "outputs": [],
   "source": []
  },
  {
   "cell_type": "code",
   "execution_count": null,
   "metadata": {},
   "outputs": [],
   "source": []
  },
  {
   "cell_type": "code",
   "execution_count": null,
   "metadata": {},
   "outputs": [],
   "source": []
  }
 ],
 "metadata": {
  "kernelspec": {
   "display_name": "Python 2",
   "language": "python",
   "name": "python2"
  },
  "language_info": {
   "codemirror_mode": {
    "name": "ipython",
    "version": 2
   },
   "file_extension": ".py",
   "mimetype": "text/x-python",
   "name": "python",
   "nbconvert_exporter": "python",
   "pygments_lexer": "ipython2",
   "version": "2.7.6"
  }
 },
 "nbformat": 4,
 "nbformat_minor": 0
}
