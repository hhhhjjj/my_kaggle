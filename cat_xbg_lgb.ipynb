{
 "cells": [
  {
   "cell_type": "code",
   "execution_count": 1,
   "metadata": {
    "collapsed": false
   },
   "outputs": [
    {
     "name": "stdout",
     "output_type": "stream",
     "text": [
      "first_round_testin  first_round_traini\tsubmit_example.csv\r\n"
     ]
    }
   ],
   "source": [
    "# 查看当前挂载的数据集目录, 该目录下的变更重启环境后会自动还原\n",
    "# View dataset directory. This directory will be recovered automatically after resetting environment. \n",
    "!ls /home/aistudio/data/data12632/\n"
   ]
  },
  {
   "cell_type": "code",
   "execution_count": 2,
   "metadata": {
    "collapsed": false
   },
   "outputs": [
    {
     "name": "stdout",
     "output_type": "stream",
     "text": [
      "result.csv\r\n"
     ]
    }
   ],
   "source": [
    "# 查看工作区文件, 该目录下的变更将会持久保存. 请及时清理不必要的文件, 避免加载过慢.\n",
    "# View personal work directory. All changes under this directory will be kept even after reset. Please clean unnecessary files in time to speed up environment loading.\n",
    "!ls /home/aistudio/work"
   ]
  },
  {
   "cell_type": "code",
   "execution_count": 3,
   "metadata": {
    "collapsed": false
   },
   "outputs": [
    {
     "name": "stdout",
     "output_type": "stream",
     "text": [
      "Looking in indexes: https://pypi.mirrors.ustc.edu.cn/simple/\n",
      "Collecting catboost\n",
      "\u001b[?25l  Downloading https://mirrors.tuna.tsinghua.edu.cn/pypi/web/packages/67/58/fd5cf8cc902c3f5336a7d8914b6c1127532126d3c047d05e967510484204/catboost-0.17.1-cp35-none-manylinux1_x86_64.whl (62.4MB)\n",
      "\u001b[K    100% |████████████████████████████████| 62.4MB 386kB/s ta 0:00:011   24% |████████                        | 15.5MB 4.9MB/s eta 0:00:10    27% |████████▉                       | 17.2MB 3.8MB/s eta 0:00:12    40% |█████████████                   | 25.4MB 3.6MB/s eta 0:00:11    41% |█████████████▍                  | 26.2MB 760kB/s eta 0:00:48    42% |█████████████▌                  | 26.3MB 700kB/s eta 0:00:52    45% |██████████████▌                 | 28.2MB 7.1MB/s eta 0:00:05    71% |██████████████████████▉         | 44.5MB 6.2MB/s eta 0:00:03\n",
      "\u001b[?25hRequirement already satisfied: numpy>=1.16.0 in /opt/conda/envs/python35-paddle120-env/lib/python3.5/site-packages (from catboost) (1.16.4)\n",
      "Requirement already satisfied: six in /opt/conda/envs/python35-paddle120-env/lib/python3.5/site-packages (from catboost) (1.11.0)\n",
      "Requirement already satisfied: matplotlib in /opt/conda/envs/python35-paddle120-env/lib/python3.5/site-packages (from catboost) (2.2.3)\n",
      "Requirement already satisfied: graphviz in /opt/conda/envs/python35-paddle120-env/lib/python3.5/site-packages (from catboost) (0.11)\n",
      "Collecting plotly (from catboost)\n",
      "\u001b[?25l  Downloading https://mirrors.tuna.tsinghua.edu.cn/pypi/web/packages/70/19/8437e22c84083a6d5d8a3c80f4edc73c9dcbb89261d07e6bd13b48752bbd/plotly-4.1.1-py2.py3-none-any.whl (7.1MB)\n",
      "\u001b[K    100% |████████████████████████████████| 7.1MB 2.3MB/s ta 0:00:011\n",
      "\u001b[?25hRequirement already satisfied: scipy in /opt/conda/envs/python35-paddle120-env/lib/python3.5/site-packages (from catboost) (1.3.0)\n",
      "Requirement already satisfied: pandas>=0.24.0 in /opt/conda/envs/python35-paddle120-env/lib/python3.5/site-packages (from catboost) (0.24.2)\n",
      "Requirement already satisfied: pyparsing!=2.0.4,!=2.1.2,!=2.1.6,>=2.0.1 in /opt/conda/envs/python35-paddle120-env/lib/python3.5/site-packages (from matplotlib->catboost) (2.4.0)\n",
      "Requirement already satisfied: python-dateutil>=2.1 in /opt/conda/envs/python35-paddle120-env/lib/python3.5/site-packages (from matplotlib->catboost) (2.8.0)\n",
      "Requirement already satisfied: cycler>=0.10 in /opt/conda/envs/python35-paddle120-env/lib/python3.5/site-packages (from matplotlib->catboost) (0.10.0)\n",
      "Requirement already satisfied: kiwisolver>=1.0.1 in /opt/conda/envs/python35-paddle120-env/lib/python3.5/site-packages (from matplotlib->catboost) (1.1.0)\n",
      "Requirement already satisfied: pytz in /opt/conda/envs/python35-paddle120-env/lib/python3.5/site-packages (from matplotlib->catboost) (2019.1)\n",
      "Collecting retrying>=1.3.3 (from plotly->catboost)\n",
      "  Downloading https://mirrors.tuna.tsinghua.edu.cn/pypi/web/packages/44/ef/beae4b4ef80902f22e3af073397f079c96969c69b2c7d52a57ea9ae61c9d/retrying-1.3.3.tar.gz\n",
      "Requirement already satisfied: setuptools in /opt/conda/envs/python35-paddle120-env/lib/python3.5/site-packages (from kiwisolver>=1.0.1->matplotlib->catboost) (41.2.0)\n",
      "Building wheels for collected packages: retrying\n",
      "  Running setup.py bdist_wheel for retrying ... \u001b[?25ldone\n",
      "\u001b[?25h  Stored in directory: /home/aistudio/.cache/pip/wheels/5b/e5/21/797e8ecf814b6ab2399ab254682b20dda1d244183a0e372010\n",
      "Successfully built retrying\n",
      "Installing collected packages: retrying, plotly, catboost\n",
      "Successfully installed catboost-0.17.1 plotly-4.1.1 retrying-1.3.3\n"
     ]
    }
   ],
   "source": [
    "! pip install catboost"
   ]
  },
  {
   "cell_type": "code",
   "execution_count": 4,
   "metadata": {
    "collapsed": false
   },
   "outputs": [
    {
     "name": "stdout",
     "output_type": "stream",
     "text": [
      "Looking in indexes: https://pypi.mirrors.ustc.edu.cn/simple/\n",
      "Collecting mlxtend\n",
      "\u001b[?25l  Downloading https://mirrors.tuna.tsinghua.edu.cn/pypi/web/packages/52/04/c362f34f666f0ddc7cf593805e64d64fa670ed96fd9302e68549dd48287d/mlxtend-0.17.0-py2.py3-none-any.whl (1.3MB)\n",
      "\u001b[K    100% |████████████████████████████████| 1.3MB 9.0MB/s eta 0:00:01\n",
      "\u001b[?25hRequirement already satisfied: pandas>=0.24.2 in /opt/conda/envs/python35-paddle120-env/lib/python3.5/site-packages (from mlxtend) (0.24.2)\n",
      "Collecting matplotlib>=3.0.0 (from mlxtend)\n",
      "\u001b[?25l  Downloading https://mirrors.tuna.tsinghua.edu.cn/pypi/web/packages/89/61/465fb3bfba684b0f53b5c4829c3c89e86e6fe9fdcdfda93e38f1788090f0/matplotlib-3.0.3-cp35-cp35m-manylinux1_x86_64.whl (13.0MB)\n",
      "\u001b[K    100% |████████████████████████████████| 13.0MB 2.0MB/s eta 0:00:01   11% |███▉                            | 1.5MB 25.8MB/s eta 0:00:01    24% |████████                        | 3.2MB 61kB/s eta 0:02:39\n",
      "\u001b[?25hRequirement already satisfied: joblib>=0.13.2 in /opt/conda/envs/python35-paddle120-env/lib/python3.5/site-packages (from mlxtend) (0.13.2)\n",
      "Requirement already satisfied: scikit-learn>=0.20.3 in /opt/conda/envs/python35-paddle120-env/lib/python3.5/site-packages (from mlxtend) (0.21.2)\n",
      "Requirement already satisfied: setuptools in /opt/conda/envs/python35-paddle120-env/lib/python3.5/site-packages (from mlxtend) (41.2.0)\n",
      "Requirement already satisfied: numpy>=1.16.2 in /opt/conda/envs/python35-paddle120-env/lib/python3.5/site-packages (from mlxtend) (1.16.4)\n",
      "Requirement already satisfied: scipy>=1.2.1 in /opt/conda/envs/python35-paddle120-env/lib/python3.5/site-packages (from mlxtend) (1.3.0)\n",
      "Requirement already satisfied: pytz>=2011k in /opt/conda/envs/python35-paddle120-env/lib/python3.5/site-packages (from pandas>=0.24.2->mlxtend) (2019.1)\n",
      "Requirement already satisfied: python-dateutil>=2.5.0 in /opt/conda/envs/python35-paddle120-env/lib/python3.5/site-packages (from pandas>=0.24.2->mlxtend) (2.8.0)\n",
      "Requirement already satisfied: cycler>=0.10 in /opt/conda/envs/python35-paddle120-env/lib/python3.5/site-packages (from matplotlib>=3.0.0->mlxtend) (0.10.0)\n",
      "Requirement already satisfied: pyparsing!=2.0.4,!=2.1.2,!=2.1.6,>=2.0.1 in /opt/conda/envs/python35-paddle120-env/lib/python3.5/site-packages (from matplotlib>=3.0.0->mlxtend) (2.4.0)\n",
      "Requirement already satisfied: kiwisolver>=1.0.1 in /opt/conda/envs/python35-paddle120-env/lib/python3.5/site-packages (from matplotlib>=3.0.0->mlxtend) (1.1.0)\n",
      "Requirement already satisfied: six>=1.5 in /opt/conda/envs/python35-paddle120-env/lib/python3.5/site-packages (from python-dateutil>=2.5.0->pandas>=0.24.2->mlxtend) (1.11.0)\n",
      "\u001b[31mpaddlepaddle-gpu 1.5.1.post97 has requirement matplotlib<=2.2.4; python_version < \"3.6\", but you'll have matplotlib 3.0.3 which is incompatible.\u001b[0m\n",
      "Installing collected packages: matplotlib, mlxtend\n",
      "  Found existing installation: matplotlib 2.2.3\n",
      "    Uninstalling matplotlib-2.2.3:\n",
      "      Successfully uninstalled matplotlib-2.2.3\n",
      "Successfully installed matplotlib-3.0.3 mlxtend-0.17.0\n"
     ]
    }
   ],
   "source": [
    "! pip install mlxtend"
   ]
  },
  {
   "cell_type": "code",
   "execution_count": 5,
   "metadata": {
    "collapsed": false
   },
   "outputs": [
    {
     "name": "stdout",
     "output_type": "stream",
     "text": [
      "Looking in indexes: https://pypi.mirrors.ustc.edu.cn/simple/\n",
      "Collecting xgboost\n",
      "\u001b[?25l  Downloading https://mirrors.tuna.tsinghua.edu.cn/pypi/web/packages/c1/24/5fe7237b2eca13ee0cfb100bec8c23f4e69ce9df852a64b0493d49dae4e0/xgboost-0.90-py2.py3-none-manylinux1_x86_64.whl (142.8MB)\n",
      "\u001b[K    100% |████████████████████████████████| 142.8MB 189kB/s ta 0:00:014   20% |██████▊                         | 30.0MB 4.3MB/s eta 0:00:27    68% |█████████████████████▉          | 97.6MB 3.7MB/s eta 0:00:13    68% |██████████████████████          | 97.8MB 4.3MB/s eta 0:00:11    70% |██████████████████████▍         | 100.1MB 3.8MB/s eta 0:00:12    78% |█████████████████████████▏      | 112.2MB 3.5MB/s eta 0:00:09\n",
      "\u001b[?25hRequirement already satisfied: numpy in /opt/conda/envs/python35-paddle120-env/lib/python3.5/site-packages (from xgboost) (1.16.4)\n",
      "Requirement already satisfied: scipy in /opt/conda/envs/python35-paddle120-env/lib/python3.5/site-packages (from xgboost) (1.3.0)\n",
      "Installing collected packages: xgboost\n",
      "Successfully installed xgboost-0.90\n"
     ]
    }
   ],
   "source": [
    "! pip install xgboost"
   ]
  },
  {
   "cell_type": "code",
   "execution_count": 6,
   "metadata": {
    "collapsed": false
   },
   "outputs": [
    {
     "name": "stdout",
     "output_type": "stream",
     "text": [
      "Looking in indexes: https://pypi.mirrors.ustc.edu.cn/simple/\n",
      "Collecting lightgbm\n",
      "\u001b[?25l  Downloading https://mirrors.tuna.tsinghua.edu.cn/pypi/web/packages/77/0f/5157e6b153b3d4a70dc5fbe2ab6f209604197590f387f03177b7a249ac60/lightgbm-2.2.3-py2.py3-none-manylinux1_x86_64.whl (1.2MB)\n",
      "\u001b[K    100% |████████████████████████████████| 1.2MB 10.3MB/s ta 0:00:01\n",
      "\u001b[?25hRequirement already satisfied: scipy in /opt/conda/envs/python35-paddle120-env/lib/python3.5/site-packages (from lightgbm) (1.3.0)\n",
      "Requirement already satisfied: numpy in /opt/conda/envs/python35-paddle120-env/lib/python3.5/site-packages (from lightgbm) (1.16.4)\n",
      "Requirement already satisfied: scikit-learn in /opt/conda/envs/python35-paddle120-env/lib/python3.5/site-packages (from lightgbm) (0.21.2)\n",
      "Requirement already satisfied: joblib>=0.11 in /opt/conda/envs/python35-paddle120-env/lib/python3.5/site-packages (from scikit-learn->lightgbm) (0.13.2)\n",
      "Installing collected packages: lightgbm\n",
      "Successfully installed lightgbm-2.2.3\n"
     ]
    }
   ],
   "source": [
    "! pip install lightgbm"
   ]
  },
  {
   "cell_type": "code",
   "execution_count": 7,
   "metadata": {
    "collapsed": false
   },
   "outputs": [],
   "source": [
    "# ! pip install tqdm"
   ]
  },
  {
   "cell_type": "code",
   "execution_count": 8,
   "metadata": {
    "collapsed": false
   },
   "outputs": [],
   "source": [
    "# ! pip install auto-sklearn"
   ]
  },
  {
   "cell_type": "code",
   "execution_count": 9,
   "metadata": {
    "collapsed": false
   },
   "outputs": [],
   "source": [
    "# !pip list\n"
   ]
  },
  {
   "cell_type": "code",
   "execution_count": 10,
   "metadata": {
    "collapsed": false
   },
   "outputs": [],
   "source": [
    "import catboost as cbt\r\n",
    "import numpy as np\r\n",
    "import pandas as pd\r\n",
    "from mlxtend.classifier import StackingClassifier\r\n",
    "from xgboost import XGBClassifier\r\n",
    "import lightgbm as lgb\r\n",
    "from lightgbm import LGBMClassifier\r\n",
    "from sklearn.model_selection import KFold\r\n",
    "from sklearn.preprocessing import StandardScaler, MinMaxScaler\r\n",
    "from sklearn.metrics import accuracy_score, roc_auc_score,log_loss\r\n",
    "from sklearn.model_selection import GridSearchCV\r\n",
    "from sklearn.metrics import fbeta_score, make_scorer\r\n",
    "# from tqdm import tqdm\r\n",
    "import matplotlib as mpl\r\n",
    "mpl.use('Agg')\r\n",
    "import matplotlib.pyplot as plt\r\n",
    "import time\r\n",
    "import copy\r\n",
    "import gc\r\n",
    "import os\r\n",
    "from sklearn.linear_model import LogisticRegression\r\n",
    "lr = LogisticRegression()"
   ]
  },
  {
   "cell_type": "code",
   "execution_count": 11,
   "metadata": {
    "collapsed": false
   },
   "outputs": [],
   "source": [
    "train_data = pd.read_csv('/home/aistudio/data/data12632/first_round_traini')\r\n",
    "test_data = pd.read_csv('/home/aistudio/data/data12632/first_round_testin', encoding='utf-8')\r\n",
    "dit = {'Excellent':0,'Good':1,'Pass':2,'Fail':3}\r\n",
    "train_data['Quality_label'] = train_data['Quality_label'].map(dit)\r\n",
    "labels = pd.get_dummies(train_data['Quality_label']).values\r\n",
    "submit = pd.read_csv('/home/aistudio/data/data12632/submit_example.csv')"
   ]
  },
  {
   "cell_type": "code",
   "execution_count": 12,
   "metadata": {
    "collapsed": false
   },
   "outputs": [
    {
     "name": "stdout",
     "output_type": "stream",
     "text": [
      "all train features: ['Parameter5', 'Parameter7', 'Parameter8', 'Parameter9', 'Parameter10', '7_9', '8_9', '7_8', '8_10', '9_10', '7_10', '9%8', '7/8', '7%8', '8/9']\n",
      "Parameter5: 132\n",
      "Parameter7: 14\n",
      "Parameter8: 23\n",
      "Parameter9: 16\n",
      "Parameter10: 41\n",
      "7_9: 49\n",
      "8_9: 52\n",
      "7_8: 43\n",
      "8_10: 279\n",
      "9_10: 260\n",
      "7_10: 291\n",
      "9%8: 49\n",
      "7/8: 43\n",
      "7%8: 41\n",
      "8/9: 52\n"
     ]
    }
   ],
   "source": [
    "# 取parameter5-10，取log\r\n",
    "features = ['Parameter5', 'Parameter7', 'Parameter8', 'Parameter9', 'Parameter10']\r\n",
    "train_data[features] = np.log(train_data[features] + 1e-5)\r\n",
    "test_data[features] = np.log(test_data[features] + 1e-5)\r\n",
    "# 特征融合\r\n",
    "# train_data['5_6'] = train_data['Parameter5'] + train_data['Parameter6']\r\n",
    "# test_data['5_6'] = test_data['Parameter5'] + test_data['Parameter6']\r\n",
    "train_data['5_7'] = train_data['Parameter5'] + train_data['Parameter7']\r\n",
    "test_data['5_7'] = test_data['Parameter5'] + test_data['Parameter7']\r\n",
    "train_data['7_8'] = train_data['Parameter7'] + train_data['Parameter8']\r\n",
    "test_data['7_8'] = test_data['Parameter7'] + test_data['Parameter8']\r\n",
    "train_data['7_9'] = train_data['Parameter7'] + train_data['Parameter9']\r\n",
    "test_data['7_9'] = test_data['Parameter7'] + test_data['Parameter9']\r\n",
    "train_data['7_10'] = train_data['Parameter7'] + train_data['Parameter10']\r\n",
    "test_data['7_10'] = test_data['Parameter7'] + test_data['Parameter10']\r\n",
    "train_data['8_9'] = train_data['Parameter8'] + train_data['Parameter9']\r\n",
    "test_data['8_9'] = test_data['Parameter8'] + test_data['Parameter9']\r\n",
    "train_data['8_10'] = train_data['Parameter8'] + train_data['Parameter10']\r\n",
    "test_data['8_10'] = test_data['Parameter8'] + test_data['Parameter10']\r\n",
    "train_data['9_10'] = train_data['Parameter9'] + train_data['Parameter10']\r\n",
    "test_data['9_10'] = test_data['Parameter9'] + test_data['Parameter10']\r\n",
    "\r\n",
    "train_data['5_10'] = train_data['Parameter5'] + train_data['Parameter10']\r\n",
    "test_data['5_10'] = test_data['Parameter5'] + test_data['Parameter10']\r\n",
    "# train_data['6_10'] = train_data['Parameter6'] + train_data['Parameter10']\r\n",
    "# test_data['6_10'] = test_data['Parameter6'] + test_data['Parameter10']\r\n",
    "train_data['7_8_9'] = train_data['Parameter7'] + train_data['Parameter8'] + train_data['Parameter9']\r\n",
    "test_data['7_8_9'] = test_data['Parameter7'] + test_data['Parameter8'] + test_data['Parameter9']\r\n",
    "train_data['7_9_10'] = train_data['Parameter7'] + train_data['Parameter9'] + train_data['Parameter10']\r\n",
    "test_data['7_9_10'] = test_data['Parameter7'] + test_data['Parameter9'] + test_data['Parameter10']\r\n",
    "train_data['7_8_10'] = train_data['Parameter7'] + train_data['Parameter8'] + train_data['Parameter10']\r\n",
    "test_data['7_8_10'] = test_data['Parameter7'] + test_data['Parameter8'] + test_data['Parameter10']\r\n",
    "train_data['8_9_10'] = train_data['Parameter8'] + train_data['Parameter9'] + train_data['Parameter10']\r\n",
    "test_data['8_9_10'] = test_data['Parameter8'] + test_data['Parameter9'] + test_data['Parameter10']\r\n",
    "train_data['7_8_9_10'] = train_data['Parameter7'] + train_data['Parameter8'] + train_data['Parameter9'] + train_data['Parameter10']\r\n",
    "test_data['7_8_9_10'] = test_data['Parameter7'] + test_data['Parameter8'] + test_data['Parameter9'] + test_data['Parameter10']\r\n",
    "\r\n",
    "# train_data['5-6'] = (train_data['Parameter5'] - train_data['Parameter6'])\r\n",
    "# test_data['5-6'] = (test_data['Parameter5'] - test_data['Parameter6'])\r\n",
    "train_data['7-8'] = (train_data['Parameter7'] - train_data['Parameter8'])\r\n",
    "test_data['7-8'] = (test_data['Parameter7'] - test_data['Parameter8'])\r\n",
    "train_data['7-9'] = (train_data['Parameter7'] - train_data['Parameter9'])\r\n",
    "test_data['7-9'] = (test_data['Parameter7'] - test_data['Parameter9'])\r\n",
    "train_data['7-10'] = (train_data['Parameter7'] - train_data['Parameter10'])\r\n",
    "test_data['7-10'] = (test_data['Parameter7'] - test_data['Parameter10'])\r\n",
    "train_data['8-9'] = (train_data['Parameter8'] - train_data['Parameter9'])\r\n",
    "test_data['8-9'] = (test_data['Parameter8'] - test_data['Parameter9'])\r\n",
    "train_data['8-10'] = (train_data['Parameter8'] - train_data['Parameter10'])\r\n",
    "test_data['8-10'] = (test_data['Parameter8'] - test_data['Parameter10'])\r\n",
    "train_data['9-10'] = (train_data['Parameter9'] - train_data['Parameter10'])\r\n",
    "test_data['9-10'] = (test_data['Parameter9'] - test_data['Parameter10'])\r\n",
    "\r\n",
    "# train_data['5_6_mul'] = train_data['Parameter5'].mul(train_data['Parameter6'])\r\n",
    "# test_data['5_6_mul'] = test_data['Parameter5'].mul(test_data['Parameter6'])\r\n",
    "train_data['7_8_mul'] = train_data['Parameter7'].mul(train_data['Parameter8'])\r\n",
    "test_data['7_8_mul'] = test_data['Parameter7'].mul(test_data['Parameter8'])\r\n",
    "train_data['7_9_mul'] = train_data['Parameter7'].mul(train_data['Parameter9'])\r\n",
    "test_data['7_9_mul'] = test_data['Parameter7'].mul(test_data['Parameter9'])\r\n",
    "train_data['7_10_mul'] = train_data['Parameter7'].mul(train_data['Parameter10'])\r\n",
    "test_data['7_10_mul'] = test_data['Parameter7'].mul(test_data['Parameter10'])\r\n",
    "train_data['8_9_mul'] = train_data['Parameter8'].mul(train_data['Parameter9'])\r\n",
    "test_data['8_9_mul'] = test_data['Parameter8'].mul(test_data['Parameter9'])\r\n",
    "train_data['8_10_mul'] = train_data['Parameter8'].mul(train_data['Parameter10'])\r\n",
    "test_data['8_10_mul'] = test_data['Parameter8'].mul(test_data['Parameter10'])\r\n",
    "train_data['9_10_mul'] = train_data['Parameter9'].mul(train_data['Parameter10'])\r\n",
    "test_data['9_10_mul'] = test_data['Parameter9'].mul(test_data['Parameter10'])\r\n",
    "\r\n",
    "train_data['78_mul_79'] = (train_data['7_8'].mul(train_data['7_9']))\r\n",
    "test_data['78_mul_79'] = (test_data['7_8'].mul(test_data['7_9']))\r\n",
    "train_data['78_mul_710'] = (train_data['7_8'].mul(train_data['7_10']))\r\n",
    "test_data['78_mul_710'] = (test_data['7_8'].mul(test_data['7_10']))\r\n",
    "train_data['78_mul_89'] = (train_data['7_8'].mul(train_data['8_9']))\r\n",
    "test_data['78_mul_89'] = (test_data['7_8'].mul(test_data['8_9']))\r\n",
    "train_data['78_mul_810'] = (train_data['7_8'].mul(train_data['8_10']))\r\n",
    "test_data['78_mul_810'] = (test_data['7_8'].mul(test_data['8_10']))\r\n",
    "train_data['78_mul_910'] = (train_data['7_8'].mul(train_data['9_10']))\r\n",
    "test_data['78_mul_910'] = (test_data['7_8'].mul(test_data['9_10']))\r\n",
    "train_data['79_mul_710'] = (train_data['7_9'].mul(train_data['7_10']))\r\n",
    "test_data['79_mul_710'] = (test_data['7_9'].mul(test_data['7_10']))\r\n",
    "train_data['79_mul_89'] = (train_data['7_9'].mul(train_data['8_9']))\r\n",
    "test_data['79_mul_89'] = (test_data['7_9'].mul(test_data['8_9']))\r\n",
    "train_data['79_mul_810'] = (train_data['7_9'].mul(train_data['8_10']))\r\n",
    "test_data['79_mul_810'] = (test_data['7_9'].mul(test_data['8_10']))\r\n",
    "train_data['79_mul_910'] = (train_data['7_9'].mul(train_data['9_10']))\r\n",
    "test_data['79_mul_910'] = (test_data['7_9'].mul(test_data['9_10']))\r\n",
    "train_data['710_mul_89'] = (train_data['7_10'].mul(train_data['8_9']))\r\n",
    "test_data['710_mul_89'] = (test_data['7_10'].mul(test_data['8_9']))\r\n",
    "train_data['710_mul_810'] = (train_data['7_10'].mul(train_data['8_10']))\r\n",
    "test_data['710_mul_810'] = (test_data['7_10'].mul(test_data['8_10']))\r\n",
    "train_data['710_mul_910'] = (train_data['7_10'].mul(train_data['9_10']))\r\n",
    "test_data['710_mul_910'] = (test_data['7_10'].mul(test_data['9_10']))\r\n",
    "train_data['89_mul_810'] = (train_data['8_9'].mul(train_data['8_10']))\r\n",
    "test_data['89_mul_810'] = (test_data['8_9'].mul(test_data['8_10']))\r\n",
    "train_data['89_mul_910'] = (train_data['8_9'].mul(train_data['9_10']))\r\n",
    "test_data['89_mul_910'] = (test_data['8_9'].mul(test_data['9_10']))\r\n",
    "train_data['810_mul_910'] = (train_data['8_10'].mul(train_data['9_10']))\r\n",
    "test_data['810_mul_910'] = (test_data['8_10'].mul(test_data['9_10']))\r\n",
    "\r\n",
    "train_data['5_8'] = train_data['Parameter5'] + train_data['Parameter8']\r\n",
    "test_data['5_8'] = test_data['Parameter5'] + test_data['Parameter8']\r\n",
    "train_data['7+8*8'] = train_data['Parameter7'] + train_data['Parameter8'] * train_data['Parameter8']\r\n",
    "test_data['7+8*8'] = test_data['Parameter7'] + test_data['Parameter8'] * test_data['Parameter8']\r\n",
    "train_data['7*7+8'] = train_data['Parameter7'] * train_data['Parameter7'] + train_data['Parameter8']\r\n",
    "test_data['7*7+8'] = test_data['Parameter7'] * test_data['Parameter7'] + test_data['Parameter8']\r\n",
    "\r\n",
    "train_data['9/7'] = train_data['Parameter9'] / train_data['Parameter7']\r\n",
    "test_data['9/7'] = test_data['Parameter9'] / test_data['Parameter7']\r\n",
    "train_data['9/8'] = train_data['Parameter9'] / train_data['Parameter8']\r\n",
    "test_data['9/8'] = test_data['Parameter9'] / test_data['Parameter8']\r\n",
    "train_data['1/7'] = 1. / train_data['Parameter7']\r\n",
    "test_data['1/7'] = 1. / test_data['Parameter7']\r\n",
    "train_data['9%8'] = train_data['Parameter9'] % train_data['Parameter8']\r\n",
    "test_data['9%8'] = test_data['Parameter9'] % test_data['Parameter8']\r\n",
    "train_data['7%9'] = train_data['Parameter7'] % train_data['Parameter9']\r\n",
    "test_data['7%9'] = test_data['Parameter7'] % test_data['Parameter9']\r\n",
    "train_data['1/9'] = 1. / train_data['Parameter9']\r\n",
    "test_data['1/9'] = 1. / test_data['Parameter9']\r\n",
    "train_data['7/8'] = train_data['Parameter7'] / train_data['Parameter8']\r\n",
    "test_data['7/8'] = test_data['Parameter7'] / test_data['Parameter8']\r\n",
    "train_data['8%9'] = train_data['Parameter8'] % train_data['Parameter9']\r\n",
    "test_data['8%9'] = test_data['Parameter8'] % test_data['Parameter9']\r\n",
    "train_data['7/9'] = train_data['Parameter7'] / train_data['Parameter9']\r\n",
    "test_data['7/9'] = test_data['Parameter7'] / test_data['Parameter9']\r\n",
    "train_data['8/7'] = train_data['Parameter8'] / train_data['Parameter7']\r\n",
    "test_data['8/7'] = test_data['Parameter8'] / test_data['Parameter7']\r\n",
    "train_data['1/8'] = 1. / train_data['Parameter8']\r\n",
    "test_data['1/8'] = 1. / test_data['Parameter8']\r\n",
    "train_data['8%7'] = train_data['Parameter8'] % train_data['Parameter7']\r\n",
    "test_data['8%7'] = test_data['Parameter8'] % test_data['Parameter7']\r\n",
    "train_data['8+9/8%9'] = (train_data['Parameter8'] + train_data['Parameter9']) / train_data['Parameter8'] % train_data['Parameter9']\r\n",
    "test_data['8+9/8%9'] = (test_data['Parameter8'] + test_data['Parameter9']) / test_data['Parameter8'] % test_data['Parameter9']\r\n",
    "train_data['7%8'] = train_data['Parameter7'] % train_data['Parameter8']\r\n",
    "test_data['7%8'] = test_data['Parameter7'] % test_data['Parameter8']\r\n",
    "train_data['8/9'] = train_data['Parameter8'] / train_data['Parameter9']\r\n",
    "test_data['8/9'] = test_data['Parameter8'] / test_data['Parameter9']\r\n",
    "\r\n",
    "train_data['7+8%7+9'] = train_data['Parameter7'] + train_data['Parameter8'] % train_data['Parameter7'] + train_data['Parameter9']\r\n",
    "test_data['7+8%7+9'] = test_data['Parameter7'] + test_data['Parameter8'] % test_data['Parameter7'] + test_data['Parameter9']\r\n",
    "train_data['1/8/9'] = 1./train_data['Parameter8']/train_data['Parameter9']\r\n",
    "test_data['1/8/9'] = 1./test_data['Parameter8']/test_data['Parameter9']\r\n",
    "train_data['9%7/9'] = train_data['Parameter9']%train_data['Parameter7']/train_data['Parameter9']\r\n",
    "test_data['9%7/9'] = test_data['Parameter9']%test_data['Parameter7']/test_data['Parameter9']\r\n",
    "train_data['8+9/8*9'] = train_data['Parameter8']+train_data['Parameter9']/train_data['Parameter8']*train_data['Parameter9']\r\n",
    "test_data['8+9/8*9'] = test_data['Parameter8']+test_data['Parameter9']/test_data['Parameter8']*test_data['Parameter9']\r\n",
    "train_data['9%7/7*8'] = train_data['Parameter9']%train_data['Parameter7']/train_data['Parameter7']*train_data['Parameter8']\r\n",
    "test_data['9%7/7*8'] = test_data['Parameter9']%test_data['Parameter7']/test_data['Parameter7']*test_data['Parameter8']\r\n",
    "train_data['7%8/7'] = train_data['Parameter7']%train_data['Parameter8']/train_data['Parameter7']\r\n",
    "test_data['7%8/7'] = test_data['Parameter7']%test_data['Parameter8']/test_data['Parameter7']\r\n",
    "train_data['9%8*9'] = train_data['Parameter9']%train_data['Parameter8']*train_data['Parameter9']\r\n",
    "test_data['9%8*9'] = test_data['Parameter9']%test_data['Parameter8']*test_data['Parameter9']\r\n",
    "train_data['8*9%7'] = train_data['Parameter8']*train_data['Parameter9']%train_data['Parameter7']\r\n",
    "test_data['8*9%7'] = test_data['Parameter8']*test_data['Parameter9']%test_data['Parameter7']\r\n",
    "\r\n",
    "train_data['8%9*8'] = train_data['Parameter8']%train_data['Parameter9']*train_data['Parameter8']\r\n",
    "test_data['8%9*8'] = test_data['Parameter8']%test_data['Parameter9']*test_data['Parameter8']\r\n",
    "train_data['7*8*9'] = train_data['Parameter8']*train_data['Parameter7']*train_data['Parameter9']\r\n",
    "test_data['7*8*9'] = test_data['Parameter8']*test_data['Parameter7']*test_data['Parameter9']\r\n",
    "train_data['8+9/7*8']=train_data['Parameter8']+train_data['Parameter9']/train_data['Parameter7']*train_data['Parameter9']\r\n",
    "test_data['8+9/7*8']=test_data['Parameter8']+test_data['Parameter9']/test_data['Parameter7']*test_data['Parameter9']\r\n",
    "train_data['8%7/(9%8)'] = train_data['Parameter8']%train_data['Parameter7']/(train_data['Parameter9']%train_data['Parameter8'])\r\n",
    "test_data['8%7/(9%8)'] = test_data['Parameter8']%test_data['Parameter7']/(test_data['Parameter9']%test_data['Parameter8'])\r\n",
    "train_data['7%8/(8%9)'] = train_data['Parameter7']%train_data['Parameter8']/(train_data['Parameter8']%train_data['Parameter9'])\r\n",
    "test_data['7%8/(8%9)'] = test_data['Parameter7']%test_data['Parameter8']/(test_data['Parameter8']%test_data['Parameter9'])\r\n",
    "train_data['8+9/(9%8)']=train_data['Parameter8']+train_data['Parameter9']/(train_data['Parameter9']%train_data['Parameter8'])\r\n",
    "test_data['8+9/(9%8)']=test_data['Parameter8']+test_data['Parameter9']/(test_data['Parameter9']%test_data['Parameter8'])\r\n",
    "train_data['8*(9%7)+8'] = train_data['Parameter8']*(train_data['Parameter9']%train_data['Parameter7']+train_data['Parameter8'])\r\n",
    "test_data['8*(9%7)+8'] = test_data['Parameter8']*(test_data['Parameter9']%test_data['Parameter7']+test_data['Parameter8'])\r\n",
    "train_data['7+8*9'] = train_data['Parameter7']+train_data['Parameter8']*train_data['Parameter9']\r\n",
    "test_data['7+8*9'] = test_data['Parameter7']+test_data['Parameter8']*test_data['Parameter9']\r\n",
    "train_data['7%8/(9%8)'] = train_data['Parameter7']%train_data['Parameter8']/(train_data['Parameter9']%train_data['Parameter8'])\r\n",
    "test_data['7%8/(9%8)'] = test_data['Parameter7']%test_data['Parameter8']/(test_data['Parameter9']%test_data['Parameter8'])\r\n",
    "train_data['9%8/(7%8)'] = train_data['Parameter9']%train_data['Parameter8']/(train_data['Parameter7']%train_data['Parameter8'])\r\n",
    "test_data['9%8/(7%8)'] = test_data['Parameter9']%test_data['Parameter8']/(test_data['Parameter7']%test_data['Parameter8'])\r\n",
    "train_data['5%8'] = train_data['Parameter5']%train_data['Parameter8']\r\n",
    "test_data['5%8'] = test_data['Parameter5']%test_data['Parameter8']\r\n",
    "# train_data['6%8'] = train_data['Parameter6']%train_data['Parameter8']\r\n",
    "# test_data['6%8'] = test_data['Parameter6']%test_data['Parameter8']\r\n",
    "train_data['10%8'] = train_data['Parameter10']%train_data['Parameter8']\r\n",
    "test_data['10%8'] = test_data['Parameter10']%test_data['Parameter8']\r\n",
    "\r\n",
    "train_data['7*8'] = train_data['Parameter7'] * train_data['Parameter8']\r\n",
    "test_data['7*8'] = test_data['Parameter7'] * test_data['Parameter8']\r\n",
    "train_data['5*5'] = train_data['Parameter5'] * train_data['Parameter5']\r\n",
    "test_data['5*5'] = test_data['Parameter5'] * test_data['Parameter5']\r\n",
    "# train_data['6*6'] = train_data['Parameter6'] * train_data['Parameter6']\r\n",
    "# test_data['6*6'] = test_data['Parameter6'] * test_data['Parameter6']\r\n",
    "train_data['7*7'] = train_data['Parameter7'] * train_data['Parameter7']\r\n",
    "test_data['7*7'] = test_data['Parameter7'] * test_data['Parameter7']\r\n",
    "train_data['8*8'] = train_data['Parameter8'] * train_data['Parameter8']\r\n",
    "test_data['8*8'] = test_data['Parameter8'] * test_data['Parameter8']\r\n",
    "train_data['9*9'] = train_data['Parameter9'] * train_data['Parameter9']\r\n",
    "test_data['9*9'] = test_data['Parameter9'] * test_data['Parameter9']\r\n",
    "train_data['10*10'] = train_data['Parameter10'] * train_data['Parameter10']\r\n",
    "test_data['10*10'] = test_data['Parameter10'] * test_data['Parameter10']\r\n",
    "\r\n",
    "scale_features = [\r\n",
    "    # '5_6',\r\n",
    "    '7_9', '8_9', '7_8', '8_10', '9_10', '7_10', '9%8', '7/8', '7%8', '8/9',\r\n",
    "\t\t\t\t  ]\r\n",
    "\r\n",
    "\r\n",
    "# 组合所有特征\r\n",
    "features = features + scale_features\r\n",
    "\r\n",
    "print('all train features:', features)\r\n",
    "\r\n",
    "for fc in features:\r\n",
    "\tn = train_data['{}'.format(fc)].nunique()\r\n",
    "# \t这个的左右就是显示特征中的唯一值\r\n",
    "\tprint(fc + ':', n)"
   ]
  },
  {
   "cell_type": "code",
   "execution_count": 13,
   "metadata": {
    "collapsed": false
   },
   "outputs": [],
   "source": [
    "# train_data.shape"
   ]
  },
  {
   "cell_type": "code",
   "execution_count": 14,
   "metadata": {
    "collapsed": false
   },
   "outputs": [],
   "source": [
    "# train_data.sort_values('Parameter2', ascending=False)[:3]"
   ]
  },
  {
   "cell_type": "code",
   "execution_count": 25,
   "metadata": {
    "collapsed": false
   },
   "outputs": [],
   "source": [
    "# --------------------------------------------------------\r\n",
    "# train\r\n",
    "# --------------------------------------------------------\r\n",
    "x_train = train_data[features].values\r\n",
    "x_test = test_data[features].values\r\n",
    "\r\n",
    "def lightgbm_model():\r\n",
    "\tmodel = LGBMClassifier(max_depth=7, learning_rate=0.01, n_estimators=1000, num_leaves=16,\r\n",
    "\t\t\t\t\t\t   objective='multiclass', silent=True,\r\n",
    "\t\t\t\t\t\t   reg_lambda=4., #reg_alpha=1.,\r\n",
    "\t\t\t\t\t\t   #bagging_fraction=0.9, feature_fraction=0.9,\r\n",
    "\t\t\t\t\t\t   )\r\n",
    "\treturn model\r\n",
    "\r\n",
    "def xgboost_model():\r\n",
    "\tmodel = XGBClassifier(max_depth=5, n_estimators=1000, learning_rate=0.01, silent=True,min_child_weight=4,colsample_bytree=0.5,\r\n",
    "\t\t\t\t\t\t  #objective='multi:softmax'\r\n",
    "\t\t\t\t\t\t  )\r\n",
    "\treturn model\r\n",
    "\r\n",
    "def catboost_model():\r\n",
    "\tcbt_model = cbt.CatBoostClassifier(#iterations=100000, learning_rate=0.01, verbose=0,\r\n",
    "\t\titerations=3000, learning_rate=0.01, verbose=0,\r\n",
    "\t\tmax_depth=7, #reg_lambda=5.,\r\n",
    "\t\ttask_type='GPU',   # cat_features=cat_list,\r\n",
    "\t\tloss_function='MultiClass',\r\n",
    "# \t\tl2_leaf_reg = 7\r\n",
    "\t\t)\r\n",
    "\treturn cbt_model\r\n",
    "\r\n",
    "def catboost_importance():\r\n",
    "\tmodel = catboost_model()\r\n",
    "\tmodel.fit(x_train, np.argmax(labels, 1))\r\n",
    "\timportance = model.get_feature_importance(prettified=True)\r\n",
    "# \t这个其实就是类似PCA一样，找到特征的贡献\r\n",
    "\tprint(importance.columns)\r\n",
    "\tfor i in range(len(features)):\r\n",
    "\t\tprint(features[int(importance['Feature Id'][i])] + ' :', importance['Importances'][i])"
   ]
  },
  {
   "cell_type": "code",
   "execution_count": null,
   "metadata": {
    "collapsed": false
   },
   "outputs": [],
   "source": []
  },
  {
   "cell_type": "code",
   "execution_count": 16,
   "metadata": {
    "collapsed": false
   },
   "outputs": [],
   "source": [
    "def grid_search(mode):\r\n",
    "\tdef my_custom_loss_func(y_true, y_pred):\r\n",
    "\t\tdiff = np.mean(-y_true * np.log(y_pred + 1e-5))\r\n",
    "\t\treturn diff\r\n",
    "\tscore = make_scorer(my_custom_loss_func, greater_is_better=False)\r\n",
    "\t\r\n",
    "\t# grid search for lightgbm\r\n",
    "\tif mode=='lgb':\r\n",
    "\t\tparameters = {'max_depth': [5, 7, 9, 11], 'num_leaves ': [16, 32, 64], 'reg_lambda': [10, 5, 3, 1, 0.1]}\r\n",
    "\t\tmodel = lightgbm_model()\r\n",
    "\t# grid search for catboost\r\n",
    "\tif mode=='cat':\r\n",
    "\t\tparameters = {'iterations': [3000, 4000, 5000],'max_depth': [ 6, 7, 8, 9],'learning_rate':[0.01, 0.008,0.005]}\r\n",
    "\t\tmodel = catboost_model()\r\n",
    "\t# grid search for xgboost\r\n",
    "\tif mode=='xgb':\r\n",
    "\t\tparameters = {'max_depth': [5, 7, 9, 11],'n_estimators':[1000, 2000, 3000], \r\n",
    "\t\t'min_child_weight' : [1,2,3,4],'colsample_bytree': [0.5,0.8]}\r\n",
    "\t\tmodel = xgboost_model()\r\n",
    "\t# search\r\n",
    "\tclf = GridSearchCV(model, parameters, cv=5, scoring=score, verbose=2)\r\n",
    "\tclf.fit(x_train, np.argmax(labels, 1))\r\n",
    "\tprint('best parameters:', clf.best_params_)\r\n",
    "\tprint('best score:', clf.best_score_)\r\n",
    "\t"
   ]
  },
  {
   "cell_type": "code",
   "execution_count": 26,
   "metadata": {
    "collapsed": false
   },
   "outputs": [
    {
     "name": "stdout",
     "output_type": "stream",
     "text": [
      "Index(['Feature Id', 'Importances'], dtype='object')\n",
      "8_10 : 19.402833378351282\n",
      "Parameter5 : 19.322216067015155\n",
      "Parameter10 : 14.06220285234933\n",
      "7_10 : 9.196922160206949\n",
      "9_10 : 8.360164246390838\n",
      "7/8 : 5.8836887909739435\n",
      "7_9 : 4.211004342387408\n",
      "8/9 : 3.713413454954743\n",
      "9%8 : 3.3350507894628154\n",
      "8_9 : 3.3083812161438404\n",
      "7_8 : 3.0073011782551378\n",
      "7%8 : 2.1841446318003506\n",
      "Parameter9 : 1.707117174762718\n",
      "Parameter8 : 1.2927576141301267\n",
      "Parameter7 : 1.0128021028153442\n"
     ]
    }
   ],
   "source": [
    "catboost_importance()"
   ]
  },
  {
   "cell_type": "code",
   "execution_count": 27,
   "metadata": {
    "collapsed": false
   },
   "outputs": [],
   "source": [
    "# k-fold train\r\n",
    "def kfold_train(mode):\r\n",
    "\tacc_list, loss_list = [], []\r\n",
    "\tprediction = np.zeros((x_test.shape[0], 4))\r\n",
    "\tfor i in range(10):\r\n",
    "\t\tprint(str(i+1) + ' th kflod' + '*'*50)\r\n",
    "\t\tkf = KFold(n_splits=5, shuffle=True, random_state=i)\r\n",
    "\t\tkfold_list = []\r\n",
    "\t\tfor k, (train_index, test_index) in enumerate(kf.split(x_train)):\r\n",
    "\t\t\tprint(str(k+1) + 'fold--------------')\r\n",
    "\t\t\ttrain_x, train_y = x_train[train_index], labels[train_index]\r\n",
    "\t\t\ttest_x, test_y = x_train[test_index], labels[test_index]\r\n",
    "\t\t\t# train\r\n",
    "\t\t\tif mode == 'cat':\r\n",
    "\t\t\t\tmodel = catboost_model()\r\n",
    "\t\t\t\tmodel.fit(train_x, np.argmax(train_y, 1), eval_set=(test_x, np.argmax(test_y, 1)),\r\n",
    "\t\t\t\t\t  #early_stopping_rounds=1000, verbose=False\r\n",
    "\t\t\t\t\t\t)\r\n",
    "\t\t\t\t\r\n",
    "\t\t\t\t#print(pd.DataFrame({'column': features, 'importance': model.feature_importances_}).sort_values(by='importance'))\r\n",
    "\t\t\tif mode == 'lgb':\r\n",
    "\t\t\t\tmodel = lightgbm_model()\r\n",
    "\t\t\t\tmodel.fit(train_x, np.argmax(train_y, 1), eval_set=(test_x, np.argmax(test_y, 1)),\r\n",
    "\t\t\t\t\t  # early_stopping_rounds=50, verbose=True\r\n",
    "\t\t\t\t\t\t  verbose=False\r\n",
    "\t\t\t\t\t\t  )\r\n",
    "\t\t\tif mode == 'xgb':\r\n",
    "\t\t\t\tmodel = xgboost_model()\r\n",
    "\t\t\t\tmodel.fit(train_x, np.argmax(train_y, 1), verbose=True)\r\n",
    "\t\t\tif mode == 'sclf':\r\n",
    "\t\t\t    model = StackingClassifier(\r\n",
    "\t\t\t        classifiers=[catboost_model(),xgboost_model(), lightgbm_model()],\r\n",
    "\t\t\t        use_probas = True,average_probas = False,meta_classifier = lr)\r\n",
    "\t\t\t    model.fit(train_x, np.argmax(train_y, 1))\r\n",
    "\t\t\t# test\r\n",
    "\t\t\tpred = model.predict_proba(test_x)\r\n",
    "\t\t\tacc = accuracy_score(np.argmax(test_y, 1), np.argmax(pred, 1))\r\n",
    "\t\t\tloss = log_loss(test_y, pred)\r\n",
    "\t\t\tacc_list.append(acc)\r\n",
    "\t\t\tloss_list.append(loss)\r\n",
    "\t\t\tkfold_list.append(loss)\r\n",
    "\t\t\tprint('test acc: %f, test loss: %f' % (acc, loss))\r\n",
    "\t\t\t# predict\r\n",
    "\t\t\tprediction += model.predict_proba(x_test)\r\n",
    "# \t\t\t返回的是概率\r\n",
    "\t\tprint('this fold mean loss:', np.mean(kfold_list))\r\n",
    "\tprint('*'*50)\r\n",
    "\tprint('mean acc: %f, mean loss: %f' % (np.mean(acc_list), np.mean(loss_list)))\r\n",
    "\tprediction = prediction / 50.\r\n",
    "\treturn prediction"
   ]
  },
  {
   "cell_type": "code",
   "execution_count": 41,
   "metadata": {
    "collapsed": false
   },
   "outputs": [
    {
     "name": "stdout",
     "output_type": "stream",
     "text": [
      "1 th kflod**************************************************\n",
      "1fold--------------\n"
     ]
    },
    {
     "name": "stderr",
     "output_type": "stream",
     "text": [
      "/opt/conda/envs/python35-paddle120-env/lib/python3.5/site-packages/sklearn/linear_model/logistic.py:432: FutureWarning: Default solver will be changed to 'lbfgs' in 0.22. Specify a solver to silence this warning.\n",
      "  FutureWarning)\n",
      "/opt/conda/envs/python35-paddle120-env/lib/python3.5/site-packages/sklearn/linear_model/logistic.py:469: FutureWarning: Default multi_class will be changed to 'auto' in 0.22. Specify the multi_class option to silence this warning.\n",
      "  \"this warning.\", FutureWarning)\n"
     ]
    },
    {
     "name": "stdout",
     "output_type": "stream",
     "text": [
      "test acc: 0.529167, test loss: 1.105401\n",
      "2fold--------------\n"
     ]
    },
    {
     "name": "stderr",
     "output_type": "stream",
     "text": [
      "/opt/conda/envs/python35-paddle120-env/lib/python3.5/site-packages/sklearn/linear_model/logistic.py:432: FutureWarning: Default solver will be changed to 'lbfgs' in 0.22. Specify a solver to silence this warning.\n",
      "  FutureWarning)\n",
      "/opt/conda/envs/python35-paddle120-env/lib/python3.5/site-packages/sklearn/linear_model/logistic.py:469: FutureWarning: Default multi_class will be changed to 'auto' in 0.22. Specify the multi_class option to silence this warning.\n",
      "  \"this warning.\", FutureWarning)\n"
     ]
    },
    {
     "name": "stdout",
     "output_type": "stream",
     "text": [
      "test acc: 0.526667, test loss: 1.119847\n",
      "3fold--------------\n"
     ]
    },
    {
     "name": "stderr",
     "output_type": "stream",
     "text": [
      "/opt/conda/envs/python35-paddle120-env/lib/python3.5/site-packages/sklearn/linear_model/logistic.py:432: FutureWarning: Default solver will be changed to 'lbfgs' in 0.22. Specify a solver to silence this warning.\n",
      "  FutureWarning)\n",
      "/opt/conda/envs/python35-paddle120-env/lib/python3.5/site-packages/sklearn/linear_model/logistic.py:469: FutureWarning: Default multi_class will be changed to 'auto' in 0.22. Specify the multi_class option to silence this warning.\n",
      "  \"this warning.\", FutureWarning)\n"
     ]
    },
    {
     "name": "stdout",
     "output_type": "stream",
     "text": [
      "test acc: 0.516667, test loss: 1.140504\n",
      "4fold--------------\n"
     ]
    },
    {
     "name": "stderr",
     "output_type": "stream",
     "text": [
      "/opt/conda/envs/python35-paddle120-env/lib/python3.5/site-packages/sklearn/linear_model/logistic.py:432: FutureWarning: Default solver will be changed to 'lbfgs' in 0.22. Specify a solver to silence this warning.\n",
      "  FutureWarning)\n",
      "/opt/conda/envs/python35-paddle120-env/lib/python3.5/site-packages/sklearn/linear_model/logistic.py:469: FutureWarning: Default multi_class will be changed to 'auto' in 0.22. Specify the multi_class option to silence this warning.\n",
      "  \"this warning.\", FutureWarning)\n"
     ]
    },
    {
     "name": "stdout",
     "output_type": "stream",
     "text": [
      "test acc: 0.575000, test loss: 1.077911\n",
      "5fold--------------\n"
     ]
    },
    {
     "name": "stderr",
     "output_type": "stream",
     "text": [
      "/opt/conda/envs/python35-paddle120-env/lib/python3.5/site-packages/sklearn/linear_model/logistic.py:432: FutureWarning: Default solver will be changed to 'lbfgs' in 0.22. Specify a solver to silence this warning.\n",
      "  FutureWarning)\n",
      "/opt/conda/envs/python35-paddle120-env/lib/python3.5/site-packages/sklearn/linear_model/logistic.py:469: FutureWarning: Default multi_class will be changed to 'auto' in 0.22. Specify the multi_class option to silence this warning.\n",
      "  \"this warning.\", FutureWarning)\n"
     ]
    },
    {
     "name": "stdout",
     "output_type": "stream",
     "text": [
      "test acc: 0.515000, test loss: 1.141268\n",
      "this fold mean loss: 1.1169861985417868\n",
      "2 th kflod**************************************************\n",
      "1fold--------------\n"
     ]
    },
    {
     "name": "stderr",
     "output_type": "stream",
     "text": [
      "/opt/conda/envs/python35-paddle120-env/lib/python3.5/site-packages/sklearn/linear_model/logistic.py:432: FutureWarning: Default solver will be changed to 'lbfgs' in 0.22. Specify a solver to silence this warning.\n",
      "  FutureWarning)\n",
      "/opt/conda/envs/python35-paddle120-env/lib/python3.5/site-packages/sklearn/linear_model/logistic.py:469: FutureWarning: Default multi_class will be changed to 'auto' in 0.22. Specify the multi_class option to silence this warning.\n",
      "  \"this warning.\", FutureWarning)\n"
     ]
    },
    {
     "name": "stdout",
     "output_type": "stream",
     "text": [
      "test acc: 0.500000, test loss: 1.157835\n",
      "2fold--------------\n"
     ]
    },
    {
     "name": "stderr",
     "output_type": "stream",
     "text": [
      "/opt/conda/envs/python35-paddle120-env/lib/python3.5/site-packages/sklearn/linear_model/logistic.py:432: FutureWarning: Default solver will be changed to 'lbfgs' in 0.22. Specify a solver to silence this warning.\n",
      "  FutureWarning)\n",
      "/opt/conda/envs/python35-paddle120-env/lib/python3.5/site-packages/sklearn/linear_model/logistic.py:469: FutureWarning: Default multi_class will be changed to 'auto' in 0.22. Specify the multi_class option to silence this warning.\n",
      "  \"this warning.\", FutureWarning)\n"
     ]
    },
    {
     "name": "stdout",
     "output_type": "stream",
     "text": [
      "test acc: 0.538333, test loss: 1.103274\n",
      "3fold--------------\n"
     ]
    },
    {
     "name": "stderr",
     "output_type": "stream",
     "text": [
      "/opt/conda/envs/python35-paddle120-env/lib/python3.5/site-packages/sklearn/linear_model/logistic.py:432: FutureWarning: Default solver will be changed to 'lbfgs' in 0.22. Specify a solver to silence this warning.\n",
      "  FutureWarning)\n",
      "/opt/conda/envs/python35-paddle120-env/lib/python3.5/site-packages/sklearn/linear_model/logistic.py:469: FutureWarning: Default multi_class will be changed to 'auto' in 0.22. Specify the multi_class option to silence this warning.\n",
      "  \"this warning.\", FutureWarning)\n"
     ]
    },
    {
     "name": "stdout",
     "output_type": "stream",
     "text": [
      "test acc: 0.533333, test loss: 1.114554\n",
      "4fold--------------\n"
     ]
    },
    {
     "name": "stderr",
     "output_type": "stream",
     "text": [
      "/opt/conda/envs/python35-paddle120-env/lib/python3.5/site-packages/sklearn/linear_model/logistic.py:432: FutureWarning: Default solver will be changed to 'lbfgs' in 0.22. Specify a solver to silence this warning.\n",
      "  FutureWarning)\n",
      "/opt/conda/envs/python35-paddle120-env/lib/python3.5/site-packages/sklearn/linear_model/logistic.py:469: FutureWarning: Default multi_class will be changed to 'auto' in 0.22. Specify the multi_class option to silence this warning.\n",
      "  \"this warning.\", FutureWarning)\n"
     ]
    },
    {
     "name": "stdout",
     "output_type": "stream",
     "text": [
      "test acc: 0.519167, test loss: 1.135910\n",
      "5fold--------------\n"
     ]
    },
    {
     "name": "stderr",
     "output_type": "stream",
     "text": [
      "/opt/conda/envs/python35-paddle120-env/lib/python3.5/site-packages/sklearn/linear_model/logistic.py:432: FutureWarning: Default solver will be changed to 'lbfgs' in 0.22. Specify a solver to silence this warning.\n",
      "  FutureWarning)\n",
      "/opt/conda/envs/python35-paddle120-env/lib/python3.5/site-packages/sklearn/linear_model/logistic.py:469: FutureWarning: Default multi_class will be changed to 'auto' in 0.22. Specify the multi_class option to silence this warning.\n",
      "  \"this warning.\", FutureWarning)\n"
     ]
    },
    {
     "name": "stdout",
     "output_type": "stream",
     "text": [
      "test acc: 0.538333, test loss: 1.102487\n",
      "this fold mean loss: 1.1228121500730401\n",
      "3 th kflod**************************************************\n",
      "1fold--------------\n"
     ]
    },
    {
     "name": "stderr",
     "output_type": "stream",
     "text": [
      "/opt/conda/envs/python35-paddle120-env/lib/python3.5/site-packages/sklearn/linear_model/logistic.py:432: FutureWarning: Default solver will be changed to 'lbfgs' in 0.22. Specify a solver to silence this warning.\n",
      "  FutureWarning)\n",
      "/opt/conda/envs/python35-paddle120-env/lib/python3.5/site-packages/sklearn/linear_model/logistic.py:469: FutureWarning: Default multi_class will be changed to 'auto' in 0.22. Specify the multi_class option to silence this warning.\n",
      "  \"this warning.\", FutureWarning)\n"
     ]
    },
    {
     "name": "stdout",
     "output_type": "stream",
     "text": [
      "test acc: 0.534167, test loss: 1.099946\n",
      "2fold--------------\n"
     ]
    },
    {
     "name": "stderr",
     "output_type": "stream",
     "text": [
      "/opt/conda/envs/python35-paddle120-env/lib/python3.5/site-packages/sklearn/linear_model/logistic.py:432: FutureWarning: Default solver will be changed to 'lbfgs' in 0.22. Specify a solver to silence this warning.\n",
      "  FutureWarning)\n",
      "/opt/conda/envs/python35-paddle120-env/lib/python3.5/site-packages/sklearn/linear_model/logistic.py:469: FutureWarning: Default multi_class will be changed to 'auto' in 0.22. Specify the multi_class option to silence this warning.\n",
      "  \"this warning.\", FutureWarning)\n"
     ]
    },
    {
     "name": "stdout",
     "output_type": "stream",
     "text": [
      "test acc: 0.512500, test loss: 1.154987\n",
      "3fold--------------\n"
     ]
    },
    {
     "name": "stderr",
     "output_type": "stream",
     "text": [
      "/opt/conda/envs/python35-paddle120-env/lib/python3.5/site-packages/sklearn/linear_model/logistic.py:432: FutureWarning: Default solver will be changed to 'lbfgs' in 0.22. Specify a solver to silence this warning.\n",
      "  FutureWarning)\n",
      "/opt/conda/envs/python35-paddle120-env/lib/python3.5/site-packages/sklearn/linear_model/logistic.py:469: FutureWarning: Default multi_class will be changed to 'auto' in 0.22. Specify the multi_class option to silence this warning.\n",
      "  \"this warning.\", FutureWarning)\n"
     ]
    },
    {
     "name": "stdout",
     "output_type": "stream",
     "text": [
      "test acc: 0.524167, test loss: 1.128740\n",
      "4fold--------------\n"
     ]
    },
    {
     "name": "stderr",
     "output_type": "stream",
     "text": [
      "/opt/conda/envs/python35-paddle120-env/lib/python3.5/site-packages/sklearn/linear_model/logistic.py:432: FutureWarning: Default solver will be changed to 'lbfgs' in 0.22. Specify a solver to silence this warning.\n",
      "  FutureWarning)\n",
      "/opt/conda/envs/python35-paddle120-env/lib/python3.5/site-packages/sklearn/linear_model/logistic.py:469: FutureWarning: Default multi_class will be changed to 'auto' in 0.22. Specify the multi_class option to silence this warning.\n",
      "  \"this warning.\", FutureWarning)\n"
     ]
    },
    {
     "name": "stdout",
     "output_type": "stream",
     "text": [
      "test acc: 0.532500, test loss: 1.094572\n",
      "5fold--------------\n"
     ]
    },
    {
     "name": "stderr",
     "output_type": "stream",
     "text": [
      "/opt/conda/envs/python35-paddle120-env/lib/python3.5/site-packages/sklearn/linear_model/logistic.py:432: FutureWarning: Default solver will be changed to 'lbfgs' in 0.22. Specify a solver to silence this warning.\n",
      "  FutureWarning)\n",
      "/opt/conda/envs/python35-paddle120-env/lib/python3.5/site-packages/sklearn/linear_model/logistic.py:469: FutureWarning: Default multi_class will be changed to 'auto' in 0.22. Specify the multi_class option to silence this warning.\n",
      "  \"this warning.\", FutureWarning)\n"
     ]
    },
    {
     "name": "stdout",
     "output_type": "stream",
     "text": [
      "test acc: 0.534167, test loss: 1.121373\n",
      "this fold mean loss: 1.1199235920419535\n",
      "4 th kflod**************************************************\n",
      "1fold--------------\n"
     ]
    },
    {
     "name": "stderr",
     "output_type": "stream",
     "text": [
      "/opt/conda/envs/python35-paddle120-env/lib/python3.5/site-packages/sklearn/linear_model/logistic.py:432: FutureWarning: Default solver will be changed to 'lbfgs' in 0.22. Specify a solver to silence this warning.\n",
      "  FutureWarning)\n",
      "/opt/conda/envs/python35-paddle120-env/lib/python3.5/site-packages/sklearn/linear_model/logistic.py:469: FutureWarning: Default multi_class will be changed to 'auto' in 0.22. Specify the multi_class option to silence this warning.\n",
      "  \"this warning.\", FutureWarning)\n"
     ]
    },
    {
     "name": "stdout",
     "output_type": "stream",
     "text": [
      "test acc: 0.546667, test loss: 1.062226\n",
      "2fold--------------\n"
     ]
    },
    {
     "name": "stderr",
     "output_type": "stream",
     "text": [
      "/opt/conda/envs/python35-paddle120-env/lib/python3.5/site-packages/sklearn/linear_model/logistic.py:432: FutureWarning: Default solver will be changed to 'lbfgs' in 0.22. Specify a solver to silence this warning.\n",
      "  FutureWarning)\n",
      "/opt/conda/envs/python35-paddle120-env/lib/python3.5/site-packages/sklearn/linear_model/logistic.py:469: FutureWarning: Default multi_class will be changed to 'auto' in 0.22. Specify the multi_class option to silence this warning.\n",
      "  \"this warning.\", FutureWarning)\n"
     ]
    },
    {
     "name": "stdout",
     "output_type": "stream",
     "text": [
      "test acc: 0.518333, test loss: 1.139692\n",
      "3fold--------------\n"
     ]
    },
    {
     "name": "stderr",
     "output_type": "stream",
     "text": [
      "/opt/conda/envs/python35-paddle120-env/lib/python3.5/site-packages/sklearn/linear_model/logistic.py:432: FutureWarning: Default solver will be changed to 'lbfgs' in 0.22. Specify a solver to silence this warning.\n",
      "  FutureWarning)\n",
      "/opt/conda/envs/python35-paddle120-env/lib/python3.5/site-packages/sklearn/linear_model/logistic.py:469: FutureWarning: Default multi_class will be changed to 'auto' in 0.22. Specify the multi_class option to silence this warning.\n",
      "  \"this warning.\", FutureWarning)\n"
     ]
    },
    {
     "name": "stdout",
     "output_type": "stream",
     "text": [
      "test acc: 0.527500, test loss: 1.123375\n",
      "4fold--------------\n"
     ]
    },
    {
     "name": "stderr",
     "output_type": "stream",
     "text": [
      "/opt/conda/envs/python35-paddle120-env/lib/python3.5/site-packages/sklearn/linear_model/logistic.py:432: FutureWarning: Default solver will be changed to 'lbfgs' in 0.22. Specify a solver to silence this warning.\n",
      "  FutureWarning)\n",
      "/opt/conda/envs/python35-paddle120-env/lib/python3.5/site-packages/sklearn/linear_model/logistic.py:469: FutureWarning: Default multi_class will be changed to 'auto' in 0.22. Specify the multi_class option to silence this warning.\n",
      "  \"this warning.\", FutureWarning)\n"
     ]
    },
    {
     "name": "stdout",
     "output_type": "stream",
     "text": [
      "test acc: 0.516667, test loss: 1.116335\n",
      "5fold--------------\n"
     ]
    },
    {
     "name": "stderr",
     "output_type": "stream",
     "text": [
      "/opt/conda/envs/python35-paddle120-env/lib/python3.5/site-packages/sklearn/linear_model/logistic.py:432: FutureWarning: Default solver will be changed to 'lbfgs' in 0.22. Specify a solver to silence this warning.\n",
      "  FutureWarning)\n",
      "/opt/conda/envs/python35-paddle120-env/lib/python3.5/site-packages/sklearn/linear_model/logistic.py:469: FutureWarning: Default multi_class will be changed to 'auto' in 0.22. Specify the multi_class option to silence this warning.\n",
      "  \"this warning.\", FutureWarning)\n"
     ]
    },
    {
     "name": "stdout",
     "output_type": "stream",
     "text": [
      "test acc: 0.512500, test loss: 1.156074\n",
      "this fold mean loss: 1.1195403631816023\n",
      "5 th kflod**************************************************\n",
      "1fold--------------\n"
     ]
    },
    {
     "name": "stderr",
     "output_type": "stream",
     "text": [
      "/opt/conda/envs/python35-paddle120-env/lib/python3.5/site-packages/sklearn/linear_model/logistic.py:432: FutureWarning: Default solver will be changed to 'lbfgs' in 0.22. Specify a solver to silence this warning.\n",
      "  FutureWarning)\n",
      "/opt/conda/envs/python35-paddle120-env/lib/python3.5/site-packages/sklearn/linear_model/logistic.py:469: FutureWarning: Default multi_class will be changed to 'auto' in 0.22. Specify the multi_class option to silence this warning.\n",
      "  \"this warning.\", FutureWarning)\n"
     ]
    },
    {
     "name": "stdout",
     "output_type": "stream",
     "text": [
      "test acc: 0.525000, test loss: 1.119232\n",
      "2fold--------------\n"
     ]
    },
    {
     "name": "stderr",
     "output_type": "stream",
     "text": [
      "/opt/conda/envs/python35-paddle120-env/lib/python3.5/site-packages/sklearn/linear_model/logistic.py:432: FutureWarning: Default solver will be changed to 'lbfgs' in 0.22. Specify a solver to silence this warning.\n",
      "  FutureWarning)\n",
      "/opt/conda/envs/python35-paddle120-env/lib/python3.5/site-packages/sklearn/linear_model/logistic.py:469: FutureWarning: Default multi_class will be changed to 'auto' in 0.22. Specify the multi_class option to silence this warning.\n",
      "  \"this warning.\", FutureWarning)\n"
     ]
    },
    {
     "name": "stdout",
     "output_type": "stream",
     "text": [
      "test acc: 0.530000, test loss: 1.104697\n",
      "3fold--------------\n"
     ]
    },
    {
     "name": "stderr",
     "output_type": "stream",
     "text": [
      "/opt/conda/envs/python35-paddle120-env/lib/python3.5/site-packages/sklearn/linear_model/logistic.py:432: FutureWarning: Default solver will be changed to 'lbfgs' in 0.22. Specify a solver to silence this warning.\n",
      "  FutureWarning)\n",
      "/opt/conda/envs/python35-paddle120-env/lib/python3.5/site-packages/sklearn/linear_model/logistic.py:469: FutureWarning: Default multi_class will be changed to 'auto' in 0.22. Specify the multi_class option to silence this warning.\n",
      "  \"this warning.\", FutureWarning)\n"
     ]
    },
    {
     "name": "stdout",
     "output_type": "stream",
     "text": [
      "test acc: 0.530000, test loss: 1.109013\n",
      "4fold--------------\n"
     ]
    },
    {
     "name": "stderr",
     "output_type": "stream",
     "text": [
      "/opt/conda/envs/python35-paddle120-env/lib/python3.5/site-packages/sklearn/linear_model/logistic.py:432: FutureWarning: Default solver will be changed to 'lbfgs' in 0.22. Specify a solver to silence this warning.\n",
      "  FutureWarning)\n",
      "/opt/conda/envs/python35-paddle120-env/lib/python3.5/site-packages/sklearn/linear_model/logistic.py:469: FutureWarning: Default multi_class will be changed to 'auto' in 0.22. Specify the multi_class option to silence this warning.\n",
      "  \"this warning.\", FutureWarning)\n"
     ]
    },
    {
     "name": "stdout",
     "output_type": "stream",
     "text": [
      "test acc: 0.528333, test loss: 1.124626\n",
      "5fold--------------\n"
     ]
    },
    {
     "name": "stderr",
     "output_type": "stream",
     "text": [
      "/opt/conda/envs/python35-paddle120-env/lib/python3.5/site-packages/sklearn/linear_model/logistic.py:432: FutureWarning: Default solver will be changed to 'lbfgs' in 0.22. Specify a solver to silence this warning.\n",
      "  FutureWarning)\n",
      "/opt/conda/envs/python35-paddle120-env/lib/python3.5/site-packages/sklearn/linear_model/logistic.py:469: FutureWarning: Default multi_class will be changed to 'auto' in 0.22. Specify the multi_class option to silence this warning.\n",
      "  \"this warning.\", FutureWarning)\n"
     ]
    },
    {
     "name": "stdout",
     "output_type": "stream",
     "text": [
      "test acc: 0.495833, test loss: 1.173181\n",
      "this fold mean loss: 1.1261497983294046\n",
      "6 th kflod**************************************************\n",
      "1fold--------------\n"
     ]
    },
    {
     "name": "stderr",
     "output_type": "stream",
     "text": [
      "/opt/conda/envs/python35-paddle120-env/lib/python3.5/site-packages/sklearn/linear_model/logistic.py:432: FutureWarning: Default solver will be changed to 'lbfgs' in 0.22. Specify a solver to silence this warning.\n",
      "  FutureWarning)\n",
      "/opt/conda/envs/python35-paddle120-env/lib/python3.5/site-packages/sklearn/linear_model/logistic.py:469: FutureWarning: Default multi_class will be changed to 'auto' in 0.22. Specify the multi_class option to silence this warning.\n",
      "  \"this warning.\", FutureWarning)\n"
     ]
    },
    {
     "name": "stdout",
     "output_type": "stream",
     "text": [
      "test acc: 0.529167, test loss: 1.122294\n",
      "2fold--------------\n"
     ]
    },
    {
     "name": "stderr",
     "output_type": "stream",
     "text": [
      "/opt/conda/envs/python35-paddle120-env/lib/python3.5/site-packages/sklearn/linear_model/logistic.py:432: FutureWarning: Default solver will be changed to 'lbfgs' in 0.22. Specify a solver to silence this warning.\n",
      "  FutureWarning)\n",
      "/opt/conda/envs/python35-paddle120-env/lib/python3.5/site-packages/sklearn/linear_model/logistic.py:469: FutureWarning: Default multi_class will be changed to 'auto' in 0.22. Specify the multi_class option to silence this warning.\n",
      "  \"this warning.\", FutureWarning)\n"
     ]
    },
    {
     "name": "stdout",
     "output_type": "stream",
     "text": [
      "test acc: 0.515000, test loss: 1.139619\n",
      "3fold--------------\n"
     ]
    },
    {
     "name": "stderr",
     "output_type": "stream",
     "text": [
      "/opt/conda/envs/python35-paddle120-env/lib/python3.5/site-packages/sklearn/linear_model/logistic.py:432: FutureWarning: Default solver will be changed to 'lbfgs' in 0.22. Specify a solver to silence this warning.\n",
      "  FutureWarning)\n",
      "/opt/conda/envs/python35-paddle120-env/lib/python3.5/site-packages/sklearn/linear_model/logistic.py:469: FutureWarning: Default multi_class will be changed to 'auto' in 0.22. Specify the multi_class option to silence this warning.\n",
      "  \"this warning.\", FutureWarning)\n"
     ]
    },
    {
     "name": "stdout",
     "output_type": "stream",
     "text": [
      "test acc: 0.540000, test loss: 1.082342\n",
      "4fold--------------\n"
     ]
    },
    {
     "name": "stderr",
     "output_type": "stream",
     "text": [
      "/opt/conda/envs/python35-paddle120-env/lib/python3.5/site-packages/sklearn/linear_model/logistic.py:432: FutureWarning: Default solver will be changed to 'lbfgs' in 0.22. Specify a solver to silence this warning.\n",
      "  FutureWarning)\n",
      "/opt/conda/envs/python35-paddle120-env/lib/python3.5/site-packages/sklearn/linear_model/logistic.py:469: FutureWarning: Default multi_class will be changed to 'auto' in 0.22. Specify the multi_class option to silence this warning.\n",
      "  \"this warning.\", FutureWarning)\n"
     ]
    },
    {
     "name": "stdout",
     "output_type": "stream",
     "text": [
      "test acc: 0.526667, test loss: 1.132941\n",
      "5fold--------------\n"
     ]
    },
    {
     "name": "stderr",
     "output_type": "stream",
     "text": [
      "/opt/conda/envs/python35-paddle120-env/lib/python3.5/site-packages/sklearn/linear_model/logistic.py:432: FutureWarning: Default solver will be changed to 'lbfgs' in 0.22. Specify a solver to silence this warning.\n",
      "  FutureWarning)\n",
      "/opt/conda/envs/python35-paddle120-env/lib/python3.5/site-packages/sklearn/linear_model/logistic.py:469: FutureWarning: Default multi_class will be changed to 'auto' in 0.22. Specify the multi_class option to silence this warning.\n",
      "  \"this warning.\", FutureWarning)\n"
     ]
    },
    {
     "name": "stdout",
     "output_type": "stream",
     "text": [
      "test acc: 0.517500, test loss: 1.120328\n",
      "this fold mean loss: 1.1195050766428005\n",
      "7 th kflod**************************************************\n",
      "1fold--------------\n"
     ]
    },
    {
     "name": "stderr",
     "output_type": "stream",
     "text": [
      "/opt/conda/envs/python35-paddle120-env/lib/python3.5/site-packages/sklearn/linear_model/logistic.py:432: FutureWarning: Default solver will be changed to 'lbfgs' in 0.22. Specify a solver to silence this warning.\n",
      "  FutureWarning)\n",
      "/opt/conda/envs/python35-paddle120-env/lib/python3.5/site-packages/sklearn/linear_model/logistic.py:469: FutureWarning: Default multi_class will be changed to 'auto' in 0.22. Specify the multi_class option to silence this warning.\n",
      "  \"this warning.\", FutureWarning)\n"
     ]
    },
    {
     "name": "stdout",
     "output_type": "stream",
     "text": [
      "test acc: 0.555833, test loss: 1.072687\n",
      "2fold--------------\n"
     ]
    },
    {
     "name": "stderr",
     "output_type": "stream",
     "text": [
      "/opt/conda/envs/python35-paddle120-env/lib/python3.5/site-packages/sklearn/linear_model/logistic.py:432: FutureWarning: Default solver will be changed to 'lbfgs' in 0.22. Specify a solver to silence this warning.\n",
      "  FutureWarning)\n",
      "/opt/conda/envs/python35-paddle120-env/lib/python3.5/site-packages/sklearn/linear_model/logistic.py:469: FutureWarning: Default multi_class will be changed to 'auto' in 0.22. Specify the multi_class option to silence this warning.\n",
      "  \"this warning.\", FutureWarning)\n"
     ]
    },
    {
     "name": "stdout",
     "output_type": "stream",
     "text": [
      "test acc: 0.515833, test loss: 1.164373\n",
      "3fold--------------\n"
     ]
    },
    {
     "name": "stderr",
     "output_type": "stream",
     "text": [
      "/opt/conda/envs/python35-paddle120-env/lib/python3.5/site-packages/sklearn/linear_model/logistic.py:432: FutureWarning: Default solver will be changed to 'lbfgs' in 0.22. Specify a solver to silence this warning.\n",
      "  FutureWarning)\n",
      "/opt/conda/envs/python35-paddle120-env/lib/python3.5/site-packages/sklearn/linear_model/logistic.py:469: FutureWarning: Default multi_class will be changed to 'auto' in 0.22. Specify the multi_class option to silence this warning.\n",
      "  \"this warning.\", FutureWarning)\n"
     ]
    },
    {
     "name": "stdout",
     "output_type": "stream",
     "text": [
      "test acc: 0.530000, test loss: 1.148270\n",
      "4fold--------------\n"
     ]
    },
    {
     "name": "stderr",
     "output_type": "stream",
     "text": [
      "/opt/conda/envs/python35-paddle120-env/lib/python3.5/site-packages/sklearn/linear_model/logistic.py:432: FutureWarning: Default solver will be changed to 'lbfgs' in 0.22. Specify a solver to silence this warning.\n",
      "  FutureWarning)\n",
      "/opt/conda/envs/python35-paddle120-env/lib/python3.5/site-packages/sklearn/linear_model/logistic.py:469: FutureWarning: Default multi_class will be changed to 'auto' in 0.22. Specify the multi_class option to silence this warning.\n",
      "  \"this warning.\", FutureWarning)\n"
     ]
    },
    {
     "name": "stdout",
     "output_type": "stream",
     "text": [
      "test acc: 0.542500, test loss: 1.095915\n",
      "5fold--------------\n"
     ]
    },
    {
     "name": "stderr",
     "output_type": "stream",
     "text": [
      "/opt/conda/envs/python35-paddle120-env/lib/python3.5/site-packages/sklearn/linear_model/logistic.py:432: FutureWarning: Default solver will be changed to 'lbfgs' in 0.22. Specify a solver to silence this warning.\n",
      "  FutureWarning)\n",
      "/opt/conda/envs/python35-paddle120-env/lib/python3.5/site-packages/sklearn/linear_model/logistic.py:469: FutureWarning: Default multi_class will be changed to 'auto' in 0.22. Specify the multi_class option to silence this warning.\n",
      "  \"this warning.\", FutureWarning)\n"
     ]
    },
    {
     "name": "stdout",
     "output_type": "stream",
     "text": [
      "test acc: 0.518333, test loss: 1.125110\n",
      "this fold mean loss: 1.1212709612258895\n",
      "8 th kflod**************************************************\n",
      "1fold--------------\n"
     ]
    },
    {
     "name": "stderr",
     "output_type": "stream",
     "text": [
      "/opt/conda/envs/python35-paddle120-env/lib/python3.5/site-packages/sklearn/linear_model/logistic.py:432: FutureWarning: Default solver will be changed to 'lbfgs' in 0.22. Specify a solver to silence this warning.\n",
      "  FutureWarning)\n",
      "/opt/conda/envs/python35-paddle120-env/lib/python3.5/site-packages/sklearn/linear_model/logistic.py:469: FutureWarning: Default multi_class will be changed to 'auto' in 0.22. Specify the multi_class option to silence this warning.\n",
      "  \"this warning.\", FutureWarning)\n"
     ]
    },
    {
     "name": "stdout",
     "output_type": "stream",
     "text": [
      "test acc: 0.525833, test loss: 1.128818\n",
      "2fold--------------\n"
     ]
    },
    {
     "name": "stderr",
     "output_type": "stream",
     "text": [
      "/opt/conda/envs/python35-paddle120-env/lib/python3.5/site-packages/sklearn/linear_model/logistic.py:432: FutureWarning: Default solver will be changed to 'lbfgs' in 0.22. Specify a solver to silence this warning.\n",
      "  FutureWarning)\n",
      "/opt/conda/envs/python35-paddle120-env/lib/python3.5/site-packages/sklearn/linear_model/logistic.py:469: FutureWarning: Default multi_class will be changed to 'auto' in 0.22. Specify the multi_class option to silence this warning.\n",
      "  \"this warning.\", FutureWarning)\n"
     ]
    },
    {
     "name": "stdout",
     "output_type": "stream",
     "text": [
      "test acc: 0.497500, test loss: 1.158853\n",
      "3fold--------------\n"
     ]
    },
    {
     "name": "stderr",
     "output_type": "stream",
     "text": [
      "/opt/conda/envs/python35-paddle120-env/lib/python3.5/site-packages/sklearn/linear_model/logistic.py:432: FutureWarning: Default solver will be changed to 'lbfgs' in 0.22. Specify a solver to silence this warning.\n",
      "  FutureWarning)\n",
      "/opt/conda/envs/python35-paddle120-env/lib/python3.5/site-packages/sklearn/linear_model/logistic.py:469: FutureWarning: Default multi_class will be changed to 'auto' in 0.22. Specify the multi_class option to silence this warning.\n",
      "  \"this warning.\", FutureWarning)\n"
     ]
    },
    {
     "name": "stdout",
     "output_type": "stream",
     "text": [
      "test acc: 0.531667, test loss: 1.119198\n",
      "4fold--------------\n"
     ]
    },
    {
     "name": "stderr",
     "output_type": "stream",
     "text": [
      "/opt/conda/envs/python35-paddle120-env/lib/python3.5/site-packages/sklearn/linear_model/logistic.py:432: FutureWarning: Default solver will be changed to 'lbfgs' in 0.22. Specify a solver to silence this warning.\n",
      "  FutureWarning)\n",
      "/opt/conda/envs/python35-paddle120-env/lib/python3.5/site-packages/sklearn/linear_model/logistic.py:469: FutureWarning: Default multi_class will be changed to 'auto' in 0.22. Specify the multi_class option to silence this warning.\n",
      "  \"this warning.\", FutureWarning)\n"
     ]
    },
    {
     "name": "stdout",
     "output_type": "stream",
     "text": [
      "test acc: 0.539167, test loss: 1.116008\n",
      "5fold--------------\n"
     ]
    },
    {
     "name": "stderr",
     "output_type": "stream",
     "text": [
      "/opt/conda/envs/python35-paddle120-env/lib/python3.5/site-packages/sklearn/linear_model/logistic.py:432: FutureWarning: Default solver will be changed to 'lbfgs' in 0.22. Specify a solver to silence this warning.\n",
      "  FutureWarning)\n",
      "/opt/conda/envs/python35-paddle120-env/lib/python3.5/site-packages/sklearn/linear_model/logistic.py:469: FutureWarning: Default multi_class will be changed to 'auto' in 0.22. Specify the multi_class option to silence this warning.\n",
      "  \"this warning.\", FutureWarning)\n"
     ]
    },
    {
     "name": "stdout",
     "output_type": "stream",
     "text": [
      "test acc: 0.544167, test loss: 1.101696\n",
      "this fold mean loss: 1.1249145553690998\n",
      "9 th kflod**************************************************\n",
      "1fold--------------\n"
     ]
    },
    {
     "name": "stderr",
     "output_type": "stream",
     "text": [
      "/opt/conda/envs/python35-paddle120-env/lib/python3.5/site-packages/sklearn/linear_model/logistic.py:432: FutureWarning: Default solver will be changed to 'lbfgs' in 0.22. Specify a solver to silence this warning.\n",
      "  FutureWarning)\n",
      "/opt/conda/envs/python35-paddle120-env/lib/python3.5/site-packages/sklearn/linear_model/logistic.py:469: FutureWarning: Default multi_class will be changed to 'auto' in 0.22. Specify the multi_class option to silence this warning.\n",
      "  \"this warning.\", FutureWarning)\n"
     ]
    },
    {
     "name": "stdout",
     "output_type": "stream",
     "text": [
      "test acc: 0.531667, test loss: 1.136739\n",
      "2fold--------------\n"
     ]
    },
    {
     "name": "stderr",
     "output_type": "stream",
     "text": [
      "/opt/conda/envs/python35-paddle120-env/lib/python3.5/site-packages/sklearn/linear_model/logistic.py:432: FutureWarning: Default solver will be changed to 'lbfgs' in 0.22. Specify a solver to silence this warning.\n",
      "  FutureWarning)\n",
      "/opt/conda/envs/python35-paddle120-env/lib/python3.5/site-packages/sklearn/linear_model/logistic.py:469: FutureWarning: Default multi_class will be changed to 'auto' in 0.22. Specify the multi_class option to silence this warning.\n",
      "  \"this warning.\", FutureWarning)\n"
     ]
    },
    {
     "name": "stdout",
     "output_type": "stream",
     "text": [
      "test acc: 0.533333, test loss: 1.124738\n",
      "3fold--------------\n"
     ]
    },
    {
     "name": "stderr",
     "output_type": "stream",
     "text": [
      "/opt/conda/envs/python35-paddle120-env/lib/python3.5/site-packages/sklearn/linear_model/logistic.py:432: FutureWarning: Default solver will be changed to 'lbfgs' in 0.22. Specify a solver to silence this warning.\n",
      "  FutureWarning)\n",
      "/opt/conda/envs/python35-paddle120-env/lib/python3.5/site-packages/sklearn/linear_model/logistic.py:469: FutureWarning: Default multi_class will be changed to 'auto' in 0.22. Specify the multi_class option to silence this warning.\n",
      "  \"this warning.\", FutureWarning)\n"
     ]
    },
    {
     "name": "stdout",
     "output_type": "stream",
     "text": [
      "test acc: 0.531667, test loss: 1.127739\n",
      "4fold--------------\n"
     ]
    },
    {
     "name": "stderr",
     "output_type": "stream",
     "text": [
      "/opt/conda/envs/python35-paddle120-env/lib/python3.5/site-packages/sklearn/linear_model/logistic.py:432: FutureWarning: Default solver will be changed to 'lbfgs' in 0.22. Specify a solver to silence this warning.\n",
      "  FutureWarning)\n",
      "/opt/conda/envs/python35-paddle120-env/lib/python3.5/site-packages/sklearn/linear_model/logistic.py:469: FutureWarning: Default multi_class will be changed to 'auto' in 0.22. Specify the multi_class option to silence this warning.\n",
      "  \"this warning.\", FutureWarning)\n"
     ]
    },
    {
     "name": "stdout",
     "output_type": "stream",
     "text": [
      "test acc: 0.530000, test loss: 1.115420\n",
      "5fold--------------\n"
     ]
    },
    {
     "name": "stderr",
     "output_type": "stream",
     "text": [
      "/opt/conda/envs/python35-paddle120-env/lib/python3.5/site-packages/sklearn/linear_model/logistic.py:432: FutureWarning: Default solver will be changed to 'lbfgs' in 0.22. Specify a solver to silence this warning.\n",
      "  FutureWarning)\n",
      "/opt/conda/envs/python35-paddle120-env/lib/python3.5/site-packages/sklearn/linear_model/logistic.py:469: FutureWarning: Default multi_class will be changed to 'auto' in 0.22. Specify the multi_class option to silence this warning.\n",
      "  \"this warning.\", FutureWarning)\n"
     ]
    },
    {
     "name": "stdout",
     "output_type": "stream",
     "text": [
      "test acc: 0.527500, test loss: 1.115457\n",
      "this fold mean loss: 1.1240186696715244\n",
      "10 th kflod**************************************************\n",
      "1fold--------------\n"
     ]
    },
    {
     "name": "stderr",
     "output_type": "stream",
     "text": [
      "/opt/conda/envs/python35-paddle120-env/lib/python3.5/site-packages/sklearn/linear_model/logistic.py:432: FutureWarning: Default solver will be changed to 'lbfgs' in 0.22. Specify a solver to silence this warning.\n",
      "  FutureWarning)\n",
      "/opt/conda/envs/python35-paddle120-env/lib/python3.5/site-packages/sklearn/linear_model/logistic.py:469: FutureWarning: Default multi_class will be changed to 'auto' in 0.22. Specify the multi_class option to silence this warning.\n",
      "  \"this warning.\", FutureWarning)\n"
     ]
    },
    {
     "name": "stdout",
     "output_type": "stream",
     "text": [
      "test acc: 0.535833, test loss: 1.116612\n",
      "2fold--------------\n"
     ]
    },
    {
     "name": "stderr",
     "output_type": "stream",
     "text": [
      "/opt/conda/envs/python35-paddle120-env/lib/python3.5/site-packages/sklearn/linear_model/logistic.py:432: FutureWarning: Default solver will be changed to 'lbfgs' in 0.22. Specify a solver to silence this warning.\n",
      "  FutureWarning)\n",
      "/opt/conda/envs/python35-paddle120-env/lib/python3.5/site-packages/sklearn/linear_model/logistic.py:469: FutureWarning: Default multi_class will be changed to 'auto' in 0.22. Specify the multi_class option to silence this warning.\n",
      "  \"this warning.\", FutureWarning)\n"
     ]
    },
    {
     "name": "stdout",
     "output_type": "stream",
     "text": [
      "test acc: 0.511667, test loss: 1.141400\n",
      "3fold--------------\n"
     ]
    },
    {
     "name": "stderr",
     "output_type": "stream",
     "text": [
      "/opt/conda/envs/python35-paddle120-env/lib/python3.5/site-packages/sklearn/linear_model/logistic.py:432: FutureWarning: Default solver will be changed to 'lbfgs' in 0.22. Specify a solver to silence this warning.\n",
      "  FutureWarning)\n",
      "/opt/conda/envs/python35-paddle120-env/lib/python3.5/site-packages/sklearn/linear_model/logistic.py:469: FutureWarning: Default multi_class will be changed to 'auto' in 0.22. Specify the multi_class option to silence this warning.\n",
      "  \"this warning.\", FutureWarning)\n"
     ]
    },
    {
     "name": "stdout",
     "output_type": "stream",
     "text": [
      "test acc: 0.525833, test loss: 1.122256\n",
      "4fold--------------\n"
     ]
    },
    {
     "name": "stderr",
     "output_type": "stream",
     "text": [
      "/opt/conda/envs/python35-paddle120-env/lib/python3.5/site-packages/sklearn/linear_model/logistic.py:432: FutureWarning: Default solver will be changed to 'lbfgs' in 0.22. Specify a solver to silence this warning.\n",
      "  FutureWarning)\n",
      "/opt/conda/envs/python35-paddle120-env/lib/python3.5/site-packages/sklearn/linear_model/logistic.py:469: FutureWarning: Default multi_class will be changed to 'auto' in 0.22. Specify the multi_class option to silence this warning.\n",
      "  \"this warning.\", FutureWarning)\n"
     ]
    },
    {
     "name": "stdout",
     "output_type": "stream",
     "text": [
      "test acc: 0.525833, test loss: 1.117572\n",
      "5fold--------------\n"
     ]
    },
    {
     "name": "stderr",
     "output_type": "stream",
     "text": [
      "/opt/conda/envs/python35-paddle120-env/lib/python3.5/site-packages/sklearn/linear_model/logistic.py:432: FutureWarning: Default solver will be changed to 'lbfgs' in 0.22. Specify a solver to silence this warning.\n",
      "  FutureWarning)\n",
      "/opt/conda/envs/python35-paddle120-env/lib/python3.5/site-packages/sklearn/linear_model/logistic.py:469: FutureWarning: Default multi_class will be changed to 'auto' in 0.22. Specify the multi_class option to silence this warning.\n",
      "  \"this warning.\", FutureWarning)\n"
     ]
    },
    {
     "name": "stdout",
     "output_type": "stream",
     "text": [
      "test acc: 0.537500, test loss: 1.103709\n",
      "this fold mean loss: 1.1203098434585672\n",
      "**************************************************\n",
      "mean acc: 0.527600, mean loss: 1.121543\n",
      "running time:  63.80689904999999\n"
     ]
    },
    {
     "name": "stderr",
     "output_type": "stream",
     "text": [
      "/opt/conda/envs/python35-paddle120-env/lib/python3.5/site-packages/ipykernel_launcher.py:6: SettingWithCopyWarning: \n",
      "A value is trying to be set on a copy of a slice from a DataFrame.\n",
      "Try using .loc[row_indexer,col_indexer] = value instead\n",
      "\n",
      "See the caveats in the documentation: http://pandas.pydata.org/pandas-docs/stable/indexing.html#indexing-view-versus-copy\n",
      "  \n",
      "/opt/conda/envs/python35-paddle120-env/lib/python3.5/site-packages/ipykernel_launcher.py:8: SettingWithCopyWarning: \n",
      "A value is trying to be set on a copy of a slice from a DataFrame.\n",
      "Try using .loc[row_indexer,col_indexer] = value instead\n",
      "\n",
      "See the caveats in the documentation: http://pandas.pydata.org/pandas-docs/stable/indexing.html#indexing-view-versus-copy\n",
      "  \n"
     ]
    },
    {
     "name": "stdout",
     "output_type": "stream",
     "text": [
      "0       0.249910\n",
      "50      0.180633\n",
      "100     0.192535\n",
      "150     0.253337\n",
      "200     0.156103\n",
      "250     0.185722\n",
      "300     0.207306\n",
      "350     0.166525\n",
      "400     0.115783\n",
      "450     0.140239\n",
      "500     0.093649\n",
      "550     0.134033\n",
      "600     0.263693\n",
      "650     0.165918\n",
      "700     0.436844\n",
      "750     0.197838\n",
      "800     0.312173\n",
      "850     0.161930\n",
      "900     0.156833\n",
      "950     0.179383\n",
      "1000    0.197355\n",
      "1050    0.178522\n",
      "1100    0.166609\n",
      "1150    0.169956\n",
      "1200    0.127062\n",
      "1250    0.178387\n",
      "1300    0.355139\n",
      "1350    0.178541\n",
      "1400    0.355064\n",
      "1450    0.168823\n",
      "          ...   \n",
      "4500    0.250614\n",
      "4550    0.160334\n",
      "4600    0.181724\n",
      "4650    0.202574\n",
      "4700    0.227717\n",
      "4750    0.173334\n",
      "4800    0.135898\n",
      "4850    0.167044\n",
      "4900    0.191231\n",
      "4950    0.162354\n",
      "5000    0.088339\n",
      "5050    0.200507\n",
      "5100    0.277622\n",
      "5150    0.152901\n",
      "5200    0.250391\n",
      "5250    0.177016\n",
      "5300    0.083524\n",
      "5350    0.214081\n",
      "5400    0.198213\n",
      "5450    0.209733\n",
      "5500    0.105927\n",
      "5550    0.181194\n",
      "5600    0.185484\n",
      "5650    0.191894\n",
      "5700    0.201376\n",
      "5750    0.165132\n",
      "5800    0.085453\n",
      "5850    0.202593\n",
      "5900    0.082165\n",
      "5950    0.185643\n",
      "Name: Excellent ratio, Length: 120, dtype: float64\n",
      "Excellent ratio\n",
      "0       0.24\n",
      "50      0.18\n",
      "100     0.20\n",
      "150     0.26\n",
      "200     0.16\n",
      "250     0.18\n",
      "300     0.20\n",
      "350     0.16\n",
      "400     0.10\n",
      "450     0.14\n",
      "500     0.10\n",
      "550     0.14\n",
      "600     0.26\n",
      "650     0.16\n",
      "700     0.42\n",
      "750     0.20\n",
      "800     0.32\n",
      "850     0.16\n",
      "900     0.16\n",
      "950     0.16\n",
      "1000    0.20\n",
      "1050    0.16\n",
      "1100    0.16\n",
      "1150    0.16\n",
      "1200    0.12\n",
      "1250    0.16\n",
      "1300    0.34\n",
      "1350    0.16\n",
      "1400    0.34\n",
      "1450    0.16\n",
      "        ... \n",
      "4500    0.26\n",
      "4550    0.16\n",
      "4600    0.18\n",
      "4650    0.20\n",
      "4700    0.22\n",
      "4750    0.16\n",
      "4800    0.14\n",
      "4850    0.16\n",
      "4900    0.20\n",
      "4950    0.16\n",
      "5000    0.08\n",
      "5050    0.20\n",
      "5100    0.28\n",
      "5150    0.16\n",
      "5200    0.26\n",
      "5250    0.16\n",
      "5300    0.08\n",
      "5350    0.20\n",
      "5400    0.20\n",
      "5450    0.20\n",
      "5500    0.10\n",
      "5550    0.18\n",
      "5600    0.18\n",
      "5650    0.20\n",
      "5700    0.20\n",
      "5750    0.16\n",
      "5800    0.08\n",
      "5850    0.20\n",
      "5900    0.08\n",
      "5950    0.18\n",
      "Name: Excellent ratio, Length: 120, dtype: float64\n",
      "0       0.325053\n",
      "50      0.253235\n",
      "100     0.348154\n",
      "150     0.297799\n",
      "200     0.434836\n",
      "250     0.254810\n",
      "300     0.277680\n",
      "350     0.249234\n",
      "400     0.131318\n",
      "450     0.280208\n",
      "500     0.204535\n",
      "550     0.257980\n",
      "600     0.226632\n",
      "650     0.264740\n",
      "700     0.350424\n",
      "750     0.255744\n",
      "800     0.241978\n",
      "850     0.209279\n",
      "900     0.222731\n",
      "950     0.249151\n",
      "1000    0.355557\n",
      "1050    0.249520\n",
      "1100    0.517790\n",
      "1150    0.235387\n",
      "1200    0.478535\n",
      "1250    0.267840\n",
      "1300    0.413142\n",
      "1350    0.265258\n",
      "1400    0.414899\n",
      "1450    0.263530\n",
      "          ...   \n",
      "4500    0.430876\n",
      "4550    0.262471\n",
      "4600    0.302990\n",
      "4650    0.301474\n",
      "4700    0.229936\n",
      "4750    0.262625\n",
      "4800    0.348922\n",
      "4850    0.208618\n",
      "4900    0.166528\n",
      "4950    0.300444\n",
      "5000    0.158636\n",
      "5050    0.255819\n",
      "5100    0.241424\n",
      "5150    0.280378\n",
      "5200    0.296296\n",
      "5250    0.236943\n",
      "5300    0.128174\n",
      "5350    0.292618\n",
      "5400    0.259232\n",
      "5450    0.285980\n",
      "5500    0.263577\n",
      "5550    0.242128\n",
      "5600    0.328874\n",
      "5650    0.236301\n",
      "5700    0.439094\n",
      "5750    0.249943\n",
      "5800    0.101277\n",
      "5850    0.273894\n",
      "5900    0.088544\n",
      "5950    0.291208\n",
      "Name: Good ratio, Length: 120, dtype: float64\n",
      "Good ratio\n",
      "0       0.32\n",
      "50      0.26\n",
      "100     0.34\n",
      "150     0.28\n",
      "200     0.42\n",
      "250     0.26\n",
      "300     0.28\n",
      "350     0.24\n",
      "400     0.14\n",
      "450     0.28\n",
      "500     0.20\n",
      "550     0.26\n",
      "600     0.22\n",
      "650     0.26\n",
      "700     0.34\n",
      "750     0.26\n",
      "800     0.24\n",
      "850     0.20\n",
      "900     0.22\n",
      "950     0.24\n",
      "1000    0.34\n",
      "1050    0.24\n",
      "1100    0.52\n",
      "1150    0.22\n",
      "1200    0.46\n",
      "1250    0.26\n",
      "1300    0.40\n",
      "1350    0.26\n",
      "1400    0.40\n",
      "1450    0.26\n",
      "        ... \n",
      "4500    0.42\n",
      "4550    0.26\n",
      "4600    0.30\n",
      "4650    0.30\n",
      "4700    0.22\n",
      "4750    0.26\n",
      "4800    0.34\n",
      "4850    0.20\n",
      "4900    0.16\n",
      "4950    0.30\n",
      "5000    0.16\n",
      "5050    0.26\n",
      "5100    0.24\n",
      "5150    0.28\n",
      "5200    0.28\n",
      "5250    0.22\n",
      "5300    0.12\n",
      "5350    0.28\n",
      "5400    0.26\n",
      "5450    0.28\n",
      "5500    0.26\n",
      "5550    0.24\n",
      "5600    0.32\n",
      "5650    0.22\n",
      "5700    0.42\n",
      "5750    0.24\n",
      "5800    0.10\n",
      "5850    0.28\n",
      "5900    0.08\n",
      "5950    0.28\n",
      "Name: Good ratio, Length: 120, dtype: float64\n",
      "0       0.276885\n",
      "50      0.382150\n",
      "100     0.309640\n",
      "150     0.353698\n",
      "200     0.233884\n",
      "250     0.390406\n",
      "300     0.319171\n",
      "350     0.437026\n",
      "400     0.638406\n",
      "450     0.384870\n",
      "500     0.440829\n",
      "550     0.451690\n",
      "600     0.469890\n",
      "650     0.356535\n",
      "700     0.171009\n",
      "750     0.430707\n",
      "800     0.410881\n",
      "850     0.463467\n",
      "900     0.543955\n",
      "950     0.429846\n",
      "1000    0.339136\n",
      "1050    0.458897\n",
      "1100    0.217742\n",
      "1150    0.454758\n",
      "1200    0.133004\n",
      "1250    0.414559\n",
      "1300    0.171682\n",
      "1350    0.370931\n",
      "1400    0.169444\n",
      "1450    0.469255\n",
      "          ...   \n",
      "4500    0.144557\n",
      "4550    0.422089\n",
      "4600    0.224721\n",
      "4650    0.378818\n",
      "4700    0.420369\n",
      "4750    0.367005\n",
      "4800    0.251011\n",
      "4850    0.475517\n",
      "4900    0.534506\n",
      "4950    0.417532\n",
      "5000    0.518756\n",
      "5050    0.391453\n",
      "5100    0.312633\n",
      "5150    0.411333\n",
      "5200    0.277222\n",
      "5250    0.414135\n",
      "5300    0.719674\n",
      "5350    0.365408\n",
      "5400    0.411728\n",
      "5450    0.385461\n",
      "5500    0.370412\n",
      "5550    0.434869\n",
      "5600    0.362976\n",
      "5650    0.430305\n",
      "5700    0.186782\n",
      "5750    0.427686\n",
      "5800    0.752833\n",
      "5850    0.343964\n",
      "5900    0.793878\n",
      "5950    0.373978\n",
      "Name: Pass ratio, Length: 120, dtype: float64\n",
      "Pass ratio\n",
      "0       0.28\n",
      "50      0.38\n",
      "100     0.30\n",
      "150     0.34\n",
      "200     0.22\n",
      "250     0.40\n",
      "300     0.32\n",
      "350     0.42\n",
      "400     0.64\n",
      "450     0.38\n",
      "500     0.44\n",
      "550     0.46\n",
      "600     0.46\n",
      "650     0.34\n",
      "700     0.16\n",
      "750     0.42\n",
      "800     0.40\n",
      "850     0.46\n",
      "900     0.54\n",
      "950     0.42\n",
      "1000    0.34\n",
      "1050    0.46\n",
      "1100    0.20\n",
      "1150    0.46\n",
      "1200    0.14\n",
      "1250    0.40\n",
      "1300    0.16\n",
      "1350    0.36\n",
      "1400    0.16\n",
      "1450    0.46\n",
      "        ... \n",
      "4500    0.14\n",
      "4550    0.42\n",
      "4600    0.22\n",
      "4650    0.36\n",
      "4700    0.42\n",
      "4750    0.36\n",
      "4800    0.26\n",
      "4850    0.46\n",
      "4900    0.54\n",
      "4950    0.40\n",
      "5000    0.52\n",
      "5050    0.40\n",
      "5100    0.32\n",
      "5150    0.40\n",
      "5200    0.28\n",
      "5250    0.40\n",
      "5300    0.70\n",
      "5350    0.36\n",
      "5400    0.40\n",
      "5450    0.38\n",
      "5500    0.36\n",
      "5550    0.42\n",
      "5600    0.36\n",
      "5650    0.42\n",
      "5700    0.18\n",
      "5750    0.42\n",
      "5800    0.74\n",
      "5850    0.34\n",
      "5900    0.80\n",
      "5950    0.36\n",
      "Name: Pass ratio, Length: 120, dtype: float64\n",
      "0       0.148152\n",
      "50      0.183981\n",
      "100     0.149671\n",
      "150     0.095166\n",
      "200     0.175177\n",
      "250     0.169062\n",
      "300     0.195843\n",
      "350     0.147215\n",
      "400     0.114492\n",
      "450     0.194683\n",
      "500     0.260986\n",
      "550     0.156298\n",
      "600     0.039785\n",
      "650     0.212807\n",
      "700     0.041722\n",
      "750     0.115711\n",
      "800     0.034967\n",
      "850     0.165325\n",
      "900     0.076482\n",
      "950     0.141619\n",
      "1000    0.107952\n",
      "1050    0.113061\n",
      "1100    0.097859\n",
      "1150    0.139900\n",
      "1200    0.261399\n",
      "1250    0.139214\n",
      "1300    0.060037\n",
      "1350    0.185271\n",
      "1400    0.060593\n",
      "1450    0.098392\n",
      "          ...   \n",
      "4500    0.173953\n",
      "4550    0.155106\n",
      "4600    0.290564\n",
      "4650    0.117134\n",
      "4700    0.121978\n",
      "4750    0.197036\n",
      "4800    0.264169\n",
      "4850    0.148821\n",
      "4900    0.107735\n",
      "4950    0.119670\n",
      "5000    0.234270\n",
      "5050    0.152221\n",
      "5100    0.168321\n",
      "5150    0.155388\n",
      "5200    0.176091\n",
      "5250    0.171906\n",
      "5300    0.068628\n",
      "5350    0.127893\n",
      "5400    0.130827\n",
      "5450    0.118826\n",
      "5500    0.260084\n",
      "5550    0.141809\n",
      "5600    0.122666\n",
      "5650    0.141500\n",
      "5700    0.172748\n",
      "5750    0.157238\n",
      "5800    0.060437\n",
      "5850    0.179550\n",
      "5900    0.035412\n",
      "5950    0.149172\n",
      "Name: Fail ratio, Length: 120, dtype: float64\n",
      "Fail ratio\n",
      "0       0.14\n",
      "50      0.18\n",
      "100     0.14\n",
      "150     0.10\n",
      "200     0.16\n",
      "250     0.16\n",
      "300     0.20\n",
      "350     0.14\n",
      "400     0.10\n",
      "450     0.20\n",
      "500     0.26\n",
      "550     0.16\n",
      "600     0.04\n",
      "650     0.20\n",
      "700     0.04\n",
      "750     0.10\n",
      "800     0.04\n",
      "850     0.16\n",
      "900     0.08\n",
      "950     0.14\n",
      "1000    0.10\n",
      "1050    0.10\n",
      "1100    0.10\n",
      "1150    0.14\n",
      "1200    0.26\n",
      "1250    0.14\n",
      "1300    0.06\n",
      "1350    0.18\n",
      "1400    0.06\n",
      "1450    0.10\n",
      "        ... \n",
      "4500    0.16\n",
      "4550    0.16\n",
      "4600    0.28\n",
      "4650    0.10\n",
      "4700    0.12\n",
      "4750    0.20\n",
      "4800    0.26\n",
      "4850    0.14\n",
      "4900    0.10\n",
      "4950    0.10\n",
      "5000    0.22\n",
      "5050    0.16\n",
      "5100    0.16\n",
      "5150    0.16\n",
      "5200    0.16\n",
      "5250    0.16\n",
      "5300    0.06\n",
      "5350    0.12\n",
      "5400    0.14\n",
      "5450    0.10\n",
      "5500    0.26\n",
      "5550    0.14\n",
      "5600    0.12\n",
      "5650    0.14\n",
      "5700    0.16\n",
      "5750    0.16\n",
      "5800    0.06\n",
      "5850    0.16\n",
      "5900    0.04\n",
      "5950    0.14\n",
      "Name: Fail ratio, Length: 120, dtype: float64\n"
     ]
    }
   ],
   "source": [
    "from decimal import Decimal\r\n",
    "def submit_result(prediction):\r\n",
    "\tsub = test_data[['Group']]\r\n",
    "\tprob_cols = [i for i in submit.columns if i not in ['Group']]\r\n",
    "\tfor i, f in enumerate(prob_cols):\r\n",
    "\t\tsub[f] = prediction[:, i]\r\n",
    "\tfor i in prob_cols:\r\n",
    "\t\tsub[i] = sub.groupby('Group')[i].transform('mean')\r\n",
    "\tsub = sub.drop_duplicates()\r\n",
    "\tfor i in prob_cols:\r\n",
    "\t    print(sub[i])\r\n",
    "\t    sub[i] = sub[i].apply(lambda x:(x//0.02+1)*0.02 if Decimal(str(x))%Decimal(str(0.02)) > 0.01 else x)\r\n",
    "\t    sub[i] = sub[i].apply(lambda x:(x//0.02)*0.02 if Decimal(str(x))%Decimal(str(0.02)) < 0.01 else x)\r\n",
    "\tsub.to_csv(\"/home/aistudio/work/result.csv\", index=False)\r\n",
    "\r\n",
    "time1 = time.clock()\r\n",
    "prediction = kfold_train('sclf')\r\n",
    "time2 = time.clock()\r\n",
    "print('running time: ', str((time2 - time1)/60))\r\n",
    "submit_result(prediction)"
   ]
  },
  {
   "cell_type": "code",
   "execution_count": 20,
   "metadata": {
    "collapsed": false
   },
   "outputs": [
    {
     "name": "stdout",
     "output_type": "stream",
     "text": [
      "Fitting 5 folds for each of 96 candidates, totalling 480 fits\n",
      "[CV] min_child_weight=1, n_estimators=1000, max_depth=5, colsample_bytree=0.5 \n"
     ]
    },
    {
     "name": "stderr",
     "output_type": "stream",
     "text": [
      "[Parallel(n_jobs=1)]: Using backend SequentialBackend with 1 concurrent workers.\n"
     ]
    },
    {
     "name": "stdout",
     "output_type": "stream",
     "text": [
      "[CV]  min_child_weight=1, n_estimators=1000, max_depth=5, colsample_bytree=0.5, total=  11.4s\n",
      "[CV] min_child_weight=1, n_estimators=1000, max_depth=5, colsample_bytree=0.5 \n"
     ]
    },
    {
     "name": "stderr",
     "output_type": "stream",
     "text": [
      "[Parallel(n_jobs=1)]: Done   1 out of   1 | elapsed:   11.4s remaining:    0.0s\n"
     ]
    },
    {
     "name": "stdout",
     "output_type": "stream",
     "text": [
      "[CV]  min_child_weight=1, n_estimators=1000, max_depth=5, colsample_bytree=0.5, total=  10.9s\n",
      "[CV] min_child_weight=1, n_estimators=1000, max_depth=5, colsample_bytree=0.5 \n",
      "[CV]  min_child_weight=1, n_estimators=1000, max_depth=5, colsample_bytree=0.5, total=  11.0s\n",
      "[CV] min_child_weight=1, n_estimators=1000, max_depth=5, colsample_bytree=0.5 \n",
      "[CV]  min_child_weight=1, n_estimators=1000, max_depth=5, colsample_bytree=0.5, total=  10.9s\n",
      "[CV] min_child_weight=1, n_estimators=1000, max_depth=5, colsample_bytree=0.5 \n",
      "[CV]  min_child_weight=1, n_estimators=1000, max_depth=5, colsample_bytree=0.5, total=  11.0s\n",
      "[CV] min_child_weight=1, n_estimators=2000, max_depth=5, colsample_bytree=0.5 \n",
      "[CV]  min_child_weight=1, n_estimators=2000, max_depth=5, colsample_bytree=0.5, total=  21.9s\n",
      "[CV] min_child_weight=1, n_estimators=2000, max_depth=5, colsample_bytree=0.5 \n",
      "[CV]  min_child_weight=1, n_estimators=2000, max_depth=5, colsample_bytree=0.5, total=  22.1s\n",
      "[CV] min_child_weight=1, n_estimators=2000, max_depth=5, colsample_bytree=0.5 \n",
      "[CV]  min_child_weight=1, n_estimators=2000, max_depth=5, colsample_bytree=0.5, total=  21.6s\n",
      "[CV] min_child_weight=1, n_estimators=2000, max_depth=5, colsample_bytree=0.5 \n",
      "[CV]  min_child_weight=1, n_estimators=2000, max_depth=5, colsample_bytree=0.5, total=  21.6s\n",
      "[CV] min_child_weight=1, n_estimators=2000, max_depth=5, colsample_bytree=0.5 \n",
      "[CV]  min_child_weight=1, n_estimators=2000, max_depth=5, colsample_bytree=0.5, total=  21.8s\n",
      "[CV] min_child_weight=1, n_estimators=3000, max_depth=5, colsample_bytree=0.5 \n",
      "[CV]  min_child_weight=1, n_estimators=3000, max_depth=5, colsample_bytree=0.5, total=  32.7s\n",
      "[CV] min_child_weight=1, n_estimators=3000, max_depth=5, colsample_bytree=0.5 \n",
      "[CV]  min_child_weight=1, n_estimators=3000, max_depth=5, colsample_bytree=0.5, total=  32.3s\n",
      "[CV] min_child_weight=1, n_estimators=3000, max_depth=5, colsample_bytree=0.5 \n",
      "[CV]  min_child_weight=1, n_estimators=3000, max_depth=5, colsample_bytree=0.5, total=  32.2s\n",
      "[CV] min_child_weight=1, n_estimators=3000, max_depth=5, colsample_bytree=0.5 \n",
      "[CV]  min_child_weight=1, n_estimators=3000, max_depth=5, colsample_bytree=0.5, total=  32.4s\n",
      "[CV] min_child_weight=1, n_estimators=3000, max_depth=5, colsample_bytree=0.5 \n",
      "[CV]  min_child_weight=1, n_estimators=3000, max_depth=5, colsample_bytree=0.5, total=  32.4s\n",
      "[CV] min_child_weight=2, n_estimators=1000, max_depth=5, colsample_bytree=0.5 \n",
      "[CV]  min_child_weight=2, n_estimators=1000, max_depth=5, colsample_bytree=0.5, total=  11.0s\n",
      "[CV] min_child_weight=2, n_estimators=1000, max_depth=5, colsample_bytree=0.5 \n",
      "[CV]  min_child_weight=2, n_estimators=1000, max_depth=5, colsample_bytree=0.5, total=  10.8s\n",
      "[CV] min_child_weight=2, n_estimators=1000, max_depth=5, colsample_bytree=0.5 \n",
      "[CV]  min_child_weight=2, n_estimators=1000, max_depth=5, colsample_bytree=0.5, total=  10.9s\n",
      "[CV] min_child_weight=2, n_estimators=1000, max_depth=5, colsample_bytree=0.5 \n",
      "[CV]  min_child_weight=2, n_estimators=1000, max_depth=5, colsample_bytree=0.5, total=  11.0s\n",
      "[CV] min_child_weight=2, n_estimators=1000, max_depth=5, colsample_bytree=0.5 \n",
      "[CV]  min_child_weight=2, n_estimators=1000, max_depth=5, colsample_bytree=0.5, total=  11.0s\n",
      "[CV] min_child_weight=2, n_estimators=2000, max_depth=5, colsample_bytree=0.5 \n",
      "[CV]  min_child_weight=2, n_estimators=2000, max_depth=5, colsample_bytree=0.5, total=  21.7s\n",
      "[CV] min_child_weight=2, n_estimators=2000, max_depth=5, colsample_bytree=0.5 \n",
      "[CV]  min_child_weight=2, n_estimators=2000, max_depth=5, colsample_bytree=0.5, total=  21.7s\n",
      "[CV] min_child_weight=2, n_estimators=2000, max_depth=5, colsample_bytree=0.5 \n",
      "[CV]  min_child_weight=2, n_estimators=2000, max_depth=5, colsample_bytree=0.5, total=  21.8s\n",
      "[CV] min_child_weight=2, n_estimators=2000, max_depth=5, colsample_bytree=0.5 \n",
      "[CV]  min_child_weight=2, n_estimators=2000, max_depth=5, colsample_bytree=0.5, total=  21.6s\n",
      "[CV] min_child_weight=2, n_estimators=2000, max_depth=5, colsample_bytree=0.5 \n",
      "[CV]  min_child_weight=2, n_estimators=2000, max_depth=5, colsample_bytree=0.5, total=  21.7s\n",
      "[CV] min_child_weight=2, n_estimators=3000, max_depth=5, colsample_bytree=0.5 \n",
      "[CV]  min_child_weight=2, n_estimators=3000, max_depth=5, colsample_bytree=0.5, total=  32.3s\n",
      "[CV] min_child_weight=2, n_estimators=3000, max_depth=5, colsample_bytree=0.5 \n",
      "[CV]  min_child_weight=2, n_estimators=3000, max_depth=5, colsample_bytree=0.5, total=  32.4s\n",
      "[CV] min_child_weight=2, n_estimators=3000, max_depth=5, colsample_bytree=0.5 \n",
      "[CV]  min_child_weight=2, n_estimators=3000, max_depth=5, colsample_bytree=0.5, total=  32.1s\n",
      "[CV] min_child_weight=2, n_estimators=3000, max_depth=5, colsample_bytree=0.5 \n",
      "[CV]  min_child_weight=2, n_estimators=3000, max_depth=5, colsample_bytree=0.5, total=  32.2s\n",
      "[CV] min_child_weight=2, n_estimators=3000, max_depth=5, colsample_bytree=0.5 \n",
      "[CV]  min_child_weight=2, n_estimators=3000, max_depth=5, colsample_bytree=0.5, total=  32.0s\n",
      "[CV] min_child_weight=3, n_estimators=1000, max_depth=5, colsample_bytree=0.5 \n",
      "[CV]  min_child_weight=3, n_estimators=1000, max_depth=5, colsample_bytree=0.5, total=  10.9s\n",
      "[CV] min_child_weight=3, n_estimators=1000, max_depth=5, colsample_bytree=0.5 \n",
      "[CV]  min_child_weight=3, n_estimators=1000, max_depth=5, colsample_bytree=0.5, total=  10.8s\n",
      "[CV] min_child_weight=3, n_estimators=1000, max_depth=5, colsample_bytree=0.5 \n",
      "[CV]  min_child_weight=3, n_estimators=1000, max_depth=5, colsample_bytree=0.5, total=  10.9s\n",
      "[CV] min_child_weight=3, n_estimators=1000, max_depth=5, colsample_bytree=0.5 \n",
      "[CV]  min_child_weight=3, n_estimators=1000, max_depth=5, colsample_bytree=0.5, total=  10.8s\n",
      "[CV] min_child_weight=3, n_estimators=1000, max_depth=5, colsample_bytree=0.5 \n",
      "[CV]  min_child_weight=3, n_estimators=1000, max_depth=5, colsample_bytree=0.5, total=  10.9s\n",
      "[CV] min_child_weight=3, n_estimators=2000, max_depth=5, colsample_bytree=0.5 \n",
      "[CV]  min_child_weight=3, n_estimators=2000, max_depth=5, colsample_bytree=0.5, total=  21.4s\n",
      "[CV] min_child_weight=3, n_estimators=2000, max_depth=5, colsample_bytree=0.5 \n",
      "[CV]  min_child_weight=3, n_estimators=2000, max_depth=5, colsample_bytree=0.5, total=  21.4s\n",
      "[CV] min_child_weight=3, n_estimators=2000, max_depth=5, colsample_bytree=0.5 \n",
      "[CV]  min_child_weight=3, n_estimators=2000, max_depth=5, colsample_bytree=0.5, total=  21.3s\n",
      "[CV] min_child_weight=3, n_estimators=2000, max_depth=5, colsample_bytree=0.5 \n",
      "[CV]  min_child_weight=3, n_estimators=2000, max_depth=5, colsample_bytree=0.5, total=  21.4s\n",
      "[CV] min_child_weight=3, n_estimators=2000, max_depth=5, colsample_bytree=0.5 \n",
      "[CV]  min_child_weight=3, n_estimators=2000, max_depth=5, colsample_bytree=0.5, total=  21.4s\n",
      "[CV] min_child_weight=3, n_estimators=3000, max_depth=5, colsample_bytree=0.5 \n",
      "[CV]  min_child_weight=3, n_estimators=3000, max_depth=5, colsample_bytree=0.5, total=  31.7s\n",
      "[CV] min_child_weight=3, n_estimators=3000, max_depth=5, colsample_bytree=0.5 \n",
      "[CV]  min_child_weight=3, n_estimators=3000, max_depth=5, colsample_bytree=0.5, total=  31.9s\n",
      "[CV] min_child_weight=3, n_estimators=3000, max_depth=5, colsample_bytree=0.5 \n",
      "[CV]  min_child_weight=3, n_estimators=3000, max_depth=5, colsample_bytree=0.5, total=  31.8s\n",
      "[CV] min_child_weight=3, n_estimators=3000, max_depth=5, colsample_bytree=0.5 \n",
      "[CV]  min_child_weight=3, n_estimators=3000, max_depth=5, colsample_bytree=0.5, total=  31.8s\n",
      "[CV] min_child_weight=3, n_estimators=3000, max_depth=5, colsample_bytree=0.5 \n",
      "[CV]  min_child_weight=3, n_estimators=3000, max_depth=5, colsample_bytree=0.5, total=  31.8s\n",
      "[CV] min_child_weight=4, n_estimators=1000, max_depth=5, colsample_bytree=0.5 \n",
      "[CV]  min_child_weight=4, n_estimators=1000, max_depth=5, colsample_bytree=0.5, total=  10.9s\n",
      "[CV] min_child_weight=4, n_estimators=1000, max_depth=5, colsample_bytree=0.5 \n",
      "[CV]  min_child_weight=4, n_estimators=1000, max_depth=5, colsample_bytree=0.5, total=  10.8s\n",
      "[CV] min_child_weight=4, n_estimators=1000, max_depth=5, colsample_bytree=0.5 \n",
      "[CV]  min_child_weight=4, n_estimators=1000, max_depth=5, colsample_bytree=0.5, total=  10.8s\n",
      "[CV] min_child_weight=4, n_estimators=1000, max_depth=5, colsample_bytree=0.5 \n",
      "[CV]  min_child_weight=4, n_estimators=1000, max_depth=5, colsample_bytree=0.5, total=  10.8s\n",
      "[CV] min_child_weight=4, n_estimators=1000, max_depth=5, colsample_bytree=0.5 \n",
      "[CV]  min_child_weight=4, n_estimators=1000, max_depth=5, colsample_bytree=0.5, total=  10.9s\n",
      "[CV] min_child_weight=4, n_estimators=2000, max_depth=5, colsample_bytree=0.5 \n",
      "[CV]  min_child_weight=4, n_estimators=2000, max_depth=5, colsample_bytree=0.5, total=  21.6s\n",
      "[CV] min_child_weight=4, n_estimators=2000, max_depth=5, colsample_bytree=0.5 \n",
      "[CV]  min_child_weight=4, n_estimators=2000, max_depth=5, colsample_bytree=0.5, total=  21.4s\n",
      "[CV] min_child_weight=4, n_estimators=2000, max_depth=5, colsample_bytree=0.5 \n",
      "[CV]  min_child_weight=4, n_estimators=2000, max_depth=5, colsample_bytree=0.5, total=  21.3s\n",
      "[CV] min_child_weight=4, n_estimators=2000, max_depth=5, colsample_bytree=0.5 \n",
      "[CV]  min_child_weight=4, n_estimators=2000, max_depth=5, colsample_bytree=0.5, total=  21.2s\n",
      "[CV] min_child_weight=4, n_estimators=2000, max_depth=5, colsample_bytree=0.5 \n",
      "[CV]  min_child_weight=4, n_estimators=2000, max_depth=5, colsample_bytree=0.5, total=  21.5s\n",
      "[CV] min_child_weight=4, n_estimators=3000, max_depth=5, colsample_bytree=0.5 \n",
      "[CV]  min_child_weight=4, n_estimators=3000, max_depth=5, colsample_bytree=0.5, total=  31.7s\n",
      "[CV] min_child_weight=4, n_estimators=3000, max_depth=5, colsample_bytree=0.5 \n",
      "[CV]  min_child_weight=4, n_estimators=3000, max_depth=5, colsample_bytree=0.5, total=  31.5s\n",
      "[CV] min_child_weight=4, n_estimators=3000, max_depth=5, colsample_bytree=0.5 \n",
      "[CV]  min_child_weight=4, n_estimators=3000, max_depth=5, colsample_bytree=0.5, total=  31.8s\n",
      "[CV] min_child_weight=4, n_estimators=3000, max_depth=5, colsample_bytree=0.5 \n",
      "[CV]  min_child_weight=4, n_estimators=3000, max_depth=5, colsample_bytree=0.5, total=  31.5s\n",
      "[CV] min_child_weight=4, n_estimators=3000, max_depth=5, colsample_bytree=0.5 \n",
      "[CV]  min_child_weight=4, n_estimators=3000, max_depth=5, colsample_bytree=0.5, total=  31.8s\n",
      "[CV] min_child_weight=1, n_estimators=1000, max_depth=7, colsample_bytree=0.5 \n",
      "[CV]  min_child_weight=1, n_estimators=1000, max_depth=7, colsample_bytree=0.5, total=  15.5s\n",
      "[CV] min_child_weight=1, n_estimators=1000, max_depth=7, colsample_bytree=0.5 \n",
      "[CV]  min_child_weight=1, n_estimators=1000, max_depth=7, colsample_bytree=0.5, total=  15.3s\n",
      "[CV] min_child_weight=1, n_estimators=1000, max_depth=7, colsample_bytree=0.5 \n",
      "[CV]  min_child_weight=1, n_estimators=1000, max_depth=7, colsample_bytree=0.5, total=  15.4s\n",
      "[CV] min_child_weight=1, n_estimators=1000, max_depth=7, colsample_bytree=0.5 \n",
      "[CV]  min_child_weight=1, n_estimators=1000, max_depth=7, colsample_bytree=0.5, total=  15.4s\n",
      "[CV] min_child_weight=1, n_estimators=1000, max_depth=7, colsample_bytree=0.5 \n",
      "[CV]  min_child_weight=1, n_estimators=1000, max_depth=7, colsample_bytree=0.5, total=  15.5s\n",
      "[CV] min_child_weight=1, n_estimators=2000, max_depth=7, colsample_bytree=0.5 \n",
      "[CV]  min_child_weight=1, n_estimators=2000, max_depth=7, colsample_bytree=0.5, total=  30.6s\n",
      "[CV] min_child_weight=1, n_estimators=2000, max_depth=7, colsample_bytree=0.5 \n",
      "[CV]  min_child_weight=1, n_estimators=2000, max_depth=7, colsample_bytree=0.5, total=  30.2s\n",
      "[CV] min_child_weight=1, n_estimators=2000, max_depth=7, colsample_bytree=0.5 \n",
      "[CV]  min_child_weight=1, n_estimators=2000, max_depth=7, colsample_bytree=0.5, total=  30.6s\n",
      "[CV] min_child_weight=1, n_estimators=2000, max_depth=7, colsample_bytree=0.5 \n",
      "[CV]  min_child_weight=1, n_estimators=2000, max_depth=7, colsample_bytree=0.5, total=  30.3s\n",
      "[CV] min_child_weight=1, n_estimators=2000, max_depth=7, colsample_bytree=0.5 \n",
      "[CV]  min_child_weight=1, n_estimators=2000, max_depth=7, colsample_bytree=0.5, total=  30.3s\n",
      "[CV] min_child_weight=1, n_estimators=3000, max_depth=7, colsample_bytree=0.5 \n",
      "[CV]  min_child_weight=1, n_estimators=3000, max_depth=7, colsample_bytree=0.5, total=  44.9s\n",
      "[CV] min_child_weight=1, n_estimators=3000, max_depth=7, colsample_bytree=0.5 \n",
      "[CV]  min_child_weight=1, n_estimators=3000, max_depth=7, colsample_bytree=0.5, total=  45.0s\n",
      "[CV] min_child_weight=1, n_estimators=3000, max_depth=7, colsample_bytree=0.5 \n",
      "[CV]  min_child_weight=1, n_estimators=3000, max_depth=7, colsample_bytree=0.5, total=  44.7s\n",
      "[CV] min_child_weight=1, n_estimators=3000, max_depth=7, colsample_bytree=0.5 \n",
      "[CV]  min_child_weight=1, n_estimators=3000, max_depth=7, colsample_bytree=0.5, total=  45.1s\n",
      "[CV] min_child_weight=1, n_estimators=3000, max_depth=7, colsample_bytree=0.5 \n",
      "[CV]  min_child_weight=1, n_estimators=3000, max_depth=7, colsample_bytree=0.5, total=  45.0s\n",
      "[CV] min_child_weight=2, n_estimators=1000, max_depth=7, colsample_bytree=0.5 \n",
      "[CV]  min_child_weight=2, n_estimators=1000, max_depth=7, colsample_bytree=0.5, total=  15.4s\n",
      "[CV] min_child_weight=2, n_estimators=1000, max_depth=7, colsample_bytree=0.5 \n",
      "[CV]  min_child_weight=2, n_estimators=1000, max_depth=7, colsample_bytree=0.5, total=  15.3s\n",
      "[CV] min_child_weight=2, n_estimators=1000, max_depth=7, colsample_bytree=0.5 \n",
      "[CV]  min_child_weight=2, n_estimators=1000, max_depth=7, colsample_bytree=0.5, total=  15.3s\n",
      "[CV] min_child_weight=2, n_estimators=1000, max_depth=7, colsample_bytree=0.5 \n",
      "[CV]  min_child_weight=2, n_estimators=1000, max_depth=7, colsample_bytree=0.5, total=  15.4s\n",
      "[CV] min_child_weight=2, n_estimators=1000, max_depth=7, colsample_bytree=0.5 \n",
      "[CV]  min_child_weight=2, n_estimators=1000, max_depth=7, colsample_bytree=0.5, total=  15.5s\n",
      "[CV] min_child_weight=2, n_estimators=2000, max_depth=7, colsample_bytree=0.5 \n",
      "[CV]  min_child_weight=2, n_estimators=2000, max_depth=7, colsample_bytree=0.5, total=  29.9s\n",
      "[CV] min_child_weight=2, n_estimators=2000, max_depth=7, colsample_bytree=0.5 \n",
      "[CV]  min_child_weight=2, n_estimators=2000, max_depth=7, colsample_bytree=0.5, total=  29.7s\n",
      "[CV] min_child_weight=2, n_estimators=2000, max_depth=7, colsample_bytree=0.5 \n",
      "[CV]  min_child_weight=2, n_estimators=2000, max_depth=7, colsample_bytree=0.5, total=  29.7s\n",
      "[CV] min_child_weight=2, n_estimators=2000, max_depth=7, colsample_bytree=0.5 \n",
      "[CV]  min_child_weight=2, n_estimators=2000, max_depth=7, colsample_bytree=0.5, total=  29.7s\n",
      "[CV] min_child_weight=2, n_estimators=2000, max_depth=7, colsample_bytree=0.5 \n",
      "[CV]  min_child_weight=2, n_estimators=2000, max_depth=7, colsample_bytree=0.5, total=  29.8s\n",
      "[CV] min_child_weight=2, n_estimators=3000, max_depth=7, colsample_bytree=0.5 \n",
      "[CV]  min_child_weight=2, n_estimators=3000, max_depth=7, colsample_bytree=0.5, total=  44.4s\n",
      "[CV] min_child_weight=2, n_estimators=3000, max_depth=7, colsample_bytree=0.5 \n",
      "[CV]  min_child_weight=2, n_estimators=3000, max_depth=7, colsample_bytree=0.5, total=  44.2s\n",
      "[CV] min_child_weight=2, n_estimators=3000, max_depth=7, colsample_bytree=0.5 \n",
      "[CV]  min_child_weight=2, n_estimators=3000, max_depth=7, colsample_bytree=0.5, total=  44.5s\n",
      "[CV] min_child_weight=2, n_estimators=3000, max_depth=7, colsample_bytree=0.5 \n",
      "[CV]  min_child_weight=2, n_estimators=3000, max_depth=7, colsample_bytree=0.5, total=  44.1s\n",
      "[CV] min_child_weight=2, n_estimators=3000, max_depth=7, colsample_bytree=0.5 \n",
      "[CV]  min_child_weight=2, n_estimators=3000, max_depth=7, colsample_bytree=0.5, total=  44.2s\n",
      "[CV] min_child_weight=3, n_estimators=1000, max_depth=7, colsample_bytree=0.5 \n",
      "[CV]  min_child_weight=3, n_estimators=1000, max_depth=7, colsample_bytree=0.5, total=  15.2s\n",
      "[CV] min_child_weight=3, n_estimators=1000, max_depth=7, colsample_bytree=0.5 \n",
      "[CV]  min_child_weight=3, n_estimators=1000, max_depth=7, colsample_bytree=0.5, total=  15.4s\n",
      "[CV] min_child_weight=3, n_estimators=1000, max_depth=7, colsample_bytree=0.5 \n",
      "[CV]  min_child_weight=3, n_estimators=1000, max_depth=7, colsample_bytree=0.5, total=  15.2s\n",
      "[CV] min_child_weight=3, n_estimators=1000, max_depth=7, colsample_bytree=0.5 \n",
      "[CV]  min_child_weight=3, n_estimators=1000, max_depth=7, colsample_bytree=0.5, total=  15.2s\n",
      "[CV] min_child_weight=3, n_estimators=1000, max_depth=7, colsample_bytree=0.5 \n",
      "[CV]  min_child_weight=3, n_estimators=1000, max_depth=7, colsample_bytree=0.5, total=  15.3s\n",
      "[CV] min_child_weight=3, n_estimators=2000, max_depth=7, colsample_bytree=0.5 \n",
      "[CV]  min_child_weight=3, n_estimators=2000, max_depth=7, colsample_bytree=0.5, total=  29.8s\n",
      "[CV] min_child_weight=3, n_estimators=2000, max_depth=7, colsample_bytree=0.5 \n",
      "[CV]  min_child_weight=3, n_estimators=2000, max_depth=7, colsample_bytree=0.5, total=  29.5s\n",
      "[CV] min_child_weight=3, n_estimators=2000, max_depth=7, colsample_bytree=0.5 \n",
      "[CV]  min_child_weight=3, n_estimators=2000, max_depth=7, colsample_bytree=0.5, total=  29.5s\n",
      "[CV] min_child_weight=3, n_estimators=2000, max_depth=7, colsample_bytree=0.5 \n",
      "[CV]  min_child_weight=3, n_estimators=2000, max_depth=7, colsample_bytree=0.5, total=  29.3s\n",
      "[CV] min_child_weight=3, n_estimators=2000, max_depth=7, colsample_bytree=0.5 \n",
      "[CV]  min_child_weight=3, n_estimators=2000, max_depth=7, colsample_bytree=0.5, total=  29.4s\n",
      "[CV] min_child_weight=3, n_estimators=3000, max_depth=7, colsample_bytree=0.5 \n",
      "[CV]  min_child_weight=3, n_estimators=3000, max_depth=7, colsample_bytree=0.5, total=  43.6s\n",
      "[CV] min_child_weight=3, n_estimators=3000, max_depth=7, colsample_bytree=0.5 \n",
      "[CV]  min_child_weight=3, n_estimators=3000, max_depth=7, colsample_bytree=0.5, total=  43.6s\n",
      "[CV] min_child_weight=3, n_estimators=3000, max_depth=7, colsample_bytree=0.5 \n",
      "[CV]  min_child_weight=3, n_estimators=3000, max_depth=7, colsample_bytree=0.5, total=  43.3s\n",
      "[CV] min_child_weight=3, n_estimators=3000, max_depth=7, colsample_bytree=0.5 \n",
      "[CV]  min_child_weight=3, n_estimators=3000, max_depth=7, colsample_bytree=0.5, total=  43.1s\n",
      "[CV] min_child_weight=3, n_estimators=3000, max_depth=7, colsample_bytree=0.5 \n",
      "[CV]  min_child_weight=3, n_estimators=3000, max_depth=7, colsample_bytree=0.5, total=  43.6s\n",
      "[CV] min_child_weight=4, n_estimators=1000, max_depth=7, colsample_bytree=0.5 \n",
      "[CV]  min_child_weight=4, n_estimators=1000, max_depth=7, colsample_bytree=0.5, total=  14.9s\n",
      "[CV] min_child_weight=4, n_estimators=1000, max_depth=7, colsample_bytree=0.5 \n",
      "[CV]  min_child_weight=4, n_estimators=1000, max_depth=7, colsample_bytree=0.5, total=  14.9s\n",
      "[CV] min_child_weight=4, n_estimators=1000, max_depth=7, colsample_bytree=0.5 \n",
      "[CV]  min_child_weight=4, n_estimators=1000, max_depth=7, colsample_bytree=0.5, total=  15.0s\n",
      "[CV] min_child_weight=4, n_estimators=1000, max_depth=7, colsample_bytree=0.5 \n",
      "[CV]  min_child_weight=4, n_estimators=1000, max_depth=7, colsample_bytree=0.5, total=  15.0s\n",
      "[CV] min_child_weight=4, n_estimators=1000, max_depth=7, colsample_bytree=0.5 \n",
      "[CV]  min_child_weight=4, n_estimators=1000, max_depth=7, colsample_bytree=0.5, total=  15.2s\n",
      "[CV] min_child_weight=4, n_estimators=2000, max_depth=7, colsample_bytree=0.5 \n",
      "[CV]  min_child_weight=4, n_estimators=2000, max_depth=7, colsample_bytree=0.5, total=  29.0s\n",
      "[CV] min_child_weight=4, n_estimators=2000, max_depth=7, colsample_bytree=0.5 \n",
      "[CV]  min_child_weight=4, n_estimators=2000, max_depth=7, colsample_bytree=0.5, total=  29.1s\n",
      "[CV] min_child_weight=4, n_estimators=2000, max_depth=7, colsample_bytree=0.5 \n",
      "[CV]  min_child_weight=4, n_estimators=2000, max_depth=7, colsample_bytree=0.5, total=  29.2s\n",
      "[CV] min_child_weight=4, n_estimators=2000, max_depth=7, colsample_bytree=0.5 \n",
      "[CV]  min_child_weight=4, n_estimators=2000, max_depth=7, colsample_bytree=0.5, total=  28.9s\n",
      "[CV] min_child_weight=4, n_estimators=2000, max_depth=7, colsample_bytree=0.5 \n",
      "[CV]  min_child_weight=4, n_estimators=2000, max_depth=7, colsample_bytree=0.5, total=  29.5s\n",
      "[CV] min_child_weight=4, n_estimators=3000, max_depth=7, colsample_bytree=0.5 \n",
      "[CV]  min_child_weight=4, n_estimators=3000, max_depth=7, colsample_bytree=0.5, total=  43.1s\n",
      "[CV] min_child_weight=4, n_estimators=3000, max_depth=7, colsample_bytree=0.5 \n",
      "[CV]  min_child_weight=4, n_estimators=3000, max_depth=7, colsample_bytree=0.5, total=  42.8s\n",
      "[CV] min_child_weight=4, n_estimators=3000, max_depth=7, colsample_bytree=0.5 \n",
      "[CV]  min_child_weight=4, n_estimators=3000, max_depth=7, colsample_bytree=0.5, total=  43.1s\n",
      "[CV] min_child_weight=4, n_estimators=3000, max_depth=7, colsample_bytree=0.5 \n",
      "[CV]  min_child_weight=4, n_estimators=3000, max_depth=7, colsample_bytree=0.5, total=  42.9s\n",
      "[CV] min_child_weight=4, n_estimators=3000, max_depth=7, colsample_bytree=0.5 \n",
      "[CV]  min_child_weight=4, n_estimators=3000, max_depth=7, colsample_bytree=0.5, total=  43.5s\n",
      "[CV] min_child_weight=1, n_estimators=1000, max_depth=9, colsample_bytree=0.5 \n",
      "[CV]  min_child_weight=1, n_estimators=1000, max_depth=9, colsample_bytree=0.5, total=  20.3s\n",
      "[CV] min_child_weight=1, n_estimators=1000, max_depth=9, colsample_bytree=0.5 \n",
      "[CV]  min_child_weight=1, n_estimators=1000, max_depth=9, colsample_bytree=0.5, total=  20.1s\n",
      "[CV] min_child_weight=1, n_estimators=1000, max_depth=9, colsample_bytree=0.5 \n",
      "[CV]  min_child_weight=1, n_estimators=1000, max_depth=9, colsample_bytree=0.5, total=  20.3s\n",
      "[CV] min_child_weight=1, n_estimators=1000, max_depth=9, colsample_bytree=0.5 \n",
      "[CV]  min_child_weight=1, n_estimators=1000, max_depth=9, colsample_bytree=0.5, total=  20.3s\n",
      "[CV] min_child_weight=1, n_estimators=1000, max_depth=9, colsample_bytree=0.5 \n",
      "[CV]  min_child_weight=1, n_estimators=1000, max_depth=9, colsample_bytree=0.5, total=  20.4s\n",
      "[CV] min_child_weight=1, n_estimators=2000, max_depth=9, colsample_bytree=0.5 \n",
      "[CV]  min_child_weight=1, n_estimators=2000, max_depth=9, colsample_bytree=0.5, total=  38.9s\n",
      "[CV] min_child_weight=1, n_estimators=2000, max_depth=9, colsample_bytree=0.5 \n",
      "[CV]  min_child_weight=1, n_estimators=2000, max_depth=9, colsample_bytree=0.5, total=  39.5s\n",
      "[CV] min_child_weight=1, n_estimators=2000, max_depth=9, colsample_bytree=0.5 \n",
      "[CV]  min_child_weight=1, n_estimators=2000, max_depth=9, colsample_bytree=0.5, total=  39.2s\n",
      "[CV] min_child_weight=1, n_estimators=2000, max_depth=9, colsample_bytree=0.5 \n",
      "[CV]  min_child_weight=1, n_estimators=2000, max_depth=9, colsample_bytree=0.5, total=  38.7s\n",
      "[CV] min_child_weight=1, n_estimators=2000, max_depth=9, colsample_bytree=0.5 \n",
      "[CV]  min_child_weight=1, n_estimators=2000, max_depth=9, colsample_bytree=0.5, total=  39.1s\n",
      "[CV] min_child_weight=1, n_estimators=3000, max_depth=9, colsample_bytree=0.5 \n",
      "[CV]  min_child_weight=1, n_estimators=3000, max_depth=9, colsample_bytree=0.5, total=  58.5s\n",
      "[CV] min_child_weight=1, n_estimators=3000, max_depth=9, colsample_bytree=0.5 \n",
      "[CV]  min_child_weight=1, n_estimators=3000, max_depth=9, colsample_bytree=0.5, total=  58.2s\n",
      "[CV] min_child_weight=1, n_estimators=3000, max_depth=9, colsample_bytree=0.5 \n",
      "[CV]  min_child_weight=1, n_estimators=3000, max_depth=9, colsample_bytree=0.5, total=  58.5s\n",
      "[CV] min_child_weight=1, n_estimators=3000, max_depth=9, colsample_bytree=0.5 \n",
      "[CV]  min_child_weight=1, n_estimators=3000, max_depth=9, colsample_bytree=0.5, total=  58.1s\n",
      "[CV] min_child_weight=1, n_estimators=3000, max_depth=9, colsample_bytree=0.5 \n",
      "[CV]  min_child_weight=1, n_estimators=3000, max_depth=9, colsample_bytree=0.5, total=  58.3s\n",
      "[CV] min_child_weight=2, n_estimators=1000, max_depth=9, colsample_bytree=0.5 \n",
      "[CV]  min_child_weight=2, n_estimators=1000, max_depth=9, colsample_bytree=0.5, total=  20.0s\n",
      "[CV] min_child_weight=2, n_estimators=1000, max_depth=9, colsample_bytree=0.5 \n",
      "[CV]  min_child_weight=2, n_estimators=1000, max_depth=9, colsample_bytree=0.5, total=  20.3s\n",
      "[CV] min_child_weight=2, n_estimators=1000, max_depth=9, colsample_bytree=0.5 \n",
      "[CV]  min_child_weight=2, n_estimators=1000, max_depth=9, colsample_bytree=0.5, total=  20.2s\n",
      "[CV] min_child_weight=2, n_estimators=1000, max_depth=9, colsample_bytree=0.5 \n",
      "[CV]  min_child_weight=2, n_estimators=1000, max_depth=9, colsample_bytree=0.5, total=  20.1s\n",
      "[CV] min_child_weight=2, n_estimators=1000, max_depth=9, colsample_bytree=0.5 \n",
      "[CV]  min_child_weight=2, n_estimators=1000, max_depth=9, colsample_bytree=0.5, total=  20.2s\n",
      "[CV] min_child_weight=2, n_estimators=2000, max_depth=9, colsample_bytree=0.5 \n",
      "[CV]  min_child_weight=2, n_estimators=2000, max_depth=9, colsample_bytree=0.5, total=  38.2s\n",
      "[CV] min_child_weight=2, n_estimators=2000, max_depth=9, colsample_bytree=0.5 \n",
      "[CV]  min_child_weight=2, n_estimators=2000, max_depth=9, colsample_bytree=0.5, total=  37.8s\n",
      "[CV] min_child_weight=2, n_estimators=2000, max_depth=9, colsample_bytree=0.5 \n",
      "[CV]  min_child_weight=2, n_estimators=2000, max_depth=9, colsample_bytree=0.5, total=  38.2s\n",
      "[CV] min_child_weight=2, n_estimators=2000, max_depth=9, colsample_bytree=0.5 \n",
      "[CV]  min_child_weight=2, n_estimators=2000, max_depth=9, colsample_bytree=0.5, total=  37.5s\n",
      "[CV] min_child_weight=2, n_estimators=2000, max_depth=9, colsample_bytree=0.5 \n",
      "[CV]  min_child_weight=2, n_estimators=2000, max_depth=9, colsample_bytree=0.5, total=  37.7s\n",
      "[CV] min_child_weight=2, n_estimators=3000, max_depth=9, colsample_bytree=0.5 \n",
      "[CV]  min_child_weight=2, n_estimators=3000, max_depth=9, colsample_bytree=0.5, total=  55.7s\n",
      "[CV] min_child_weight=2, n_estimators=3000, max_depth=9, colsample_bytree=0.5 \n",
      "[CV]  min_child_weight=2, n_estimators=3000, max_depth=9, colsample_bytree=0.5, total=  56.3s\n",
      "[CV] min_child_weight=2, n_estimators=3000, max_depth=9, colsample_bytree=0.5 \n",
      "[CV]  min_child_weight=2, n_estimators=3000, max_depth=9, colsample_bytree=0.5, total=  56.9s\n",
      "[CV] min_child_weight=2, n_estimators=3000, max_depth=9, colsample_bytree=0.5 \n",
      "[CV]  min_child_weight=2, n_estimators=3000, max_depth=9, colsample_bytree=0.5, total=  56.2s\n",
      "[CV] min_child_weight=2, n_estimators=3000, max_depth=9, colsample_bytree=0.5 \n",
      "[CV]  min_child_weight=2, n_estimators=3000, max_depth=9, colsample_bytree=0.5, total=  56.0s\n",
      "[CV] min_child_weight=3, n_estimators=1000, max_depth=9, colsample_bytree=0.5 \n",
      "[CV]  min_child_weight=3, n_estimators=1000, max_depth=9, colsample_bytree=0.5, total=  19.6s\n",
      "[CV] min_child_weight=3, n_estimators=1000, max_depth=9, colsample_bytree=0.5 \n",
      "[CV]  min_child_weight=3, n_estimators=1000, max_depth=9, colsample_bytree=0.5, total=  19.6s\n",
      "[CV] min_child_weight=3, n_estimators=1000, max_depth=9, colsample_bytree=0.5 \n",
      "[CV]  min_child_weight=3, n_estimators=1000, max_depth=9, colsample_bytree=0.5, total=  19.6s\n",
      "[CV] min_child_weight=3, n_estimators=1000, max_depth=9, colsample_bytree=0.5 \n",
      "[CV]  min_child_weight=3, n_estimators=1000, max_depth=9, colsample_bytree=0.5, total=  19.6s\n",
      "[CV] min_child_weight=3, n_estimators=1000, max_depth=9, colsample_bytree=0.5 \n",
      "[CV]  min_child_weight=3, n_estimators=1000, max_depth=9, colsample_bytree=0.5, total=  19.6s\n",
      "[CV] min_child_weight=3, n_estimators=2000, max_depth=9, colsample_bytree=0.5 \n",
      "[CV]  min_child_weight=3, n_estimators=2000, max_depth=9, colsample_bytree=0.5, total=  37.1s\n",
      "[CV] min_child_weight=3, n_estimators=2000, max_depth=9, colsample_bytree=0.5 \n",
      "[CV]  min_child_weight=3, n_estimators=2000, max_depth=9, colsample_bytree=0.5, total=  37.3s\n",
      "[CV] min_child_weight=3, n_estimators=2000, max_depth=9, colsample_bytree=0.5 \n",
      "[CV]  min_child_weight=3, n_estimators=2000, max_depth=9, colsample_bytree=0.5, total=  37.2s\n",
      "[CV] min_child_weight=3, n_estimators=2000, max_depth=9, colsample_bytree=0.5 \n",
      "[CV]  min_child_weight=3, n_estimators=2000, max_depth=9, colsample_bytree=0.5, total=  36.9s\n",
      "[CV] min_child_weight=3, n_estimators=2000, max_depth=9, colsample_bytree=0.5 \n",
      "[CV]  min_child_weight=3, n_estimators=2000, max_depth=9, colsample_bytree=0.5, total=  37.4s\n",
      "[CV] min_child_weight=3, n_estimators=3000, max_depth=9, colsample_bytree=0.5 \n",
      "[CV]  min_child_weight=3, n_estimators=3000, max_depth=9, colsample_bytree=0.5, total=  54.9s\n",
      "[CV] min_child_weight=3, n_estimators=3000, max_depth=9, colsample_bytree=0.5 \n",
      "[CV]  min_child_weight=3, n_estimators=3000, max_depth=9, colsample_bytree=0.5, total=  54.7s\n",
      "[CV] min_child_weight=3, n_estimators=3000, max_depth=9, colsample_bytree=0.5 \n",
      "[CV]  min_child_weight=3, n_estimators=3000, max_depth=9, colsample_bytree=0.5, total=  54.9s\n",
      "[CV] min_child_weight=3, n_estimators=3000, max_depth=9, colsample_bytree=0.5 \n",
      "[CV]  min_child_weight=3, n_estimators=3000, max_depth=9, colsample_bytree=0.5, total=  54.3s\n",
      "[CV] min_child_weight=3, n_estimators=3000, max_depth=9, colsample_bytree=0.5 \n",
      "[CV]  min_child_weight=3, n_estimators=3000, max_depth=9, colsample_bytree=0.5, total=  55.3s\n",
      "[CV] min_child_weight=4, n_estimators=1000, max_depth=9, colsample_bytree=0.5 \n",
      "[CV]  min_child_weight=4, n_estimators=1000, max_depth=9, colsample_bytree=0.5, total=  19.3s\n",
      "[CV] min_child_weight=4, n_estimators=1000, max_depth=9, colsample_bytree=0.5 \n",
      "[CV]  min_child_weight=4, n_estimators=1000, max_depth=9, colsample_bytree=0.5, total=  19.1s\n",
      "[CV] min_child_weight=4, n_estimators=1000, max_depth=9, colsample_bytree=0.5 \n",
      "[CV]  min_child_weight=4, n_estimators=1000, max_depth=9, colsample_bytree=0.5, total=  19.4s\n",
      "[CV] min_child_weight=4, n_estimators=1000, max_depth=9, colsample_bytree=0.5 \n",
      "[CV]  min_child_weight=4, n_estimators=1000, max_depth=9, colsample_bytree=0.5, total=  19.4s\n",
      "[CV] min_child_weight=4, n_estimators=1000, max_depth=9, colsample_bytree=0.5 \n",
      "[CV]  min_child_weight=4, n_estimators=1000, max_depth=9, colsample_bytree=0.5, total=  19.6s\n",
      "[CV] min_child_weight=4, n_estimators=2000, max_depth=9, colsample_bytree=0.5 \n",
      "[CV]  min_child_weight=4, n_estimators=2000, max_depth=9, colsample_bytree=0.5, total=  36.8s\n",
      "[CV] min_child_weight=4, n_estimators=2000, max_depth=9, colsample_bytree=0.5 \n",
      "[CV]  min_child_weight=4, n_estimators=2000, max_depth=9, colsample_bytree=0.5, total=  36.7s\n",
      "[CV] min_child_weight=4, n_estimators=2000, max_depth=9, colsample_bytree=0.5 \n",
      "[CV]  min_child_weight=4, n_estimators=2000, max_depth=9, colsample_bytree=0.5, total=  36.7s\n",
      "[CV] min_child_weight=4, n_estimators=2000, max_depth=9, colsample_bytree=0.5 \n",
      "[CV]  min_child_weight=4, n_estimators=2000, max_depth=9, colsample_bytree=0.5, total=  36.4s\n",
      "[CV] min_child_weight=4, n_estimators=2000, max_depth=9, colsample_bytree=0.5 \n",
      "[CV]  min_child_weight=4, n_estimators=2000, max_depth=9, colsample_bytree=0.5, total=  37.1s\n",
      "[CV] min_child_weight=4, n_estimators=3000, max_depth=9, colsample_bytree=0.5 \n",
      "[CV]  min_child_weight=4, n_estimators=3000, max_depth=9, colsample_bytree=0.5, total=  54.1s\n",
      "[CV] min_child_weight=4, n_estimators=3000, max_depth=9, colsample_bytree=0.5 \n",
      "[CV]  min_child_weight=4, n_estimators=3000, max_depth=9, colsample_bytree=0.5, total=  54.0s\n",
      "[CV] min_child_weight=4, n_estimators=3000, max_depth=9, colsample_bytree=0.5 \n",
      "[CV]  min_child_weight=4, n_estimators=3000, max_depth=9, colsample_bytree=0.5, total=  55.0s\n",
      "[CV] min_child_weight=4, n_estimators=3000, max_depth=9, colsample_bytree=0.5 \n",
      "[CV]  min_child_weight=4, n_estimators=3000, max_depth=9, colsample_bytree=0.5, total=  53.9s\n",
      "[CV] min_child_weight=4, n_estimators=3000, max_depth=9, colsample_bytree=0.5 \n",
      "[CV]  min_child_weight=4, n_estimators=3000, max_depth=9, colsample_bytree=0.5, total=  55.2s\n",
      "[CV] min_child_weight=1, n_estimators=1000, max_depth=11, colsample_bytree=0.5 \n",
      "[CV]  min_child_weight=1, n_estimators=1000, max_depth=11, colsample_bytree=0.5, total=  25.3s\n",
      "[CV] min_child_weight=1, n_estimators=1000, max_depth=11, colsample_bytree=0.5 \n",
      "[CV]  min_child_weight=1, n_estimators=1000, max_depth=11, colsample_bytree=0.5, total=  25.3s\n",
      "[CV] min_child_weight=1, n_estimators=1000, max_depth=11, colsample_bytree=0.5 \n",
      "[CV]  min_child_weight=1, n_estimators=1000, max_depth=11, colsample_bytree=0.5, total=  25.4s\n",
      "[CV] min_child_weight=1, n_estimators=1000, max_depth=11, colsample_bytree=0.5 \n",
      "[CV]  min_child_weight=1, n_estimators=1000, max_depth=11, colsample_bytree=0.5, total=  25.1s\n",
      "[CV] min_child_weight=1, n_estimators=1000, max_depth=11, colsample_bytree=0.5 \n",
      "[CV]  min_child_weight=1, n_estimators=1000, max_depth=11, colsample_bytree=0.5, total=  26.0s\n",
      "[CV] min_child_weight=1, n_estimators=2000, max_depth=11, colsample_bytree=0.5 \n",
      "[CV]  min_child_weight=1, n_estimators=2000, max_depth=11, colsample_bytree=0.5, total=  47.9s\n",
      "[CV] min_child_weight=1, n_estimators=2000, max_depth=11, colsample_bytree=0.5 \n",
      "[CV]  min_child_weight=1, n_estimators=2000, max_depth=11, colsample_bytree=0.5, total=  48.0s\n",
      "[CV] min_child_weight=1, n_estimators=2000, max_depth=11, colsample_bytree=0.5 \n",
      "[CV]  min_child_weight=1, n_estimators=2000, max_depth=11, colsample_bytree=0.5, total=  48.4s\n",
      "[CV] min_child_weight=1, n_estimators=2000, max_depth=11, colsample_bytree=0.5 \n",
      "[CV]  min_child_weight=1, n_estimators=2000, max_depth=11, colsample_bytree=0.5, total=  47.8s\n",
      "[CV] min_child_weight=1, n_estimators=2000, max_depth=11, colsample_bytree=0.5 \n",
      "[CV]  min_child_weight=1, n_estimators=2000, max_depth=11, colsample_bytree=0.5, total=  47.7s\n",
      "[CV] min_child_weight=1, n_estimators=3000, max_depth=11, colsample_bytree=0.5 \n",
      "[CV]  min_child_weight=1, n_estimators=3000, max_depth=11, colsample_bytree=0.5, total= 1.2min\n",
      "[CV] min_child_weight=1, n_estimators=3000, max_depth=11, colsample_bytree=0.5 \n",
      "[CV]  min_child_weight=1, n_estimators=3000, max_depth=11, colsample_bytree=0.5, total= 1.2min\n",
      "[CV] min_child_weight=1, n_estimators=3000, max_depth=11, colsample_bytree=0.5 \n",
      "[CV]  min_child_weight=1, n_estimators=3000, max_depth=11, colsample_bytree=0.5, total= 1.2min\n",
      "[CV] min_child_weight=1, n_estimators=3000, max_depth=11, colsample_bytree=0.5 \n",
      "[CV]  min_child_weight=1, n_estimators=3000, max_depth=11, colsample_bytree=0.5, total= 1.2min\n",
      "[CV] min_child_weight=1, n_estimators=3000, max_depth=11, colsample_bytree=0.5 \n",
      "[CV]  min_child_weight=1, n_estimators=3000, max_depth=11, colsample_bytree=0.5, total= 1.2min\n",
      "[CV] min_child_weight=2, n_estimators=1000, max_depth=11, colsample_bytree=0.5 \n",
      "[CV]  min_child_weight=2, n_estimators=1000, max_depth=11, colsample_bytree=0.5, total=  24.5s\n",
      "[CV] min_child_weight=2, n_estimators=1000, max_depth=11, colsample_bytree=0.5 \n",
      "[CV]  min_child_weight=2, n_estimators=1000, max_depth=11, colsample_bytree=0.5, total=  24.5s\n",
      "[CV] min_child_weight=2, n_estimators=1000, max_depth=11, colsample_bytree=0.5 \n",
      "[CV]  min_child_weight=2, n_estimators=1000, max_depth=11, colsample_bytree=0.5, total=  25.0s\n",
      "[CV] min_child_weight=2, n_estimators=1000, max_depth=11, colsample_bytree=0.5 \n",
      "[CV]  min_child_weight=2, n_estimators=1000, max_depth=11, colsample_bytree=0.5, total=  24.4s\n",
      "[CV] min_child_weight=2, n_estimators=1000, max_depth=11, colsample_bytree=0.5 \n",
      "[CV]  min_child_weight=2, n_estimators=1000, max_depth=11, colsample_bytree=0.5, total=  24.7s\n",
      "[CV] min_child_weight=2, n_estimators=2000, max_depth=11, colsample_bytree=0.5 \n",
      "[CV]  min_child_weight=2, n_estimators=2000, max_depth=11, colsample_bytree=0.5, total=  47.5s\n",
      "[CV] min_child_weight=2, n_estimators=2000, max_depth=11, colsample_bytree=0.5 \n",
      "[CV]  min_child_weight=2, n_estimators=2000, max_depth=11, colsample_bytree=0.5, total=  46.1s\n",
      "[CV] min_child_weight=2, n_estimators=2000, max_depth=11, colsample_bytree=0.5 \n",
      "[CV]  min_child_weight=2, n_estimators=2000, max_depth=11, colsample_bytree=0.5, total=  46.5s\n",
      "[CV] min_child_weight=2, n_estimators=2000, max_depth=11, colsample_bytree=0.5 \n",
      "[CV]  min_child_weight=2, n_estimators=2000, max_depth=11, colsample_bytree=0.5, total=  45.8s\n",
      "[CV] min_child_weight=2, n_estimators=2000, max_depth=11, colsample_bytree=0.5 \n",
      "[CV]  min_child_weight=2, n_estimators=2000, max_depth=11, colsample_bytree=0.5, total=  46.3s\n",
      "[CV] min_child_weight=2, n_estimators=3000, max_depth=11, colsample_bytree=0.5 \n",
      "[CV]  min_child_weight=2, n_estimators=3000, max_depth=11, colsample_bytree=0.5, total= 1.1min\n",
      "[CV] min_child_weight=2, n_estimators=3000, max_depth=11, colsample_bytree=0.5 \n",
      "[CV]  min_child_weight=2, n_estimators=3000, max_depth=11, colsample_bytree=0.5, total= 1.1min\n",
      "[CV] min_child_weight=2, n_estimators=3000, max_depth=11, colsample_bytree=0.5 \n",
      "[CV]  min_child_weight=2, n_estimators=3000, max_depth=11, colsample_bytree=0.5, total= 1.2min\n",
      "[CV] min_child_weight=2, n_estimators=3000, max_depth=11, colsample_bytree=0.5 \n",
      "[CV]  min_child_weight=2, n_estimators=3000, max_depth=11, colsample_bytree=0.5, total= 1.1min\n",
      "[CV] min_child_weight=2, n_estimators=3000, max_depth=11, colsample_bytree=0.5 \n",
      "[CV]  min_child_weight=2, n_estimators=3000, max_depth=11, colsample_bytree=0.5, total= 1.1min\n",
      "[CV] min_child_weight=3, n_estimators=1000, max_depth=11, colsample_bytree=0.5 \n",
      "[CV]  min_child_weight=3, n_estimators=1000, max_depth=11, colsample_bytree=0.5, total=  24.0s\n",
      "[CV] min_child_weight=3, n_estimators=1000, max_depth=11, colsample_bytree=0.5 \n",
      "[CV]  min_child_weight=3, n_estimators=1000, max_depth=11, colsample_bytree=0.5, total=  23.8s\n",
      "[CV] min_child_weight=3, n_estimators=1000, max_depth=11, colsample_bytree=0.5 \n",
      "[CV]  min_child_weight=3, n_estimators=1000, max_depth=11, colsample_bytree=0.5, total=  23.9s\n",
      "[CV] min_child_weight=3, n_estimators=1000, max_depth=11, colsample_bytree=0.5 \n",
      "[CV]  min_child_weight=3, n_estimators=1000, max_depth=11, colsample_bytree=0.5, total=  23.7s\n",
      "[CV] min_child_weight=3, n_estimators=1000, max_depth=11, colsample_bytree=0.5 \n",
      "[CV]  min_child_weight=3, n_estimators=1000, max_depth=11, colsample_bytree=0.5, total=  23.9s\n",
      "[CV] min_child_weight=3, n_estimators=2000, max_depth=11, colsample_bytree=0.5 \n",
      "[CV]  min_child_weight=3, n_estimators=2000, max_depth=11, colsample_bytree=0.5, total=  45.1s\n",
      "[CV] min_child_weight=3, n_estimators=2000, max_depth=11, colsample_bytree=0.5 \n",
      "[CV]  min_child_weight=3, n_estimators=2000, max_depth=11, colsample_bytree=0.5, total=  45.0s\n",
      "[CV] min_child_weight=3, n_estimators=2000, max_depth=11, colsample_bytree=0.5 \n",
      "[CV]  min_child_weight=3, n_estimators=2000, max_depth=11, colsample_bytree=0.5, total=  45.0s\n",
      "[CV] min_child_weight=3, n_estimators=2000, max_depth=11, colsample_bytree=0.5 \n",
      "[CV]  min_child_weight=3, n_estimators=2000, max_depth=11, colsample_bytree=0.5, total=  44.4s\n",
      "[CV] min_child_weight=3, n_estimators=2000, max_depth=11, colsample_bytree=0.5 \n",
      "[CV]  min_child_weight=3, n_estimators=2000, max_depth=11, colsample_bytree=0.5, total=  45.4s\n",
      "[CV] min_child_weight=3, n_estimators=3000, max_depth=11, colsample_bytree=0.5 \n",
      "[CV]  min_child_weight=3, n_estimators=3000, max_depth=11, colsample_bytree=0.5, total= 1.1min\n",
      "[CV] min_child_weight=3, n_estimators=3000, max_depth=11, colsample_bytree=0.5 \n",
      "[CV]  min_child_weight=3, n_estimators=3000, max_depth=11, colsample_bytree=0.5, total= 1.1min\n",
      "[CV] min_child_weight=3, n_estimators=3000, max_depth=11, colsample_bytree=0.5 \n",
      "[CV]  min_child_weight=3, n_estimators=3000, max_depth=11, colsample_bytree=0.5, total= 1.1min\n",
      "[CV] min_child_weight=3, n_estimators=3000, max_depth=11, colsample_bytree=0.5 \n",
      "[CV]  min_child_weight=3, n_estimators=3000, max_depth=11, colsample_bytree=0.5, total= 1.1min\n",
      "[CV] min_child_weight=3, n_estimators=3000, max_depth=11, colsample_bytree=0.5 \n",
      "[CV]  min_child_weight=3, n_estimators=3000, max_depth=11, colsample_bytree=0.5, total= 1.1min\n",
      "[CV] min_child_weight=4, n_estimators=1000, max_depth=11, colsample_bytree=0.5 \n",
      "[CV]  min_child_weight=4, n_estimators=1000, max_depth=11, colsample_bytree=0.5, total=  23.5s\n",
      "[CV] min_child_weight=4, n_estimators=1000, max_depth=11, colsample_bytree=0.5 \n",
      "[CV]  min_child_weight=4, n_estimators=1000, max_depth=11, colsample_bytree=0.5, total=  23.3s\n",
      "[CV] min_child_weight=4, n_estimators=1000, max_depth=11, colsample_bytree=0.5 \n",
      "[CV]  min_child_weight=4, n_estimators=1000, max_depth=11, colsample_bytree=0.5, total=  23.4s\n",
      "[CV] min_child_weight=4, n_estimators=1000, max_depth=11, colsample_bytree=0.5 \n",
      "[CV]  min_child_weight=4, n_estimators=1000, max_depth=11, colsample_bytree=0.5, total=  23.2s\n",
      "[CV] min_child_weight=4, n_estimators=1000, max_depth=11, colsample_bytree=0.5 \n",
      "[CV]  min_child_weight=4, n_estimators=1000, max_depth=11, colsample_bytree=0.5, total=  23.7s\n",
      "[CV] min_child_weight=4, n_estimators=2000, max_depth=11, colsample_bytree=0.5 \n",
      "[CV]  min_child_weight=4, n_estimators=2000, max_depth=11, colsample_bytree=0.5, total=  44.3s\n",
      "[CV] min_child_weight=4, n_estimators=2000, max_depth=11, colsample_bytree=0.5 \n",
      "[CV]  min_child_weight=4, n_estimators=2000, max_depth=11, colsample_bytree=0.5, total=  44.4s\n",
      "[CV] min_child_weight=4, n_estimators=2000, max_depth=11, colsample_bytree=0.5 \n",
      "[CV]  min_child_weight=4, n_estimators=2000, max_depth=11, colsample_bytree=0.5, total=  44.4s\n",
      "[CV] min_child_weight=4, n_estimators=2000, max_depth=11, colsample_bytree=0.5 \n",
      "[CV]  min_child_weight=4, n_estimators=2000, max_depth=11, colsample_bytree=0.5, total=  43.9s\n",
      "[CV] min_child_weight=4, n_estimators=2000, max_depth=11, colsample_bytree=0.5 \n",
      "[CV]  min_child_weight=4, n_estimators=2000, max_depth=11, colsample_bytree=0.5, total=  44.6s\n",
      "[CV] min_child_weight=4, n_estimators=3000, max_depth=11, colsample_bytree=0.5 \n",
      "[CV]  min_child_weight=4, n_estimators=3000, max_depth=11, colsample_bytree=0.5, total= 1.1min\n",
      "[CV] min_child_weight=4, n_estimators=3000, max_depth=11, colsample_bytree=0.5 \n",
      "[CV]  min_child_weight=4, n_estimators=3000, max_depth=11, colsample_bytree=0.5, total= 1.1min\n",
      "[CV] min_child_weight=4, n_estimators=3000, max_depth=11, colsample_bytree=0.5 \n",
      "[CV]  min_child_weight=4, n_estimators=3000, max_depth=11, colsample_bytree=0.5, total= 1.1min\n",
      "[CV] min_child_weight=4, n_estimators=3000, max_depth=11, colsample_bytree=0.5 \n",
      "[CV]  min_child_weight=4, n_estimators=3000, max_depth=11, colsample_bytree=0.5, total= 1.1min\n",
      "[CV] min_child_weight=4, n_estimators=3000, max_depth=11, colsample_bytree=0.5 \n",
      "[CV]  min_child_weight=4, n_estimators=3000, max_depth=11, colsample_bytree=0.5, total= 1.1min\n",
      "[CV] min_child_weight=1, n_estimators=1000, max_depth=5, colsample_bytree=0.8 \n",
      "[CV]  min_child_weight=1, n_estimators=1000, max_depth=5, colsample_bytree=0.8, total=  14.3s\n",
      "[CV] min_child_weight=1, n_estimators=1000, max_depth=5, colsample_bytree=0.8 \n",
      "[CV]  min_child_weight=1, n_estimators=1000, max_depth=5, colsample_bytree=0.8, total=  14.1s\n",
      "[CV] min_child_weight=1, n_estimators=1000, max_depth=5, colsample_bytree=0.8 \n",
      "[CV]  min_child_weight=1, n_estimators=1000, max_depth=5, colsample_bytree=0.8, total=  14.2s\n",
      "[CV] min_child_weight=1, n_estimators=1000, max_depth=5, colsample_bytree=0.8 \n",
      "[CV]  min_child_weight=1, n_estimators=1000, max_depth=5, colsample_bytree=0.8, total=  14.2s\n",
      "[CV] min_child_weight=1, n_estimators=1000, max_depth=5, colsample_bytree=0.8 \n",
      "[CV]  min_child_weight=1, n_estimators=1000, max_depth=5, colsample_bytree=0.8, total=  14.1s\n",
      "[CV] min_child_weight=1, n_estimators=2000, max_depth=5, colsample_bytree=0.8 \n",
      "[CV]  min_child_weight=1, n_estimators=2000, max_depth=5, colsample_bytree=0.8, total=  28.3s\n",
      "[CV] min_child_weight=1, n_estimators=2000, max_depth=5, colsample_bytree=0.8 \n",
      "[CV]  min_child_weight=1, n_estimators=2000, max_depth=5, colsample_bytree=0.8, total=  28.0s\n",
      "[CV] min_child_weight=1, n_estimators=2000, max_depth=5, colsample_bytree=0.8 \n",
      "[CV]  min_child_weight=1, n_estimators=2000, max_depth=5, colsample_bytree=0.8, total=  27.8s\n",
      "[CV] min_child_weight=1, n_estimators=2000, max_depth=5, colsample_bytree=0.8 \n",
      "[CV]  min_child_weight=1, n_estimators=2000, max_depth=5, colsample_bytree=0.8, total=  27.9s\n",
      "[CV] min_child_weight=1, n_estimators=2000, max_depth=5, colsample_bytree=0.8 \n",
      "[CV]  min_child_weight=1, n_estimators=2000, max_depth=5, colsample_bytree=0.8, total=  27.9s\n",
      "[CV] min_child_weight=1, n_estimators=3000, max_depth=5, colsample_bytree=0.8 \n",
      "[CV]  min_child_weight=1, n_estimators=3000, max_depth=5, colsample_bytree=0.8, total=  41.8s\n",
      "[CV] min_child_weight=1, n_estimators=3000, max_depth=5, colsample_bytree=0.8 \n",
      "[CV]  min_child_weight=1, n_estimators=3000, max_depth=5, colsample_bytree=0.8, total=  41.8s\n",
      "[CV] min_child_weight=1, n_estimators=3000, max_depth=5, colsample_bytree=0.8 \n",
      "[CV]  min_child_weight=1, n_estimators=3000, max_depth=5, colsample_bytree=0.8, total=  41.8s\n",
      "[CV] min_child_weight=1, n_estimators=3000, max_depth=5, colsample_bytree=0.8 \n",
      "[CV]  min_child_weight=1, n_estimators=3000, max_depth=5, colsample_bytree=0.8, total=  41.7s\n",
      "[CV] min_child_weight=1, n_estimators=3000, max_depth=5, colsample_bytree=0.8 \n",
      "[CV]  min_child_weight=1, n_estimators=3000, max_depth=5, colsample_bytree=0.8, total=  41.9s\n",
      "[CV] min_child_weight=2, n_estimators=1000, max_depth=5, colsample_bytree=0.8 \n",
      "[CV]  min_child_weight=2, n_estimators=1000, max_depth=5, colsample_bytree=0.8, total=  14.2s\n",
      "[CV] min_child_weight=2, n_estimators=1000, max_depth=5, colsample_bytree=0.8 \n",
      "[CV]  min_child_weight=2, n_estimators=1000, max_depth=5, colsample_bytree=0.8, total=  14.1s\n",
      "[CV] min_child_weight=2, n_estimators=1000, max_depth=5, colsample_bytree=0.8 \n",
      "[CV]  min_child_weight=2, n_estimators=1000, max_depth=5, colsample_bytree=0.8, total=  14.2s\n",
      "[CV] min_child_weight=2, n_estimators=1000, max_depth=5, colsample_bytree=0.8 \n",
      "[CV]  min_child_weight=2, n_estimators=1000, max_depth=5, colsample_bytree=0.8, total=  14.2s\n",
      "[CV] min_child_weight=2, n_estimators=1000, max_depth=5, colsample_bytree=0.8 \n",
      "[CV]  min_child_weight=2, n_estimators=1000, max_depth=5, colsample_bytree=0.8, total=  14.2s\n",
      "[CV] min_child_weight=2, n_estimators=2000, max_depth=5, colsample_bytree=0.8 \n",
      "[CV]  min_child_weight=2, n_estimators=2000, max_depth=5, colsample_bytree=0.8, total=  28.1s\n",
      "[CV] min_child_weight=2, n_estimators=2000, max_depth=5, colsample_bytree=0.8 \n",
      "[CV]  min_child_weight=2, n_estimators=2000, max_depth=5, colsample_bytree=0.8, total=  27.8s\n",
      "[CV] min_child_weight=2, n_estimators=2000, max_depth=5, colsample_bytree=0.8 \n",
      "[CV]  min_child_weight=2, n_estimators=2000, max_depth=5, colsample_bytree=0.8, total=  27.8s\n",
      "[CV] min_child_weight=2, n_estimators=2000, max_depth=5, colsample_bytree=0.8 \n",
      "[CV]  min_child_weight=2, n_estimators=2000, max_depth=5, colsample_bytree=0.8, total=  27.9s\n",
      "[CV] min_child_weight=2, n_estimators=2000, max_depth=5, colsample_bytree=0.8 \n",
      "[CV]  min_child_weight=2, n_estimators=2000, max_depth=5, colsample_bytree=0.8, total=  27.9s\n",
      "[CV] min_child_weight=2, n_estimators=3000, max_depth=5, colsample_bytree=0.8 \n",
      "[CV]  min_child_weight=2, n_estimators=3000, max_depth=5, colsample_bytree=0.8, total=  41.7s\n",
      "[CV] min_child_weight=2, n_estimators=3000, max_depth=5, colsample_bytree=0.8 \n",
      "[CV]  min_child_weight=2, n_estimators=3000, max_depth=5, colsample_bytree=0.8, total=  41.9s\n",
      "[CV] min_child_weight=2, n_estimators=3000, max_depth=5, colsample_bytree=0.8 \n",
      "[CV]  min_child_weight=2, n_estimators=3000, max_depth=5, colsample_bytree=0.8, total=  41.7s\n",
      "[CV] min_child_weight=2, n_estimators=3000, max_depth=5, colsample_bytree=0.8 \n",
      "[CV]  min_child_weight=2, n_estimators=3000, max_depth=5, colsample_bytree=0.8, total=  41.9s\n",
      "[CV] min_child_weight=2, n_estimators=3000, max_depth=5, colsample_bytree=0.8 \n",
      "[CV]  min_child_weight=2, n_estimators=3000, max_depth=5, colsample_bytree=0.8, total=  41.8s\n",
      "[CV] min_child_weight=3, n_estimators=1000, max_depth=5, colsample_bytree=0.8 \n",
      "[CV]  min_child_weight=3, n_estimators=1000, max_depth=5, colsample_bytree=0.8, total=  14.1s\n",
      "[CV] min_child_weight=3, n_estimators=1000, max_depth=5, colsample_bytree=0.8 \n",
      "[CV]  min_child_weight=3, n_estimators=1000, max_depth=5, colsample_bytree=0.8, total=  14.0s\n",
      "[CV] min_child_weight=3, n_estimators=1000, max_depth=5, colsample_bytree=0.8 \n",
      "[CV]  min_child_weight=3, n_estimators=1000, max_depth=5, colsample_bytree=0.8, total=  14.0s\n",
      "[CV] min_child_weight=3, n_estimators=1000, max_depth=5, colsample_bytree=0.8 \n",
      "[CV]  min_child_weight=3, n_estimators=1000, max_depth=5, colsample_bytree=0.8, total=  14.1s\n",
      "[CV] min_child_weight=3, n_estimators=1000, max_depth=5, colsample_bytree=0.8 \n",
      "[CV]  min_child_weight=3, n_estimators=1000, max_depth=5, colsample_bytree=0.8, total=  14.3s\n",
      "[CV] min_child_weight=3, n_estimators=2000, max_depth=5, colsample_bytree=0.8 \n",
      "[CV]  min_child_weight=3, n_estimators=2000, max_depth=5, colsample_bytree=0.8, total=  27.9s\n",
      "[CV] min_child_weight=3, n_estimators=2000, max_depth=5, colsample_bytree=0.8 \n",
      "[CV]  min_child_weight=3, n_estimators=2000, max_depth=5, colsample_bytree=0.8, total=  28.1s\n",
      "[CV] min_child_weight=3, n_estimators=2000, max_depth=5, colsample_bytree=0.8 \n",
      "[CV]  min_child_weight=3, n_estimators=2000, max_depth=5, colsample_bytree=0.8, total=  27.7s\n",
      "[CV] min_child_weight=3, n_estimators=2000, max_depth=5, colsample_bytree=0.8 \n",
      "[CV]  min_child_weight=3, n_estimators=2000, max_depth=5, colsample_bytree=0.8, total=  27.9s\n",
      "[CV] min_child_weight=3, n_estimators=2000, max_depth=5, colsample_bytree=0.8 \n",
      "[CV]  min_child_weight=3, n_estimators=2000, max_depth=5, colsample_bytree=0.8, total=  28.0s\n",
      "[CV] min_child_weight=3, n_estimators=3000, max_depth=5, colsample_bytree=0.8 \n",
      "[CV]  min_child_weight=3, n_estimators=3000, max_depth=5, colsample_bytree=0.8, total=  41.6s\n",
      "[CV] min_child_weight=3, n_estimators=3000, max_depth=5, colsample_bytree=0.8 \n",
      "[CV]  min_child_weight=3, n_estimators=3000, max_depth=5, colsample_bytree=0.8, total=  41.4s\n",
      "[CV] min_child_weight=3, n_estimators=3000, max_depth=5, colsample_bytree=0.8 \n",
      "[CV]  min_child_weight=3, n_estimators=3000, max_depth=5, colsample_bytree=0.8, total=  41.2s\n",
      "[CV] min_child_weight=3, n_estimators=3000, max_depth=5, colsample_bytree=0.8 \n",
      "[CV]  min_child_weight=3, n_estimators=3000, max_depth=5, colsample_bytree=0.8, total=  41.2s\n",
      "[CV] min_child_weight=3, n_estimators=3000, max_depth=5, colsample_bytree=0.8 \n",
      "[CV]  min_child_weight=3, n_estimators=3000, max_depth=5, colsample_bytree=0.8, total=  41.3s\n",
      "[CV] min_child_weight=4, n_estimators=1000, max_depth=5, colsample_bytree=0.8 \n",
      "[CV]  min_child_weight=4, n_estimators=1000, max_depth=5, colsample_bytree=0.8, total=  14.0s\n",
      "[CV] min_child_weight=4, n_estimators=1000, max_depth=5, colsample_bytree=0.8 \n",
      "[CV]  min_child_weight=4, n_estimators=1000, max_depth=5, colsample_bytree=0.8, total=  13.9s\n",
      "[CV] min_child_weight=4, n_estimators=1000, max_depth=5, colsample_bytree=0.8 \n",
      "[CV]  min_child_weight=4, n_estimators=1000, max_depth=5, colsample_bytree=0.8, total=  14.0s\n",
      "[CV] min_child_weight=4, n_estimators=1000, max_depth=5, colsample_bytree=0.8 \n",
      "[CV]  min_child_weight=4, n_estimators=1000, max_depth=5, colsample_bytree=0.8, total=  13.9s\n",
      "[CV] min_child_weight=4, n_estimators=1000, max_depth=5, colsample_bytree=0.8 \n",
      "[CV]  min_child_weight=4, n_estimators=1000, max_depth=5, colsample_bytree=0.8, total=  14.0s\n",
      "[CV] min_child_weight=4, n_estimators=2000, max_depth=5, colsample_bytree=0.8 \n",
      "[CV]  min_child_weight=4, n_estimators=2000, max_depth=5, colsample_bytree=0.8, total=  27.7s\n",
      "[CV] min_child_weight=4, n_estimators=2000, max_depth=5, colsample_bytree=0.8 \n",
      "[CV]  min_child_weight=4, n_estimators=2000, max_depth=5, colsample_bytree=0.8, total=  27.6s\n",
      "[CV] min_child_weight=4, n_estimators=2000, max_depth=5, colsample_bytree=0.8 \n",
      "[CV]  min_child_weight=4, n_estimators=2000, max_depth=5, colsample_bytree=0.8, total=  27.6s\n",
      "[CV] min_child_weight=4, n_estimators=2000, max_depth=5, colsample_bytree=0.8 \n",
      "[CV]  min_child_weight=4, n_estimators=2000, max_depth=5, colsample_bytree=0.8, total=  27.5s\n",
      "[CV] min_child_weight=4, n_estimators=2000, max_depth=5, colsample_bytree=0.8 \n",
      "[CV]  min_child_weight=4, n_estimators=2000, max_depth=5, colsample_bytree=0.8, total=  27.8s\n",
      "[CV] min_child_weight=4, n_estimators=3000, max_depth=5, colsample_bytree=0.8 \n",
      "[CV]  min_child_weight=4, n_estimators=3000, max_depth=5, colsample_bytree=0.8, total=  41.0s\n",
      "[CV] min_child_weight=4, n_estimators=3000, max_depth=5, colsample_bytree=0.8 \n",
      "[CV]  min_child_weight=4, n_estimators=3000, max_depth=5, colsample_bytree=0.8, total=  41.1s\n",
      "[CV] min_child_weight=4, n_estimators=3000, max_depth=5, colsample_bytree=0.8 \n",
      "[CV]  min_child_weight=4, n_estimators=3000, max_depth=5, colsample_bytree=0.8, total=  41.0s\n",
      "[CV] min_child_weight=4, n_estimators=3000, max_depth=5, colsample_bytree=0.8 \n",
      "[CV]  min_child_weight=4, n_estimators=3000, max_depth=5, colsample_bytree=0.8, total=  40.7s\n",
      "[CV] min_child_weight=4, n_estimators=3000, max_depth=5, colsample_bytree=0.8 \n",
      "[CV]  min_child_weight=4, n_estimators=3000, max_depth=5, colsample_bytree=0.8, total=  41.3s\n",
      "[CV] min_child_weight=1, n_estimators=1000, max_depth=7, colsample_bytree=0.8 \n",
      "[CV]  min_child_weight=1, n_estimators=1000, max_depth=7, colsample_bytree=0.8, total=  20.3s\n",
      "[CV] min_child_weight=1, n_estimators=1000, max_depth=7, colsample_bytree=0.8 \n",
      "[CV]  min_child_weight=1, n_estimators=1000, max_depth=7, colsample_bytree=0.8, total=  20.1s\n",
      "[CV] min_child_weight=1, n_estimators=1000, max_depth=7, colsample_bytree=0.8 \n",
      "[CV]  min_child_weight=1, n_estimators=1000, max_depth=7, colsample_bytree=0.8, total=  20.2s\n",
      "[CV] min_child_weight=1, n_estimators=1000, max_depth=7, colsample_bytree=0.8 \n",
      "[CV]  min_child_weight=1, n_estimators=1000, max_depth=7, colsample_bytree=0.8, total=  20.4s\n",
      "[CV] min_child_weight=1, n_estimators=1000, max_depth=7, colsample_bytree=0.8 \n",
      "[CV]  min_child_weight=1, n_estimators=1000, max_depth=7, colsample_bytree=0.8, total=  20.3s\n",
      "[CV] min_child_weight=1, n_estimators=2000, max_depth=7, colsample_bytree=0.8 \n",
      "[CV]  min_child_weight=1, n_estimators=2000, max_depth=7, colsample_bytree=0.8, total=  39.6s\n",
      "[CV] min_child_weight=1, n_estimators=2000, max_depth=7, colsample_bytree=0.8 \n",
      "[CV]  min_child_weight=1, n_estimators=2000, max_depth=7, colsample_bytree=0.8, total=  39.4s\n",
      "[CV] min_child_weight=1, n_estimators=2000, max_depth=7, colsample_bytree=0.8 \n",
      "[CV]  min_child_weight=1, n_estimators=2000, max_depth=7, colsample_bytree=0.8, total=  39.4s\n",
      "[CV] min_child_weight=1, n_estimators=2000, max_depth=7, colsample_bytree=0.8 \n",
      "[CV]  min_child_weight=1, n_estimators=2000, max_depth=7, colsample_bytree=0.8, total=  39.3s\n",
      "[CV] min_child_weight=1, n_estimators=2000, max_depth=7, colsample_bytree=0.8 \n",
      "[CV]  min_child_weight=1, n_estimators=2000, max_depth=7, colsample_bytree=0.8, total=  39.4s\n",
      "[CV] min_child_weight=1, n_estimators=3000, max_depth=7, colsample_bytree=0.8 \n",
      "[CV]  min_child_weight=1, n_estimators=3000, max_depth=7, colsample_bytree=0.8, total=  58.7s\n",
      "[CV] min_child_weight=1, n_estimators=3000, max_depth=7, colsample_bytree=0.8 \n",
      "[CV]  min_child_weight=1, n_estimators=3000, max_depth=7, colsample_bytree=0.8, total=  58.5s\n",
      "[CV] min_child_weight=1, n_estimators=3000, max_depth=7, colsample_bytree=0.8 \n",
      "[CV]  min_child_weight=1, n_estimators=3000, max_depth=7, colsample_bytree=0.8, total=  58.9s\n",
      "[CV] min_child_weight=1, n_estimators=3000, max_depth=7, colsample_bytree=0.8 \n",
      "[CV]  min_child_weight=1, n_estimators=3000, max_depth=7, colsample_bytree=0.8, total=  58.3s\n",
      "[CV] min_child_weight=1, n_estimators=3000, max_depth=7, colsample_bytree=0.8 \n",
      "[CV]  min_child_weight=1, n_estimators=3000, max_depth=7, colsample_bytree=0.8, total=  58.8s\n",
      "[CV] min_child_weight=2, n_estimators=1000, max_depth=7, colsample_bytree=0.8 \n",
      "[CV]  min_child_weight=2, n_estimators=1000, max_depth=7, colsample_bytree=0.8, total=  20.2s\n",
      "[CV] min_child_weight=2, n_estimators=1000, max_depth=7, colsample_bytree=0.8 \n",
      "[CV]  min_child_weight=2, n_estimators=1000, max_depth=7, colsample_bytree=0.8, total=  20.0s\n",
      "[CV] min_child_weight=2, n_estimators=1000, max_depth=7, colsample_bytree=0.8 \n",
      "[CV]  min_child_weight=2, n_estimators=1000, max_depth=7, colsample_bytree=0.8, total=  20.1s\n",
      "[CV] min_child_weight=2, n_estimators=1000, max_depth=7, colsample_bytree=0.8 \n",
      "[CV]  min_child_weight=2, n_estimators=1000, max_depth=7, colsample_bytree=0.8, total=  20.2s\n",
      "[CV] min_child_weight=2, n_estimators=1000, max_depth=7, colsample_bytree=0.8 \n",
      "[CV]  min_child_weight=2, n_estimators=1000, max_depth=7, colsample_bytree=0.8, total=  20.4s\n",
      "[CV] min_child_weight=2, n_estimators=2000, max_depth=7, colsample_bytree=0.8 \n",
      "[CV]  min_child_weight=2, n_estimators=2000, max_depth=7, colsample_bytree=0.8, total=  39.5s\n",
      "[CV] min_child_weight=2, n_estimators=2000, max_depth=7, colsample_bytree=0.8 \n",
      "[CV]  min_child_weight=2, n_estimators=2000, max_depth=7, colsample_bytree=0.8, total=  39.3s\n",
      "[CV] min_child_weight=2, n_estimators=2000, max_depth=7, colsample_bytree=0.8 \n",
      "[CV]  min_child_weight=2, n_estimators=2000, max_depth=7, colsample_bytree=0.8, total=  39.3s\n",
      "[CV] min_child_weight=2, n_estimators=2000, max_depth=7, colsample_bytree=0.8 \n",
      "[CV]  min_child_weight=2, n_estimators=2000, max_depth=7, colsample_bytree=0.8, total=  39.1s\n",
      "[CV] min_child_weight=2, n_estimators=2000, max_depth=7, colsample_bytree=0.8 \n",
      "[CV]  min_child_weight=2, n_estimators=2000, max_depth=7, colsample_bytree=0.8, total=  39.0s\n",
      "[CV] min_child_weight=2, n_estimators=3000, max_depth=7, colsample_bytree=0.8 \n",
      "[CV]  min_child_weight=2, n_estimators=3000, max_depth=7, colsample_bytree=0.8, total=  58.3s\n",
      "[CV] min_child_weight=2, n_estimators=3000, max_depth=7, colsample_bytree=0.8 \n",
      "[CV]  min_child_weight=2, n_estimators=3000, max_depth=7, colsample_bytree=0.8, total=  57.9s\n",
      "[CV] min_child_weight=2, n_estimators=3000, max_depth=7, colsample_bytree=0.8 \n",
      "[CV]  min_child_weight=2, n_estimators=3000, max_depth=7, colsample_bytree=0.8, total=  57.5s\n",
      "[CV] min_child_weight=2, n_estimators=3000, max_depth=7, colsample_bytree=0.8 \n",
      "[CV]  min_child_weight=2, n_estimators=3000, max_depth=7, colsample_bytree=0.8, total=  57.7s\n",
      "[CV] min_child_weight=2, n_estimators=3000, max_depth=7, colsample_bytree=0.8 \n",
      "[CV]  min_child_weight=2, n_estimators=3000, max_depth=7, colsample_bytree=0.8, total=  57.9s\n",
      "[CV] min_child_weight=3, n_estimators=1000, max_depth=7, colsample_bytree=0.8 \n",
      "[CV]  min_child_weight=3, n_estimators=1000, max_depth=7, colsample_bytree=0.8, total=  20.2s\n",
      "[CV] min_child_weight=3, n_estimators=1000, max_depth=7, colsample_bytree=0.8 \n",
      "[CV]  min_child_weight=3, n_estimators=1000, max_depth=7, colsample_bytree=0.8, total=  19.9s\n",
      "[CV] min_child_weight=3, n_estimators=1000, max_depth=7, colsample_bytree=0.8 \n",
      "[CV]  min_child_weight=3, n_estimators=1000, max_depth=7, colsample_bytree=0.8, total=  19.9s\n",
      "[CV] min_child_weight=3, n_estimators=1000, max_depth=7, colsample_bytree=0.8 \n",
      "[CV]  min_child_weight=3, n_estimators=1000, max_depth=7, colsample_bytree=0.8, total=  19.9s\n",
      "[CV] min_child_weight=3, n_estimators=1000, max_depth=7, colsample_bytree=0.8 \n",
      "[CV]  min_child_weight=3, n_estimators=1000, max_depth=7, colsample_bytree=0.8, total=  20.0s\n",
      "[CV] min_child_weight=3, n_estimators=2000, max_depth=7, colsample_bytree=0.8 \n",
      "[CV]  min_child_weight=3, n_estimators=2000, max_depth=7, colsample_bytree=0.8, total=  38.5s\n",
      "[CV] min_child_weight=3, n_estimators=2000, max_depth=7, colsample_bytree=0.8 \n",
      "[CV]  min_child_weight=3, n_estimators=2000, max_depth=7, colsample_bytree=0.8, total=  38.7s\n",
      "[CV] min_child_weight=3, n_estimators=2000, max_depth=7, colsample_bytree=0.8 \n",
      "[CV]  min_child_weight=3, n_estimators=2000, max_depth=7, colsample_bytree=0.8, total=  38.9s\n",
      "[CV] min_child_weight=3, n_estimators=2000, max_depth=7, colsample_bytree=0.8 \n",
      "[CV]  min_child_weight=3, n_estimators=2000, max_depth=7, colsample_bytree=0.8, total=  38.5s\n",
      "[CV] min_child_weight=3, n_estimators=2000, max_depth=7, colsample_bytree=0.8 \n",
      "[CV]  min_child_weight=3, n_estimators=2000, max_depth=7, colsample_bytree=0.8, total=  38.7s\n",
      "[CV] min_child_weight=3, n_estimators=3000, max_depth=7, colsample_bytree=0.8 \n",
      "[CV]  min_child_weight=3, n_estimators=3000, max_depth=7, colsample_bytree=0.8, total=  57.1s\n",
      "[CV] min_child_weight=3, n_estimators=3000, max_depth=7, colsample_bytree=0.8 \n",
      "[CV]  min_child_weight=3, n_estimators=3000, max_depth=7, colsample_bytree=0.8, total=  57.0s\n",
      "[CV] min_child_weight=3, n_estimators=3000, max_depth=7, colsample_bytree=0.8 \n",
      "[CV]  min_child_weight=3, n_estimators=3000, max_depth=7, colsample_bytree=0.8, total=  56.7s\n",
      "[CV] min_child_weight=3, n_estimators=3000, max_depth=7, colsample_bytree=0.8 \n",
      "[CV]  min_child_weight=3, n_estimators=3000, max_depth=7, colsample_bytree=0.8, total=  56.7s\n",
      "[CV] min_child_weight=3, n_estimators=3000, max_depth=7, colsample_bytree=0.8 \n",
      "[CV]  min_child_weight=3, n_estimators=3000, max_depth=7, colsample_bytree=0.8, total=  57.2s\n",
      "[CV] min_child_weight=4, n_estimators=1000, max_depth=7, colsample_bytree=0.8 \n",
      "[CV]  min_child_weight=4, n_estimators=1000, max_depth=7, colsample_bytree=0.8, total=  19.7s\n",
      "[CV] min_child_weight=4, n_estimators=1000, max_depth=7, colsample_bytree=0.8 \n",
      "[CV]  min_child_weight=4, n_estimators=1000, max_depth=7, colsample_bytree=0.8, total=  19.6s\n",
      "[CV] min_child_weight=4, n_estimators=1000, max_depth=7, colsample_bytree=0.8 \n",
      "[CV]  min_child_weight=4, n_estimators=1000, max_depth=7, colsample_bytree=0.8, total=  19.7s\n",
      "[CV] min_child_weight=4, n_estimators=1000, max_depth=7, colsample_bytree=0.8 \n",
      "[CV]  min_child_weight=4, n_estimators=1000, max_depth=7, colsample_bytree=0.8, total=  19.6s\n",
      "[CV] min_child_weight=4, n_estimators=1000, max_depth=7, colsample_bytree=0.8 \n",
      "[CV]  min_child_weight=4, n_estimators=1000, max_depth=7, colsample_bytree=0.8, total=  20.3s\n",
      "[CV] min_child_weight=4, n_estimators=2000, max_depth=7, colsample_bytree=0.8 \n",
      "[CV]  min_child_weight=4, n_estimators=2000, max_depth=7, colsample_bytree=0.8, total=  38.2s\n",
      "[CV] min_child_weight=4, n_estimators=2000, max_depth=7, colsample_bytree=0.8 \n",
      "[CV]  min_child_weight=4, n_estimators=2000, max_depth=7, colsample_bytree=0.8, total=  38.0s\n",
      "[CV] min_child_weight=4, n_estimators=2000, max_depth=7, colsample_bytree=0.8 \n",
      "[CV]  min_child_weight=4, n_estimators=2000, max_depth=7, colsample_bytree=0.8, total=  38.1s\n",
      "[CV] min_child_weight=4, n_estimators=2000, max_depth=7, colsample_bytree=0.8 \n",
      "[CV]  min_child_weight=4, n_estimators=2000, max_depth=7, colsample_bytree=0.8, total=  37.9s\n",
      "[CV] min_child_weight=4, n_estimators=2000, max_depth=7, colsample_bytree=0.8 \n",
      "[CV]  min_child_weight=4, n_estimators=2000, max_depth=7, colsample_bytree=0.8, total=  38.7s\n",
      "[CV] min_child_weight=4, n_estimators=3000, max_depth=7, colsample_bytree=0.8 \n",
      "[CV]  min_child_weight=4, n_estimators=3000, max_depth=7, colsample_bytree=0.8, total=  57.1s\n",
      "[CV] min_child_weight=4, n_estimators=3000, max_depth=7, colsample_bytree=0.8 \n",
      "[CV]  min_child_weight=4, n_estimators=3000, max_depth=7, colsample_bytree=0.8, total=  57.2s\n",
      "[CV] min_child_weight=4, n_estimators=3000, max_depth=7, colsample_bytree=0.8 \n",
      "[CV]  min_child_weight=4, n_estimators=3000, max_depth=7, colsample_bytree=0.8, total=  56.8s\n",
      "[CV] min_child_weight=4, n_estimators=3000, max_depth=7, colsample_bytree=0.8 \n",
      "[CV]  min_child_weight=4, n_estimators=3000, max_depth=7, colsample_bytree=0.8, total=  56.5s\n",
      "[CV] min_child_weight=4, n_estimators=3000, max_depth=7, colsample_bytree=0.8 \n",
      "[CV]  min_child_weight=4, n_estimators=3000, max_depth=7, colsample_bytree=0.8, total=  56.9s\n",
      "[CV] min_child_weight=1, n_estimators=1000, max_depth=9, colsample_bytree=0.8 \n",
      "[CV]  min_child_weight=1, n_estimators=1000, max_depth=9, colsample_bytree=0.8, total=  26.9s\n",
      "[CV] min_child_weight=1, n_estimators=1000, max_depth=9, colsample_bytree=0.8 \n",
      "[CV]  min_child_weight=1, n_estimators=1000, max_depth=9, colsample_bytree=0.8, total=  26.8s\n",
      "[CV] min_child_weight=1, n_estimators=1000, max_depth=9, colsample_bytree=0.8 \n",
      "[CV]  min_child_weight=1, n_estimators=1000, max_depth=9, colsample_bytree=0.8, total=  26.8s\n",
      "[CV] min_child_weight=1, n_estimators=1000, max_depth=9, colsample_bytree=0.8 \n",
      "[CV]  min_child_weight=1, n_estimators=1000, max_depth=9, colsample_bytree=0.8, total=  26.7s\n",
      "[CV] min_child_weight=1, n_estimators=1000, max_depth=9, colsample_bytree=0.8 \n",
      "[CV]  min_child_weight=1, n_estimators=1000, max_depth=9, colsample_bytree=0.8, total=  26.8s\n",
      "[CV] min_child_weight=1, n_estimators=2000, max_depth=9, colsample_bytree=0.8 \n",
      "[CV]  min_child_weight=1, n_estimators=2000, max_depth=9, colsample_bytree=0.8, total=  51.1s\n",
      "[CV] min_child_weight=1, n_estimators=2000, max_depth=9, colsample_bytree=0.8 \n",
      "[CV]  min_child_weight=1, n_estimators=2000, max_depth=9, colsample_bytree=0.8, total=  51.3s\n",
      "[CV] min_child_weight=1, n_estimators=2000, max_depth=9, colsample_bytree=0.8 \n",
      "[CV]  min_child_weight=1, n_estimators=2000, max_depth=9, colsample_bytree=0.8, total=  51.3s\n",
      "[CV] min_child_weight=1, n_estimators=2000, max_depth=9, colsample_bytree=0.8 \n",
      "[CV]  min_child_weight=1, n_estimators=2000, max_depth=9, colsample_bytree=0.8, total=  51.2s\n",
      "[CV] min_child_weight=1, n_estimators=2000, max_depth=9, colsample_bytree=0.8 \n",
      "[CV]  min_child_weight=1, n_estimators=2000, max_depth=9, colsample_bytree=0.8, total=  51.2s\n",
      "[CV] min_child_weight=1, n_estimators=3000, max_depth=9, colsample_bytree=0.8 \n",
      "[CV]  min_child_weight=1, n_estimators=3000, max_depth=9, colsample_bytree=0.8, total= 1.3min\n",
      "[CV] min_child_weight=1, n_estimators=3000, max_depth=9, colsample_bytree=0.8 \n",
      "[CV]  min_child_weight=1, n_estimators=3000, max_depth=9, colsample_bytree=0.8, total= 1.3min\n",
      "[CV] min_child_weight=1, n_estimators=3000, max_depth=9, colsample_bytree=0.8 \n",
      "[CV]  min_child_weight=1, n_estimators=3000, max_depth=9, colsample_bytree=0.8, total= 1.3min\n",
      "[CV] min_child_weight=1, n_estimators=3000, max_depth=9, colsample_bytree=0.8 \n",
      "[CV]  min_child_weight=1, n_estimators=3000, max_depth=9, colsample_bytree=0.8, total= 1.3min\n",
      "[CV] min_child_weight=1, n_estimators=3000, max_depth=9, colsample_bytree=0.8 \n",
      "[CV]  min_child_weight=1, n_estimators=3000, max_depth=9, colsample_bytree=0.8, total= 1.3min\n",
      "[CV] min_child_weight=2, n_estimators=1000, max_depth=9, colsample_bytree=0.8 \n",
      "[CV]  min_child_weight=2, n_estimators=1000, max_depth=9, colsample_bytree=0.8, total=  26.3s\n",
      "[CV] min_child_weight=2, n_estimators=1000, max_depth=9, colsample_bytree=0.8 \n",
      "[CV]  min_child_weight=2, n_estimators=1000, max_depth=9, colsample_bytree=0.8, total=  26.2s\n",
      "[CV] min_child_weight=2, n_estimators=1000, max_depth=9, colsample_bytree=0.8 \n",
      "[CV]  min_child_weight=2, n_estimators=1000, max_depth=9, colsample_bytree=0.8, total=  26.6s\n",
      "[CV] min_child_weight=2, n_estimators=1000, max_depth=9, colsample_bytree=0.8 \n",
      "[CV]  min_child_weight=2, n_estimators=1000, max_depth=9, colsample_bytree=0.8, total=  26.4s\n",
      "[CV] min_child_weight=2, n_estimators=1000, max_depth=9, colsample_bytree=0.8 \n",
      "[CV]  min_child_weight=2, n_estimators=1000, max_depth=9, colsample_bytree=0.8, total=  26.5s\n",
      "[CV] min_child_weight=2, n_estimators=2000, max_depth=9, colsample_bytree=0.8 \n",
      "[CV]  min_child_weight=2, n_estimators=2000, max_depth=9, colsample_bytree=0.8, total=  50.1s\n",
      "[CV] min_child_weight=2, n_estimators=2000, max_depth=9, colsample_bytree=0.8 \n",
      "[CV]  min_child_weight=2, n_estimators=2000, max_depth=9, colsample_bytree=0.8, total=  50.3s\n",
      "[CV] min_child_weight=2, n_estimators=2000, max_depth=9, colsample_bytree=0.8 \n",
      "[CV]  min_child_weight=2, n_estimators=2000, max_depth=9, colsample_bytree=0.8, total=  50.6s\n",
      "[CV] min_child_weight=2, n_estimators=2000, max_depth=9, colsample_bytree=0.8 \n",
      "[CV]  min_child_weight=2, n_estimators=2000, max_depth=9, colsample_bytree=0.8, total=  50.0s\n",
      "[CV] min_child_weight=2, n_estimators=2000, max_depth=9, colsample_bytree=0.8 \n",
      "[CV]  min_child_weight=2, n_estimators=2000, max_depth=9, colsample_bytree=0.8, total=  50.8s\n",
      "[CV] min_child_weight=2, n_estimators=3000, max_depth=9, colsample_bytree=0.8 \n",
      "[CV]  min_child_weight=2, n_estimators=3000, max_depth=9, colsample_bytree=0.8, total= 1.2min\n",
      "[CV] min_child_weight=2, n_estimators=3000, max_depth=9, colsample_bytree=0.8 \n",
      "[CV]  min_child_weight=2, n_estimators=3000, max_depth=9, colsample_bytree=0.8, total= 1.2min\n",
      "[CV] min_child_weight=2, n_estimators=3000, max_depth=9, colsample_bytree=0.8 \n",
      "[CV]  min_child_weight=2, n_estimators=3000, max_depth=9, colsample_bytree=0.8, total= 1.2min\n",
      "[CV] min_child_weight=2, n_estimators=3000, max_depth=9, colsample_bytree=0.8 \n",
      "[CV]  min_child_weight=2, n_estimators=3000, max_depth=9, colsample_bytree=0.8, total= 1.2min\n",
      "[CV] min_child_weight=2, n_estimators=3000, max_depth=9, colsample_bytree=0.8 \n",
      "[CV]  min_child_weight=2, n_estimators=3000, max_depth=9, colsample_bytree=0.8, total= 1.2min\n",
      "[CV] min_child_weight=3, n_estimators=1000, max_depth=9, colsample_bytree=0.8 \n",
      "[CV]  min_child_weight=3, n_estimators=1000, max_depth=9, colsample_bytree=0.8, total=  25.9s\n",
      "[CV] min_child_weight=3, n_estimators=1000, max_depth=9, colsample_bytree=0.8 \n",
      "[CV]  min_child_weight=3, n_estimators=1000, max_depth=9, colsample_bytree=0.8, total=  25.7s\n",
      "[CV] min_child_weight=3, n_estimators=1000, max_depth=9, colsample_bytree=0.8 \n",
      "[CV]  min_child_weight=3, n_estimators=1000, max_depth=9, colsample_bytree=0.8, total=  25.7s\n",
      "[CV] min_child_weight=3, n_estimators=1000, max_depth=9, colsample_bytree=0.8 \n",
      "[CV]  min_child_weight=3, n_estimators=1000, max_depth=9, colsample_bytree=0.8, total=  25.9s\n",
      "[CV] min_child_weight=3, n_estimators=1000, max_depth=9, colsample_bytree=0.8 \n",
      "[CV]  min_child_weight=3, n_estimators=1000, max_depth=9, colsample_bytree=0.8, total=  25.9s\n",
      "[CV] min_child_weight=3, n_estimators=2000, max_depth=9, colsample_bytree=0.8 \n",
      "[CV]  min_child_weight=3, n_estimators=2000, max_depth=9, colsample_bytree=0.8, total=  49.2s\n",
      "[CV] min_child_weight=3, n_estimators=2000, max_depth=9, colsample_bytree=0.8 \n",
      "[CV]  min_child_weight=3, n_estimators=2000, max_depth=9, colsample_bytree=0.8, total=  49.2s\n",
      "[CV] min_child_weight=3, n_estimators=2000, max_depth=9, colsample_bytree=0.8 \n",
      "[CV]  min_child_weight=3, n_estimators=2000, max_depth=9, colsample_bytree=0.8, total=  49.1s\n",
      "[CV] min_child_weight=3, n_estimators=2000, max_depth=9, colsample_bytree=0.8 \n",
      "[CV]  min_child_weight=3, n_estimators=2000, max_depth=9, colsample_bytree=0.8, total=  49.0s\n",
      "[CV] min_child_weight=3, n_estimators=2000, max_depth=9, colsample_bytree=0.8 \n",
      "[CV]  min_child_weight=3, n_estimators=2000, max_depth=9, colsample_bytree=0.8, total=  49.3s\n",
      "[CV] min_child_weight=3, n_estimators=3000, max_depth=9, colsample_bytree=0.8 \n",
      "[CV]  min_child_weight=3, n_estimators=3000, max_depth=9, colsample_bytree=0.8, total= 1.2min\n",
      "[CV] min_child_weight=3, n_estimators=3000, max_depth=9, colsample_bytree=0.8 \n",
      "[CV]  min_child_weight=3, n_estimators=3000, max_depth=9, colsample_bytree=0.8, total= 1.2min\n",
      "[CV] min_child_weight=3, n_estimators=3000, max_depth=9, colsample_bytree=0.8 \n",
      "[CV]  min_child_weight=3, n_estimators=3000, max_depth=9, colsample_bytree=0.8, total= 1.2min\n",
      "[CV] min_child_weight=3, n_estimators=3000, max_depth=9, colsample_bytree=0.8 \n",
      "[CV]  min_child_weight=3, n_estimators=3000, max_depth=9, colsample_bytree=0.8, total= 1.2min\n",
      "[CV] min_child_weight=3, n_estimators=3000, max_depth=9, colsample_bytree=0.8 \n",
      "[CV]  min_child_weight=3, n_estimators=3000, max_depth=9, colsample_bytree=0.8, total= 1.2min\n",
      "[CV] min_child_weight=4, n_estimators=1000, max_depth=9, colsample_bytree=0.8 \n",
      "[CV]  min_child_weight=4, n_estimators=1000, max_depth=9, colsample_bytree=0.8, total=  25.3s\n",
      "[CV] min_child_weight=4, n_estimators=1000, max_depth=9, colsample_bytree=0.8 \n",
      "[CV]  min_child_weight=4, n_estimators=1000, max_depth=9, colsample_bytree=0.8, total=  25.2s\n",
      "[CV] min_child_weight=4, n_estimators=1000, max_depth=9, colsample_bytree=0.8 \n",
      "[CV]  min_child_weight=4, n_estimators=1000, max_depth=9, colsample_bytree=0.8, total=  25.4s\n",
      "[CV] min_child_weight=4, n_estimators=1000, max_depth=9, colsample_bytree=0.8 \n",
      "[CV]  min_child_weight=4, n_estimators=1000, max_depth=9, colsample_bytree=0.8, total=  25.4s\n",
      "[CV] min_child_weight=4, n_estimators=1000, max_depth=9, colsample_bytree=0.8 \n",
      "[CV]  min_child_weight=4, n_estimators=1000, max_depth=9, colsample_bytree=0.8, total=  25.8s\n",
      "[CV] min_child_weight=4, n_estimators=2000, max_depth=9, colsample_bytree=0.8 \n",
      "[CV]  min_child_weight=4, n_estimators=2000, max_depth=9, colsample_bytree=0.8, total=  48.3s\n",
      "[CV] min_child_weight=4, n_estimators=2000, max_depth=9, colsample_bytree=0.8 \n",
      "[CV]  min_child_weight=4, n_estimators=2000, max_depth=9, colsample_bytree=0.8, total=  49.2s\n",
      "[CV] min_child_weight=4, n_estimators=2000, max_depth=9, colsample_bytree=0.8 \n",
      "[CV]  min_child_weight=4, n_estimators=2000, max_depth=9, colsample_bytree=0.8, total=  48.4s\n",
      "[CV] min_child_weight=4, n_estimators=2000, max_depth=9, colsample_bytree=0.8 \n",
      "[CV]  min_child_weight=4, n_estimators=2000, max_depth=9, colsample_bytree=0.8, total=  48.4s\n",
      "[CV] min_child_weight=4, n_estimators=2000, max_depth=9, colsample_bytree=0.8 \n",
      "[CV]  min_child_weight=4, n_estimators=2000, max_depth=9, colsample_bytree=0.8, total=  48.8s\n",
      "[CV] min_child_weight=4, n_estimators=3000, max_depth=9, colsample_bytree=0.8 \n",
      "[CV]  min_child_weight=4, n_estimators=3000, max_depth=9, colsample_bytree=0.8, total= 1.2min\n",
      "[CV] min_child_weight=4, n_estimators=3000, max_depth=9, colsample_bytree=0.8 \n",
      "[CV]  min_child_weight=4, n_estimators=3000, max_depth=9, colsample_bytree=0.8, total= 1.2min\n",
      "[CV] min_child_weight=4, n_estimators=3000, max_depth=9, colsample_bytree=0.8 \n",
      "[CV]  min_child_weight=4, n_estimators=3000, max_depth=9, colsample_bytree=0.8, total= 1.2min\n",
      "[CV] min_child_weight=4, n_estimators=3000, max_depth=9, colsample_bytree=0.8 \n",
      "[CV]  min_child_weight=4, n_estimators=3000, max_depth=9, colsample_bytree=0.8, total= 1.2min\n",
      "[CV] min_child_weight=4, n_estimators=3000, max_depth=9, colsample_bytree=0.8 \n",
      "[CV]  min_child_weight=4, n_estimators=3000, max_depth=9, colsample_bytree=0.8, total= 1.2min\n",
      "[CV] min_child_weight=1, n_estimators=1000, max_depth=11, colsample_bytree=0.8 \n",
      "[CV]  min_child_weight=1, n_estimators=1000, max_depth=11, colsample_bytree=0.8, total=  33.4s\n",
      "[CV] min_child_weight=1, n_estimators=1000, max_depth=11, colsample_bytree=0.8 \n",
      "[CV]  min_child_weight=1, n_estimators=1000, max_depth=11, colsample_bytree=0.8, total=  33.3s\n",
      "[CV] min_child_weight=1, n_estimators=1000, max_depth=11, colsample_bytree=0.8 \n",
      "[CV]  min_child_weight=1, n_estimators=1000, max_depth=11, colsample_bytree=0.8, total=  33.9s\n",
      "[CV] min_child_weight=1, n_estimators=1000, max_depth=11, colsample_bytree=0.8 \n",
      "[CV]  min_child_weight=1, n_estimators=1000, max_depth=11, colsample_bytree=0.8, total=  33.4s\n",
      "[CV] min_child_weight=1, n_estimators=1000, max_depth=11, colsample_bytree=0.8 \n",
      "[CV]  min_child_weight=1, n_estimators=1000, max_depth=11, colsample_bytree=0.8, total=  33.6s\n",
      "[CV] min_child_weight=1, n_estimators=2000, max_depth=11, colsample_bytree=0.8 \n",
      "[CV]  min_child_weight=1, n_estimators=2000, max_depth=11, colsample_bytree=0.8, total= 1.0min\n",
      "[CV] min_child_weight=1, n_estimators=2000, max_depth=11, colsample_bytree=0.8 \n",
      "[CV]  min_child_weight=1, n_estimators=2000, max_depth=11, colsample_bytree=0.8, total= 1.1min\n",
      "[CV] min_child_weight=1, n_estimators=2000, max_depth=11, colsample_bytree=0.8 \n",
      "[CV]  min_child_weight=1, n_estimators=2000, max_depth=11, colsample_bytree=0.8, total= 1.0min\n",
      "[CV] min_child_weight=1, n_estimators=2000, max_depth=11, colsample_bytree=0.8 \n",
      "[CV]  min_child_weight=1, n_estimators=2000, max_depth=11, colsample_bytree=0.8, total= 1.1min\n",
      "[CV] min_child_weight=1, n_estimators=2000, max_depth=11, colsample_bytree=0.8 \n",
      "[CV]  min_child_weight=1, n_estimators=2000, max_depth=11, colsample_bytree=0.8, total= 1.1min\n",
      "[CV] min_child_weight=1, n_estimators=3000, max_depth=11, colsample_bytree=0.8 \n",
      "[CV]  min_child_weight=1, n_estimators=3000, max_depth=11, colsample_bytree=0.8, total= 1.6min\n",
      "[CV] min_child_weight=1, n_estimators=3000, max_depth=11, colsample_bytree=0.8 \n",
      "[CV]  min_child_weight=1, n_estimators=3000, max_depth=11, colsample_bytree=0.8, total= 1.6min\n",
      "[CV] min_child_weight=1, n_estimators=3000, max_depth=11, colsample_bytree=0.8 \n",
      "[CV]  min_child_weight=1, n_estimators=3000, max_depth=11, colsample_bytree=0.8, total= 1.6min\n",
      "[CV] min_child_weight=1, n_estimators=3000, max_depth=11, colsample_bytree=0.8 \n",
      "[CV]  min_child_weight=1, n_estimators=3000, max_depth=11, colsample_bytree=0.8, total= 1.6min\n",
      "[CV] min_child_weight=1, n_estimators=3000, max_depth=11, colsample_bytree=0.8 \n",
      "[CV]  min_child_weight=1, n_estimators=3000, max_depth=11, colsample_bytree=0.8, total= 1.5min\n",
      "[CV] min_child_weight=2, n_estimators=1000, max_depth=11, colsample_bytree=0.8 \n",
      "[CV]  min_child_weight=2, n_estimators=1000, max_depth=11, colsample_bytree=0.8, total=  32.5s\n",
      "[CV] min_child_weight=2, n_estimators=1000, max_depth=11, colsample_bytree=0.8 \n",
      "[CV]  min_child_weight=2, n_estimators=1000, max_depth=11, colsample_bytree=0.8, total=  32.6s\n",
      "[CV] min_child_weight=2, n_estimators=1000, max_depth=11, colsample_bytree=0.8 \n",
      "[CV]  min_child_weight=2, n_estimators=1000, max_depth=11, colsample_bytree=0.8, total=  32.8s\n",
      "[CV] min_child_weight=2, n_estimators=1000, max_depth=11, colsample_bytree=0.8 \n",
      "[CV]  min_child_weight=2, n_estimators=1000, max_depth=11, colsample_bytree=0.8, total=  32.3s\n",
      "[CV] min_child_weight=2, n_estimators=1000, max_depth=11, colsample_bytree=0.8 \n",
      "[CV]  min_child_weight=2, n_estimators=1000, max_depth=11, colsample_bytree=0.8, total=  32.7s\n",
      "[CV] min_child_weight=2, n_estimators=2000, max_depth=11, colsample_bytree=0.8 \n",
      "[CV]  min_child_weight=2, n_estimators=2000, max_depth=11, colsample_bytree=0.8, total= 1.0min\n",
      "[CV] min_child_weight=2, n_estimators=2000, max_depth=11, colsample_bytree=0.8 \n",
      "[CV]  min_child_weight=2, n_estimators=2000, max_depth=11, colsample_bytree=0.8, total= 1.0min\n",
      "[CV] min_child_weight=2, n_estimators=2000, max_depth=11, colsample_bytree=0.8 \n",
      "[CV]  min_child_weight=2, n_estimators=2000, max_depth=11, colsample_bytree=0.8, total= 1.0min\n",
      "[CV] min_child_weight=2, n_estimators=2000, max_depth=11, colsample_bytree=0.8 \n",
      "[CV]  min_child_weight=2, n_estimators=2000, max_depth=11, colsample_bytree=0.8, total= 1.0min\n",
      "[CV] min_child_weight=2, n_estimators=2000, max_depth=11, colsample_bytree=0.8 \n",
      "[CV]  min_child_weight=2, n_estimators=2000, max_depth=11, colsample_bytree=0.8, total= 1.0min\n",
      "[CV] min_child_weight=2, n_estimators=3000, max_depth=11, colsample_bytree=0.8 \n",
      "[CV]  min_child_weight=2, n_estimators=3000, max_depth=11, colsample_bytree=0.8, total= 1.5min\n",
      "[CV] min_child_weight=2, n_estimators=3000, max_depth=11, colsample_bytree=0.8 \n",
      "[CV]  min_child_weight=2, n_estimators=3000, max_depth=11, colsample_bytree=0.8, total= 1.5min\n",
      "[CV] min_child_weight=2, n_estimators=3000, max_depth=11, colsample_bytree=0.8 \n",
      "[CV]  min_child_weight=2, n_estimators=3000, max_depth=11, colsample_bytree=0.8, total= 1.5min\n",
      "[CV] min_child_weight=2, n_estimators=3000, max_depth=11, colsample_bytree=0.8 \n",
      "[CV]  min_child_weight=2, n_estimators=3000, max_depth=11, colsample_bytree=0.8, total= 1.5min\n",
      "[CV] min_child_weight=2, n_estimators=3000, max_depth=11, colsample_bytree=0.8 \n",
      "[CV]  min_child_weight=2, n_estimators=3000, max_depth=11, colsample_bytree=0.8, total= 1.5min\n",
      "[CV] min_child_weight=3, n_estimators=1000, max_depth=11, colsample_bytree=0.8 \n",
      "[CV]  min_child_weight=3, n_estimators=1000, max_depth=11, colsample_bytree=0.8, total=  31.5s\n",
      "[CV] min_child_weight=3, n_estimators=1000, max_depth=11, colsample_bytree=0.8 \n",
      "[CV]  min_child_weight=3, n_estimators=1000, max_depth=11, colsample_bytree=0.8, total=  31.5s\n",
      "[CV] min_child_weight=3, n_estimators=1000, max_depth=11, colsample_bytree=0.8 \n",
      "[CV]  min_child_weight=3, n_estimators=1000, max_depth=11, colsample_bytree=0.8, total=  31.8s\n",
      "[CV] min_child_weight=3, n_estimators=1000, max_depth=11, colsample_bytree=0.8 \n",
      "[CV]  min_child_weight=3, n_estimators=1000, max_depth=11, colsample_bytree=0.8, total=  31.6s\n",
      "[CV] min_child_weight=3, n_estimators=1000, max_depth=11, colsample_bytree=0.8 \n",
      "[CV]  min_child_weight=3, n_estimators=1000, max_depth=11, colsample_bytree=0.8, total=  31.8s\n",
      "[CV] min_child_weight=3, n_estimators=2000, max_depth=11, colsample_bytree=0.8 \n",
      "[CV]  min_child_weight=3, n_estimators=2000, max_depth=11, colsample_bytree=0.8, total= 1.0min\n",
      "[CV] min_child_weight=3, n_estimators=2000, max_depth=11, colsample_bytree=0.8 \n",
      "[CV]  min_child_weight=3, n_estimators=2000, max_depth=11, colsample_bytree=0.8, total=  59.8s\n",
      "[CV] min_child_weight=3, n_estimators=2000, max_depth=11, colsample_bytree=0.8 \n",
      "[CV]  min_child_weight=3, n_estimators=2000, max_depth=11, colsample_bytree=0.8, total=  60.0s\n",
      "[CV] min_child_weight=3, n_estimators=2000, max_depth=11, colsample_bytree=0.8 \n",
      "[CV]  min_child_weight=3, n_estimators=2000, max_depth=11, colsample_bytree=0.8, total=  59.7s\n",
      "[CV] min_child_weight=3, n_estimators=2000, max_depth=11, colsample_bytree=0.8 \n",
      "[CV]  min_child_weight=3, n_estimators=2000, max_depth=11, colsample_bytree=0.8, total= 1.0min\n",
      "[CV] min_child_weight=3, n_estimators=3000, max_depth=11, colsample_bytree=0.8 \n",
      "[CV]  min_child_weight=3, n_estimators=3000, max_depth=11, colsample_bytree=0.8, total= 1.5min\n",
      "[CV] min_child_weight=3, n_estimators=3000, max_depth=11, colsample_bytree=0.8 \n",
      "[CV]  min_child_weight=3, n_estimators=3000, max_depth=11, colsample_bytree=0.8, total= 1.5min\n",
      "[CV] min_child_weight=3, n_estimators=3000, max_depth=11, colsample_bytree=0.8 \n",
      "[CV]  min_child_weight=3, n_estimators=3000, max_depth=11, colsample_bytree=0.8, total= 1.5min\n",
      "[CV] min_child_weight=3, n_estimators=3000, max_depth=11, colsample_bytree=0.8 \n",
      "[CV]  min_child_weight=3, n_estimators=3000, max_depth=11, colsample_bytree=0.8, total= 1.5min\n",
      "[CV] min_child_weight=3, n_estimators=3000, max_depth=11, colsample_bytree=0.8 \n",
      "[CV]  min_child_weight=3, n_estimators=3000, max_depth=11, colsample_bytree=0.8, total= 1.5min\n",
      "[CV] min_child_weight=4, n_estimators=1000, max_depth=11, colsample_bytree=0.8 \n",
      "[CV]  min_child_weight=4, n_estimators=1000, max_depth=11, colsample_bytree=0.8, total=  30.9s\n",
      "[CV] min_child_weight=4, n_estimators=1000, max_depth=11, colsample_bytree=0.8 \n",
      "[CV]  min_child_weight=4, n_estimators=1000, max_depth=11, colsample_bytree=0.8, total=  31.0s\n",
      "[CV] min_child_weight=4, n_estimators=1000, max_depth=11, colsample_bytree=0.8 \n",
      "[CV]  min_child_weight=4, n_estimators=1000, max_depth=11, colsample_bytree=0.8, total=  31.0s\n",
      "[CV] min_child_weight=4, n_estimators=1000, max_depth=11, colsample_bytree=0.8 \n",
      "[CV]  min_child_weight=4, n_estimators=1000, max_depth=11, colsample_bytree=0.8, total=  30.9s\n",
      "[CV] min_child_weight=4, n_estimators=1000, max_depth=11, colsample_bytree=0.8 \n",
      "[CV]  min_child_weight=4, n_estimators=1000, max_depth=11, colsample_bytree=0.8, total=  31.2s\n",
      "[CV] min_child_weight=4, n_estimators=2000, max_depth=11, colsample_bytree=0.8 \n",
      "[CV]  min_child_weight=4, n_estimators=2000, max_depth=11, colsample_bytree=0.8, total=  58.5s\n",
      "[CV] min_child_weight=4, n_estimators=2000, max_depth=11, colsample_bytree=0.8 \n",
      "[CV]  min_child_weight=4, n_estimators=2000, max_depth=11, colsample_bytree=0.8, total=  59.5s\n",
      "[CV] min_child_weight=4, n_estimators=2000, max_depth=11, colsample_bytree=0.8 \n",
      "[CV]  min_child_weight=4, n_estimators=2000, max_depth=11, colsample_bytree=0.8, total=  58.5s\n",
      "[CV] min_child_weight=4, n_estimators=2000, max_depth=11, colsample_bytree=0.8 \n",
      "[CV]  min_child_weight=4, n_estimators=2000, max_depth=11, colsample_bytree=0.8, total=  58.6s\n",
      "[CV] min_child_weight=4, n_estimators=2000, max_depth=11, colsample_bytree=0.8 \n",
      "[CV]  min_child_weight=4, n_estimators=2000, max_depth=11, colsample_bytree=0.8, total=  58.7s\n",
      "[CV] min_child_weight=4, n_estimators=3000, max_depth=11, colsample_bytree=0.8 \n",
      "[CV]  min_child_weight=4, n_estimators=3000, max_depth=11, colsample_bytree=0.8, total= 1.5min\n",
      "[CV] min_child_weight=4, n_estimators=3000, max_depth=11, colsample_bytree=0.8 \n",
      "[CV]  min_child_weight=4, n_estimators=3000, max_depth=11, colsample_bytree=0.8, total= 1.4min\n",
      "[CV] min_child_weight=4, n_estimators=3000, max_depth=11, colsample_bytree=0.8 \n",
      "[CV]  min_child_weight=4, n_estimators=3000, max_depth=11, colsample_bytree=0.8, total= 1.5min\n",
      "[CV] min_child_weight=4, n_estimators=3000, max_depth=11, colsample_bytree=0.8 \n",
      "[CV]  min_child_weight=4, n_estimators=3000, max_depth=11, colsample_bytree=0.8, total= 1.4min\n",
      "[CV] min_child_weight=4, n_estimators=3000, max_depth=11, colsample_bytree=0.8 \n",
      "[CV]  min_child_weight=4, n_estimators=3000, max_depth=11, colsample_bytree=0.8, total= 1.5min\n"
     ]
    },
    {
     "name": "stderr",
     "output_type": "stream",
     "text": [
      "[Parallel(n_jobs=1)]: Done 480 out of 480 | elapsed: 312.7min finished\n",
      "/opt/conda/envs/python35-paddle120-env/lib/python3.5/site-packages/sklearn/model_selection/_search.py:813: DeprecationWarning: The default of the `iid` parameter will change from True to False in version 0.22 and will be removed in 0.24. This will change numeric results when test-set sizes are unequal.\n",
      "  DeprecationWarning)\n"
     ]
    },
    {
     "name": "stdout",
     "output_type": "stream",
     "text": [
      "best parameters: {'min_child_weight': 4, 'n_estimators': 1000, 'max_depth': 5, 'colsample_bytree': 0.5}\n",
      "best score: -0.6619330762458744\n"
     ]
    }
   ],
   "source": [
    "# grid_search('xgb')"
   ]
  },
  {
   "cell_type": "code",
   "execution_count": null,
   "metadata": {
    "collapsed": false
   },
   "outputs": [],
   "source": []
  },
  {
   "cell_type": "code",
   "execution_count": null,
   "metadata": {
    "collapsed": false
   },
   "outputs": [],
   "source": []
  },
  {
   "cell_type": "code",
   "execution_count": null,
   "metadata": {
    "collapsed": false
   },
   "outputs": [],
   "source": []
  },
  {
   "cell_type": "code",
   "execution_count": null,
   "metadata": {
    "collapsed": false
   },
   "outputs": [],
   "source": []
  },
  {
   "cell_type": "markdown",
   "metadata": {
    "collapsed": false
   },
   "source": [
    "请点击[此处](https://ai.baidu.com/docs#/AIStudio_Project_Notebook/a38e5576)查看本环境基本用法.  <br>\n",
    "Please click [here ](https://ai.baidu.com/docs#/AIStudio_Project_Notebook/a38e5576) for more detailed instructions. "
   ]
  },
  {
   "cell_type": "code",
   "execution_count": null,
   "metadata": {
    "collapsed": false
   },
   "outputs": [],
   "source": []
  },
  {
   "cell_type": "code",
   "execution_count": null,
   "metadata": {
    "collapsed": false
   },
   "outputs": [],
   "source": []
  },
  {
   "cell_type": "code",
   "execution_count": null,
   "metadata": {
    "collapsed": false
   },
   "outputs": [],
   "source": []
  },
  {
   "cell_type": "code",
   "execution_count": null,
   "metadata": {
    "collapsed": false
   },
   "outputs": [],
   "source": []
  },
  {
   "cell_type": "code",
   "execution_count": null,
   "metadata": {
    "collapsed": false
   },
   "outputs": [],
   "source": []
  },
  {
   "cell_type": "code",
   "execution_count": null,
   "metadata": {
    "collapsed": false
   },
   "outputs": [],
   "source": []
  },
  {
   "cell_type": "code",
   "execution_count": null,
   "metadata": {
    "collapsed": false
   },
   "outputs": [],
   "source": []
  },
  {
   "cell_type": "code",
   "execution_count": null,
   "metadata": {
    "collapsed": false
   },
   "outputs": [],
   "source": []
  },
  {
   "cell_type": "code",
   "execution_count": null,
   "metadata": {
    "collapsed": false
   },
   "outputs": [],
   "source": []
  },
  {
   "cell_type": "code",
   "execution_count": null,
   "metadata": {
    "collapsed": false
   },
   "outputs": [],
   "source": []
  },
  {
   "cell_type": "code",
   "execution_count": null,
   "metadata": {
    "collapsed": false
   },
   "outputs": [],
   "source": []
  },
  {
   "cell_type": "code",
   "execution_count": null,
   "metadata": {
    "collapsed": false
   },
   "outputs": [],
   "source": []
  },
  {
   "cell_type": "code",
   "execution_count": null,
   "metadata": {
    "collapsed": false
   },
   "outputs": [],
   "source": []
  },
  {
   "cell_type": "code",
   "execution_count": null,
   "metadata": {
    "collapsed": false
   },
   "outputs": [],
   "source": []
  },
  {
   "cell_type": "code",
   "execution_count": null,
   "metadata": {
    "collapsed": false
   },
   "outputs": [],
   "source": []
  },
  {
   "cell_type": "code",
   "execution_count": null,
   "metadata": {
    "collapsed": false
   },
   "outputs": [],
   "source": []
  },
  {
   "cell_type": "code",
   "execution_count": null,
   "metadata": {
    "collapsed": false
   },
   "outputs": [],
   "source": []
  }
 ],
 "metadata": {
  "kernelspec": {
   "display_name": "PaddlePaddle 1.5.1 (Python 3.5)",
   "language": "python",
   "name": "py35-paddle1.2.0"
  },
  "language_info": {
   "codemirror_mode": {
    "name": "ipython",
    "version": 3
   },
   "file_extension": ".py",
   "mimetype": "text/x-python",
   "name": "python",
   "nbconvert_exporter": "python",
   "pygments_lexer": "ipython3",
   "version": "3.5.5"
  }
 },
 "nbformat": 4,
 "nbformat_minor": 1
}
